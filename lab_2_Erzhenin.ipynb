{
 "cells": [
  {
   "cell_type": "code",
   "execution_count": null,
   "metadata": {
    "id": "DXaFa-NFN4MQ"
   },
   "outputs": [],
   "source": [
    "! pip install -q kaggle"
   ]
  },
  {
   "cell_type": "code",
   "execution_count": null,
   "metadata": {
    "colab": {
     "base_uri": "https://localhost:8080/",
     "height": 91
    },
    "executionInfo": {
     "elapsed": 31175,
     "status": "ok",
     "timestamp": 1701531385587,
     "user": {
      "displayName": "Алексей Медведев",
      "userId": "00285943979098250409"
     },
     "user_tz": -180
    },
    "id": "nlWpDAFXTc68",
    "outputId": "d0de76d7-151f-4a1d-dcc2-4492497ea4ad"
   },
   "outputs": [
    {
     "data": {
      "text/html": [
       "\n",
       "     <input type=\"file\" id=\"files-f0b915f5-2de4-4234-b855-b66ce50f847a\" name=\"files[]\" multiple disabled\n",
       "        style=\"border:none\" />\n",
       "     <output id=\"result-f0b915f5-2de4-4234-b855-b66ce50f847a\">\n",
       "      Upload widget is only available when the cell has been executed in the\n",
       "      current browser session. Please rerun this cell to enable.\n",
       "      </output>\n",
       "      <script>// Copyright 2017 Google LLC\n",
       "//\n",
       "// Licensed under the Apache License, Version 2.0 (the \"License\");\n",
       "// you may not use this file except in compliance with the License.\n",
       "// You may obtain a copy of the License at\n",
       "//\n",
       "//      http://www.apache.org/licenses/LICENSE-2.0\n",
       "//\n",
       "// Unless required by applicable law or agreed to in writing, software\n",
       "// distributed under the License is distributed on an \"AS IS\" BASIS,\n",
       "// WITHOUT WARRANTIES OR CONDITIONS OF ANY KIND, either express or implied.\n",
       "// See the License for the specific language governing permissions and\n",
       "// limitations under the License.\n",
       "\n",
       "/**\n",
       " * @fileoverview Helpers for google.colab Python module.\n",
       " */\n",
       "(function(scope) {\n",
       "function span(text, styleAttributes = {}) {\n",
       "  const element = document.createElement('span');\n",
       "  element.textContent = text;\n",
       "  for (const key of Object.keys(styleAttributes)) {\n",
       "    element.style[key] = styleAttributes[key];\n",
       "  }\n",
       "  return element;\n",
       "}\n",
       "\n",
       "// Max number of bytes which will be uploaded at a time.\n",
       "const MAX_PAYLOAD_SIZE = 100 * 1024;\n",
       "\n",
       "function _uploadFiles(inputId, outputId) {\n",
       "  const steps = uploadFilesStep(inputId, outputId);\n",
       "  const outputElement = document.getElementById(outputId);\n",
       "  // Cache steps on the outputElement to make it available for the next call\n",
       "  // to uploadFilesContinue from Python.\n",
       "  outputElement.steps = steps;\n",
       "\n",
       "  return _uploadFilesContinue(outputId);\n",
       "}\n",
       "\n",
       "// This is roughly an async generator (not supported in the browser yet),\n",
       "// where there are multiple asynchronous steps and the Python side is going\n",
       "// to poll for completion of each step.\n",
       "// This uses a Promise to block the python side on completion of each step,\n",
       "// then passes the result of the previous step as the input to the next step.\n",
       "function _uploadFilesContinue(outputId) {\n",
       "  const outputElement = document.getElementById(outputId);\n",
       "  const steps = outputElement.steps;\n",
       "\n",
       "  const next = steps.next(outputElement.lastPromiseValue);\n",
       "  return Promise.resolve(next.value.promise).then((value) => {\n",
       "    // Cache the last promise value to make it available to the next\n",
       "    // step of the generator.\n",
       "    outputElement.lastPromiseValue = value;\n",
       "    return next.value.response;\n",
       "  });\n",
       "}\n",
       "\n",
       "/**\n",
       " * Generator function which is called between each async step of the upload\n",
       " * process.\n",
       " * @param {string} inputId Element ID of the input file picker element.\n",
       " * @param {string} outputId Element ID of the output display.\n",
       " * @return {!Iterable<!Object>} Iterable of next steps.\n",
       " */\n",
       "function* uploadFilesStep(inputId, outputId) {\n",
       "  const inputElement = document.getElementById(inputId);\n",
       "  inputElement.disabled = false;\n",
       "\n",
       "  const outputElement = document.getElementById(outputId);\n",
       "  outputElement.innerHTML = '';\n",
       "\n",
       "  const pickedPromise = new Promise((resolve) => {\n",
       "    inputElement.addEventListener('change', (e) => {\n",
       "      resolve(e.target.files);\n",
       "    });\n",
       "  });\n",
       "\n",
       "  const cancel = document.createElement('button');\n",
       "  inputElement.parentElement.appendChild(cancel);\n",
       "  cancel.textContent = 'Cancel upload';\n",
       "  const cancelPromise = new Promise((resolve) => {\n",
       "    cancel.onclick = () => {\n",
       "      resolve(null);\n",
       "    };\n",
       "  });\n",
       "\n",
       "  // Wait for the user to pick the files.\n",
       "  const files = yield {\n",
       "    promise: Promise.race([pickedPromise, cancelPromise]),\n",
       "    response: {\n",
       "      action: 'starting',\n",
       "    }\n",
       "  };\n",
       "\n",
       "  cancel.remove();\n",
       "\n",
       "  // Disable the input element since further picks are not allowed.\n",
       "  inputElement.disabled = true;\n",
       "\n",
       "  if (!files) {\n",
       "    return {\n",
       "      response: {\n",
       "        action: 'complete',\n",
       "      }\n",
       "    };\n",
       "  }\n",
       "\n",
       "  for (const file of files) {\n",
       "    const li = document.createElement('li');\n",
       "    li.append(span(file.name, {fontWeight: 'bold'}));\n",
       "    li.append(span(\n",
       "        `(${file.type || 'n/a'}) - ${file.size} bytes, ` +\n",
       "        `last modified: ${\n",
       "            file.lastModifiedDate ? file.lastModifiedDate.toLocaleDateString() :\n",
       "                                    'n/a'} - `));\n",
       "    const percent = span('0% done');\n",
       "    li.appendChild(percent);\n",
       "\n",
       "    outputElement.appendChild(li);\n",
       "\n",
       "    const fileDataPromise = new Promise((resolve) => {\n",
       "      const reader = new FileReader();\n",
       "      reader.onload = (e) => {\n",
       "        resolve(e.target.result);\n",
       "      };\n",
       "      reader.readAsArrayBuffer(file);\n",
       "    });\n",
       "    // Wait for the data to be ready.\n",
       "    let fileData = yield {\n",
       "      promise: fileDataPromise,\n",
       "      response: {\n",
       "        action: 'continue',\n",
       "      }\n",
       "    };\n",
       "\n",
       "    // Use a chunked sending to avoid message size limits. See b/62115660.\n",
       "    let position = 0;\n",
       "    do {\n",
       "      const length = Math.min(fileData.byteLength - position, MAX_PAYLOAD_SIZE);\n",
       "      const chunk = new Uint8Array(fileData, position, length);\n",
       "      position += length;\n",
       "\n",
       "      const base64 = btoa(String.fromCharCode.apply(null, chunk));\n",
       "      yield {\n",
       "        response: {\n",
       "          action: 'append',\n",
       "          file: file.name,\n",
       "          data: base64,\n",
       "        },\n",
       "      };\n",
       "\n",
       "      let percentDone = fileData.byteLength === 0 ?\n",
       "          100 :\n",
       "          Math.round((position / fileData.byteLength) * 100);\n",
       "      percent.textContent = `${percentDone}% done`;\n",
       "\n",
       "    } while (position < fileData.byteLength);\n",
       "  }\n",
       "\n",
       "  // All done.\n",
       "  yield {\n",
       "    response: {\n",
       "      action: 'complete',\n",
       "    }\n",
       "  };\n",
       "}\n",
       "\n",
       "scope.google = scope.google || {};\n",
       "scope.google.colab = scope.google.colab || {};\n",
       "scope.google.colab._files = {\n",
       "  _uploadFiles,\n",
       "  _uploadFilesContinue,\n",
       "};\n",
       "})(self);\n",
       "</script> "
      ],
      "text/plain": [
       "<IPython.core.display.HTML object>"
      ]
     },
     "metadata": {},
     "output_type": "display_data"
    },
    {
     "name": "stdout",
     "output_type": "stream",
     "text": [
      "Saving kaggle.json to kaggle (1).json\n"
     ]
    },
    {
     "data": {
      "text/plain": [
       "{'kaggle (1).json': b'{\"username\":\"alekseimedvedev\",\"key\":\"e7e2e8ad9f177293686bb5c420c22c41\"}'}"
      ]
     },
     "execution_count": 540,
     "metadata": {},
     "output_type": "execute_result"
    }
   ],
   "source": [
    "from google.colab import files\n",
    "files.upload()"
   ]
  },
  {
   "cell_type": "code",
   "execution_count": null,
   "metadata": {
    "colab": {
     "base_uri": "https://localhost:8080/"
    },
    "executionInfo": {
     "elapsed": 427,
     "status": "ok",
     "timestamp": 1701531386004,
     "user": {
      "displayName": "Алексей Медведев",
      "userId": "00285943979098250409"
     },
     "user_tz": -180
    },
    "id": "Ezj72L7iTuMx",
    "outputId": "f58e5f62-0a2e-46f4-e8c1-72ddd0dedfba"
   },
   "outputs": [
    {
     "name": "stdout",
     "output_type": "stream",
     "text": [
      "mkdir: cannot create directory ‘/root/.kaggle’: File exists\n"
     ]
    }
   ],
   "source": [
    "! mkdir ~/.kaggle\n",
    "! cp kaggle.json ~/.kaggle/\n",
    "! chmod 600 ~/.kaggle/kaggle.json"
   ]
  },
  {
   "cell_type": "code",
   "execution_count": null,
   "metadata": {
    "colab": {
     "base_uri": "https://localhost:8080/"
    },
    "executionInfo": {
     "elapsed": 946,
     "status": "ok",
     "timestamp": 1701531386946,
     "user": {
      "displayName": "Алексей Медведев",
      "userId": "00285943979098250409"
     },
     "user_tz": -180
    },
    "id": "JUy77dnOUIvz",
    "outputId": "103dc841-9f8d-4650-9723-d13f2ec18574"
   },
   "outputs": [
    {
     "name": "stdout",
     "output_type": "stream",
     "text": [
      "predict-diabetes-based-on-diagnostic-measures.zip: Skipping, found more recently modified local copy (use --force to force download)\n"
     ]
    }
   ],
   "source": [
    "! kaggle datasets download -d houcembenmansour/predict-diabetes-based-on-diagnostic-measures"
   ]
  },
  {
   "cell_type": "code",
   "execution_count": null,
   "metadata": {
    "colab": {
     "base_uri": "https://localhost:8080/"
    },
    "executionInfo": {
     "elapsed": 10301,
     "status": "ok",
     "timestamp": 1701531397239,
     "user": {
      "displayName": "Алексей Медведев",
      "userId": "00285943979098250409"
     },
     "user_tz": -180
    },
    "id": "SCWyZaCcVtKx",
    "outputId": "a09b8e0e-b367-4247-82e3-389799a2b94e"
   },
   "outputs": [
    {
     "name": "stdout",
     "output_type": "stream",
     "text": [
      "Archive:  /content/predict-diabetes-based-on-diagnostic-measures.zip\n",
      "replace /content/predict-diabetes-based-on-diagnostic-measures/diabetes.csv? [y]es, [n]o, [A]ll, [N]one, [r]ename: N\n"
     ]
    }
   ],
   "source": [
    "! unzip '/content/predict-diabetes-based-on-diagnostic-measures.zip' -d '/content/predict-diabetes-based-on-diagnostic-measures'"
   ]
  },
  {
   "cell_type": "code",
   "execution_count": null,
   "metadata": {
    "id": "ZYppyROyWO3f"
   },
   "outputs": [],
   "source": [
    "import numpy as np\n",
    "import pandas as pd\n",
    "from matplotlib import pyplot as plt\n",
    "%matplotlib inline"
   ]
  },
  {
   "cell_type": "code",
   "execution_count": null,
   "metadata": {
    "colab": {
     "base_uri": "https://localhost:8080/",
     "height": 206
    },
    "executionInfo": {
     "elapsed": 23,
     "status": "ok",
     "timestamp": 1701531397241,
     "user": {
      "displayName": "Алексей Медведев",
      "userId": "00285943979098250409"
     },
     "user_tz": -180
    },
    "id": "mmYpbizDXDCl",
    "outputId": "7719d02d-40db-483f-a63f-d427959d7a00"
   },
   "outputs": [
    {
     "data": {
      "text/html": [
       "\n",
       "  <div id=\"df-c2ece405-2406-4af6-af38-4aba07e8a136\" class=\"colab-df-container\">\n",
       "    <div>\n",
       "<style scoped>\n",
       "    .dataframe tbody tr th:only-of-type {\n",
       "        vertical-align: middle;\n",
       "    }\n",
       "\n",
       "    .dataframe tbody tr th {\n",
       "        vertical-align: top;\n",
       "    }\n",
       "\n",
       "    .dataframe thead th {\n",
       "        text-align: right;\n",
       "    }\n",
       "</style>\n",
       "<table border=\"1\" class=\"dataframe\">\n",
       "  <thead>\n",
       "    <tr style=\"text-align: right;\">\n",
       "      <th></th>\n",
       "      <th>patient_number</th>\n",
       "      <th>cholesterol</th>\n",
       "      <th>glucose</th>\n",
       "      <th>hdl_chol</th>\n",
       "      <th>chol_hdl_ratio</th>\n",
       "      <th>age</th>\n",
       "      <th>gender</th>\n",
       "      <th>height</th>\n",
       "      <th>weight</th>\n",
       "      <th>bmi</th>\n",
       "      <th>systolic_bp</th>\n",
       "      <th>diastolic_bp</th>\n",
       "      <th>waist</th>\n",
       "      <th>hip</th>\n",
       "      <th>waist_hip_ratio</th>\n",
       "      <th>diabetes</th>\n",
       "    </tr>\n",
       "  </thead>\n",
       "  <tbody>\n",
       "    <tr>\n",
       "      <th>0</th>\n",
       "      <td>1</td>\n",
       "      <td>193</td>\n",
       "      <td>77</td>\n",
       "      <td>49</td>\n",
       "      <td>3,9</td>\n",
       "      <td>19</td>\n",
       "      <td>female</td>\n",
       "      <td>61</td>\n",
       "      <td>119</td>\n",
       "      <td>22,5</td>\n",
       "      <td>118</td>\n",
       "      <td>70</td>\n",
       "      <td>32</td>\n",
       "      <td>38</td>\n",
       "      <td>0,84</td>\n",
       "      <td>No diabetes</td>\n",
       "    </tr>\n",
       "    <tr>\n",
       "      <th>1</th>\n",
       "      <td>2</td>\n",
       "      <td>146</td>\n",
       "      <td>79</td>\n",
       "      <td>41</td>\n",
       "      <td>3,6</td>\n",
       "      <td>19</td>\n",
       "      <td>female</td>\n",
       "      <td>60</td>\n",
       "      <td>135</td>\n",
       "      <td>26,4</td>\n",
       "      <td>108</td>\n",
       "      <td>58</td>\n",
       "      <td>33</td>\n",
       "      <td>40</td>\n",
       "      <td>0,83</td>\n",
       "      <td>No diabetes</td>\n",
       "    </tr>\n",
       "    <tr>\n",
       "      <th>2</th>\n",
       "      <td>3</td>\n",
       "      <td>217</td>\n",
       "      <td>75</td>\n",
       "      <td>54</td>\n",
       "      <td>4</td>\n",
       "      <td>20</td>\n",
       "      <td>female</td>\n",
       "      <td>67</td>\n",
       "      <td>187</td>\n",
       "      <td>29,3</td>\n",
       "      <td>110</td>\n",
       "      <td>72</td>\n",
       "      <td>40</td>\n",
       "      <td>45</td>\n",
       "      <td>0,89</td>\n",
       "      <td>No diabetes</td>\n",
       "    </tr>\n",
       "    <tr>\n",
       "      <th>3</th>\n",
       "      <td>4</td>\n",
       "      <td>226</td>\n",
       "      <td>97</td>\n",
       "      <td>70</td>\n",
       "      <td>3,2</td>\n",
       "      <td>20</td>\n",
       "      <td>female</td>\n",
       "      <td>64</td>\n",
       "      <td>114</td>\n",
       "      <td>19,6</td>\n",
       "      <td>122</td>\n",
       "      <td>64</td>\n",
       "      <td>31</td>\n",
       "      <td>39</td>\n",
       "      <td>0,79</td>\n",
       "      <td>No diabetes</td>\n",
       "    </tr>\n",
       "    <tr>\n",
       "      <th>4</th>\n",
       "      <td>5</td>\n",
       "      <td>164</td>\n",
       "      <td>91</td>\n",
       "      <td>67</td>\n",
       "      <td>2,4</td>\n",
       "      <td>20</td>\n",
       "      <td>female</td>\n",
       "      <td>70</td>\n",
       "      <td>141</td>\n",
       "      <td>20,2</td>\n",
       "      <td>122</td>\n",
       "      <td>86</td>\n",
       "      <td>32</td>\n",
       "      <td>39</td>\n",
       "      <td>0,82</td>\n",
       "      <td>No diabetes</td>\n",
       "    </tr>\n",
       "  </tbody>\n",
       "</table>\n",
       "</div>\n",
       "    <div class=\"colab-df-buttons\">\n",
       "\n",
       "  <div class=\"colab-df-container\">\n",
       "    <button class=\"colab-df-convert\" onclick=\"convertToInteractive('df-c2ece405-2406-4af6-af38-4aba07e8a136')\"\n",
       "            title=\"Convert this dataframe to an interactive table.\"\n",
       "            style=\"display:none;\">\n",
       "\n",
       "  <svg xmlns=\"http://www.w3.org/2000/svg\" height=\"24px\" viewBox=\"0 -960 960 960\">\n",
       "    <path d=\"M120-120v-720h720v720H120Zm60-500h600v-160H180v160Zm220 220h160v-160H400v160Zm0 220h160v-160H400v160ZM180-400h160v-160H180v160Zm440 0h160v-160H620v160ZM180-180h160v-160H180v160Zm440 0h160v-160H620v160Z\"/>\n",
       "  </svg>\n",
       "    </button>\n",
       "\n",
       "  <style>\n",
       "    .colab-df-container {\n",
       "      display:flex;\n",
       "      gap: 12px;\n",
       "    }\n",
       "\n",
       "    .colab-df-convert {\n",
       "      background-color: #E8F0FE;\n",
       "      border: none;\n",
       "      border-radius: 50%;\n",
       "      cursor: pointer;\n",
       "      display: none;\n",
       "      fill: #1967D2;\n",
       "      height: 32px;\n",
       "      padding: 0 0 0 0;\n",
       "      width: 32px;\n",
       "    }\n",
       "\n",
       "    .colab-df-convert:hover {\n",
       "      background-color: #E2EBFA;\n",
       "      box-shadow: 0px 1px 2px rgba(60, 64, 67, 0.3), 0px 1px 3px 1px rgba(60, 64, 67, 0.15);\n",
       "      fill: #174EA6;\n",
       "    }\n",
       "\n",
       "    .colab-df-buttons div {\n",
       "      margin-bottom: 4px;\n",
       "    }\n",
       "\n",
       "    [theme=dark] .colab-df-convert {\n",
       "      background-color: #3B4455;\n",
       "      fill: #D2E3FC;\n",
       "    }\n",
       "\n",
       "    [theme=dark] .colab-df-convert:hover {\n",
       "      background-color: #434B5C;\n",
       "      box-shadow: 0px 1px 3px 1px rgba(0, 0, 0, 0.15);\n",
       "      filter: drop-shadow(0px 1px 2px rgba(0, 0, 0, 0.3));\n",
       "      fill: #FFFFFF;\n",
       "    }\n",
       "  </style>\n",
       "\n",
       "    <script>\n",
       "      const buttonEl =\n",
       "        document.querySelector('#df-c2ece405-2406-4af6-af38-4aba07e8a136 button.colab-df-convert');\n",
       "      buttonEl.style.display =\n",
       "        google.colab.kernel.accessAllowed ? 'block' : 'none';\n",
       "\n",
       "      async function convertToInteractive(key) {\n",
       "        const element = document.querySelector('#df-c2ece405-2406-4af6-af38-4aba07e8a136');\n",
       "        const dataTable =\n",
       "          await google.colab.kernel.invokeFunction('convertToInteractive',\n",
       "                                                    [key], {});\n",
       "        if (!dataTable) return;\n",
       "\n",
       "        const docLinkHtml = 'Like what you see? Visit the ' +\n",
       "          '<a target=\"_blank\" href=https://colab.research.google.com/notebooks/data_table.ipynb>data table notebook</a>'\n",
       "          + ' to learn more about interactive tables.';\n",
       "        element.innerHTML = '';\n",
       "        dataTable['output_type'] = 'display_data';\n",
       "        await google.colab.output.renderOutput(dataTable, element);\n",
       "        const docLink = document.createElement('div');\n",
       "        docLink.innerHTML = docLinkHtml;\n",
       "        element.appendChild(docLink);\n",
       "      }\n",
       "    </script>\n",
       "  </div>\n",
       "\n",
       "\n",
       "<div id=\"df-e7119046-0e47-46e0-9295-e61ce6414b72\">\n",
       "  <button class=\"colab-df-quickchart\" onclick=\"quickchart('df-e7119046-0e47-46e0-9295-e61ce6414b72')\"\n",
       "            title=\"Suggest charts\"\n",
       "            style=\"display:none;\">\n",
       "\n",
       "<svg xmlns=\"http://www.w3.org/2000/svg\" height=\"24px\"viewBox=\"0 0 24 24\"\n",
       "     width=\"24px\">\n",
       "    <g>\n",
       "        <path d=\"M19 3H5c-1.1 0-2 .9-2 2v14c0 1.1.9 2 2 2h14c1.1 0 2-.9 2-2V5c0-1.1-.9-2-2-2zM9 17H7v-7h2v7zm4 0h-2V7h2v10zm4 0h-2v-4h2v4z\"/>\n",
       "    </g>\n",
       "</svg>\n",
       "  </button>\n",
       "\n",
       "<style>\n",
       "  .colab-df-quickchart {\n",
       "      --bg-color: #E8F0FE;\n",
       "      --fill-color: #1967D2;\n",
       "      --hover-bg-color: #E2EBFA;\n",
       "      --hover-fill-color: #174EA6;\n",
       "      --disabled-fill-color: #AAA;\n",
       "      --disabled-bg-color: #DDD;\n",
       "  }\n",
       "\n",
       "  [theme=dark] .colab-df-quickchart {\n",
       "      --bg-color: #3B4455;\n",
       "      --fill-color: #D2E3FC;\n",
       "      --hover-bg-color: #434B5C;\n",
       "      --hover-fill-color: #FFFFFF;\n",
       "      --disabled-bg-color: #3B4455;\n",
       "      --disabled-fill-color: #666;\n",
       "  }\n",
       "\n",
       "  .colab-df-quickchart {\n",
       "    background-color: var(--bg-color);\n",
       "    border: none;\n",
       "    border-radius: 50%;\n",
       "    cursor: pointer;\n",
       "    display: none;\n",
       "    fill: var(--fill-color);\n",
       "    height: 32px;\n",
       "    padding: 0;\n",
       "    width: 32px;\n",
       "  }\n",
       "\n",
       "  .colab-df-quickchart:hover {\n",
       "    background-color: var(--hover-bg-color);\n",
       "    box-shadow: 0 1px 2px rgba(60, 64, 67, 0.3), 0 1px 3px 1px rgba(60, 64, 67, 0.15);\n",
       "    fill: var(--button-hover-fill-color);\n",
       "  }\n",
       "\n",
       "  .colab-df-quickchart-complete:disabled,\n",
       "  .colab-df-quickchart-complete:disabled:hover {\n",
       "    background-color: var(--disabled-bg-color);\n",
       "    fill: var(--disabled-fill-color);\n",
       "    box-shadow: none;\n",
       "  }\n",
       "\n",
       "  .colab-df-spinner {\n",
       "    border: 2px solid var(--fill-color);\n",
       "    border-color: transparent;\n",
       "    border-bottom-color: var(--fill-color);\n",
       "    animation:\n",
       "      spin 1s steps(1) infinite;\n",
       "  }\n",
       "\n",
       "  @keyframes spin {\n",
       "    0% {\n",
       "      border-color: transparent;\n",
       "      border-bottom-color: var(--fill-color);\n",
       "      border-left-color: var(--fill-color);\n",
       "    }\n",
       "    20% {\n",
       "      border-color: transparent;\n",
       "      border-left-color: var(--fill-color);\n",
       "      border-top-color: var(--fill-color);\n",
       "    }\n",
       "    30% {\n",
       "      border-color: transparent;\n",
       "      border-left-color: var(--fill-color);\n",
       "      border-top-color: var(--fill-color);\n",
       "      border-right-color: var(--fill-color);\n",
       "    }\n",
       "    40% {\n",
       "      border-color: transparent;\n",
       "      border-right-color: var(--fill-color);\n",
       "      border-top-color: var(--fill-color);\n",
       "    }\n",
       "    60% {\n",
       "      border-color: transparent;\n",
       "      border-right-color: var(--fill-color);\n",
       "    }\n",
       "    80% {\n",
       "      border-color: transparent;\n",
       "      border-right-color: var(--fill-color);\n",
       "      border-bottom-color: var(--fill-color);\n",
       "    }\n",
       "    90% {\n",
       "      border-color: transparent;\n",
       "      border-bottom-color: var(--fill-color);\n",
       "    }\n",
       "  }\n",
       "</style>\n",
       "\n",
       "  <script>\n",
       "    async function quickchart(key) {\n",
       "      const quickchartButtonEl =\n",
       "        document.querySelector('#' + key + ' button');\n",
       "      quickchartButtonEl.disabled = true;  // To prevent multiple clicks.\n",
       "      quickchartButtonEl.classList.add('colab-df-spinner');\n",
       "      try {\n",
       "        const charts = await google.colab.kernel.invokeFunction(\n",
       "            'suggestCharts', [key], {});\n",
       "      } catch (error) {\n",
       "        console.error('Error during call to suggestCharts:', error);\n",
       "      }\n",
       "      quickchartButtonEl.classList.remove('colab-df-spinner');\n",
       "      quickchartButtonEl.classList.add('colab-df-quickchart-complete');\n",
       "    }\n",
       "    (() => {\n",
       "      let quickchartButtonEl =\n",
       "        document.querySelector('#df-e7119046-0e47-46e0-9295-e61ce6414b72 button');\n",
       "      quickchartButtonEl.style.display =\n",
       "        google.colab.kernel.accessAllowed ? 'block' : 'none';\n",
       "    })();\n",
       "  </script>\n",
       "</div>\n",
       "    </div>\n",
       "  </div>\n"
      ],
      "text/plain": [
       "   patient_number  cholesterol  glucose  hdl_chol chol_hdl_ratio  age  gender  \\\n",
       "0               1          193       77        49            3,9   19  female   \n",
       "1               2          146       79        41            3,6   19  female   \n",
       "2               3          217       75        54              4   20  female   \n",
       "3               4          226       97        70            3,2   20  female   \n",
       "4               5          164       91        67            2,4   20  female   \n",
       "\n",
       "   height  weight   bmi  systolic_bp  diastolic_bp  waist  hip  \\\n",
       "0      61     119  22,5          118            70     32   38   \n",
       "1      60     135  26,4          108            58     33   40   \n",
       "2      67     187  29,3          110            72     40   45   \n",
       "3      64     114  19,6          122            64     31   39   \n",
       "4      70     141  20,2          122            86     32   39   \n",
       "\n",
       "  waist_hip_ratio     diabetes  \n",
       "0            0,84  No diabetes  \n",
       "1            0,83  No diabetes  \n",
       "2            0,89  No diabetes  \n",
       "3            0,79  No diabetes  \n",
       "4            0,82  No diabetes  "
      ]
     },
     "execution_count": 545,
     "metadata": {},
     "output_type": "execute_result"
    }
   ],
   "source": [
    "df=pd.read_csv('/content/predict-diabetes-based-on-diagnostic-measures/diabetes.csv')\n",
    "df.head()"
   ]
  },
  {
   "cell_type": "code",
   "execution_count": null,
   "metadata": {
    "colab": {
     "base_uri": "https://localhost:8080/",
     "height": 206
    },
    "executionInfo": {
     "elapsed": 21,
     "status": "ok",
     "timestamp": 1701531397242,
     "user": {
      "displayName": "Алексей Медведев",
      "userId": "00285943979098250409"
     },
     "user_tz": -180
    },
    "id": "SQ08Ycz6YzQP",
    "outputId": "a515f26d-585b-4f89-e509-db85f552bb6d"
   },
   "outputs": [
    {
     "data": {
      "text/html": [
       "\n",
       "  <div id=\"df-e1ec13f2-f676-4a22-a30b-79bf94a45c1b\" class=\"colab-df-container\">\n",
       "    <div>\n",
       "<style scoped>\n",
       "    .dataframe tbody tr th:only-of-type {\n",
       "        vertical-align: middle;\n",
       "    }\n",
       "\n",
       "    .dataframe tbody tr th {\n",
       "        vertical-align: top;\n",
       "    }\n",
       "\n",
       "    .dataframe thead th {\n",
       "        text-align: right;\n",
       "    }\n",
       "</style>\n",
       "<table border=\"1\" class=\"dataframe\">\n",
       "  <thead>\n",
       "    <tr style=\"text-align: right;\">\n",
       "      <th></th>\n",
       "      <th>patient_number</th>\n",
       "      <th>cholesterol</th>\n",
       "      <th>glucose</th>\n",
       "      <th>hdl_chol</th>\n",
       "      <th>chol_hdl_ratio</th>\n",
       "      <th>age</th>\n",
       "      <th>gender</th>\n",
       "      <th>height</th>\n",
       "      <th>weight</th>\n",
       "      <th>bmi</th>\n",
       "      <th>systolic_bp</th>\n",
       "      <th>diastolic_bp</th>\n",
       "      <th>waist</th>\n",
       "      <th>hip</th>\n",
       "      <th>waist_hip_ratio</th>\n",
       "    </tr>\n",
       "  </thead>\n",
       "  <tbody>\n",
       "    <tr>\n",
       "      <th>0</th>\n",
       "      <td>1</td>\n",
       "      <td>193</td>\n",
       "      <td>77</td>\n",
       "      <td>49</td>\n",
       "      <td>3,9</td>\n",
       "      <td>19</td>\n",
       "      <td>female</td>\n",
       "      <td>61</td>\n",
       "      <td>119</td>\n",
       "      <td>22,5</td>\n",
       "      <td>118</td>\n",
       "      <td>70</td>\n",
       "      <td>32</td>\n",
       "      <td>38</td>\n",
       "      <td>0,84</td>\n",
       "    </tr>\n",
       "    <tr>\n",
       "      <th>1</th>\n",
       "      <td>2</td>\n",
       "      <td>146</td>\n",
       "      <td>79</td>\n",
       "      <td>41</td>\n",
       "      <td>3,6</td>\n",
       "      <td>19</td>\n",
       "      <td>female</td>\n",
       "      <td>60</td>\n",
       "      <td>135</td>\n",
       "      <td>26,4</td>\n",
       "      <td>108</td>\n",
       "      <td>58</td>\n",
       "      <td>33</td>\n",
       "      <td>40</td>\n",
       "      <td>0,83</td>\n",
       "    </tr>\n",
       "    <tr>\n",
       "      <th>2</th>\n",
       "      <td>3</td>\n",
       "      <td>217</td>\n",
       "      <td>75</td>\n",
       "      <td>54</td>\n",
       "      <td>4</td>\n",
       "      <td>20</td>\n",
       "      <td>female</td>\n",
       "      <td>67</td>\n",
       "      <td>187</td>\n",
       "      <td>29,3</td>\n",
       "      <td>110</td>\n",
       "      <td>72</td>\n",
       "      <td>40</td>\n",
       "      <td>45</td>\n",
       "      <td>0,89</td>\n",
       "    </tr>\n",
       "    <tr>\n",
       "      <th>3</th>\n",
       "      <td>4</td>\n",
       "      <td>226</td>\n",
       "      <td>97</td>\n",
       "      <td>70</td>\n",
       "      <td>3,2</td>\n",
       "      <td>20</td>\n",
       "      <td>female</td>\n",
       "      <td>64</td>\n",
       "      <td>114</td>\n",
       "      <td>19,6</td>\n",
       "      <td>122</td>\n",
       "      <td>64</td>\n",
       "      <td>31</td>\n",
       "      <td>39</td>\n",
       "      <td>0,79</td>\n",
       "    </tr>\n",
       "    <tr>\n",
       "      <th>4</th>\n",
       "      <td>5</td>\n",
       "      <td>164</td>\n",
       "      <td>91</td>\n",
       "      <td>67</td>\n",
       "      <td>2,4</td>\n",
       "      <td>20</td>\n",
       "      <td>female</td>\n",
       "      <td>70</td>\n",
       "      <td>141</td>\n",
       "      <td>20,2</td>\n",
       "      <td>122</td>\n",
       "      <td>86</td>\n",
       "      <td>32</td>\n",
       "      <td>39</td>\n",
       "      <td>0,82</td>\n",
       "    </tr>\n",
       "  </tbody>\n",
       "</table>\n",
       "</div>\n",
       "    <div class=\"colab-df-buttons\">\n",
       "\n",
       "  <div class=\"colab-df-container\">\n",
       "    <button class=\"colab-df-convert\" onclick=\"convertToInteractive('df-e1ec13f2-f676-4a22-a30b-79bf94a45c1b')\"\n",
       "            title=\"Convert this dataframe to an interactive table.\"\n",
       "            style=\"display:none;\">\n",
       "\n",
       "  <svg xmlns=\"http://www.w3.org/2000/svg\" height=\"24px\" viewBox=\"0 -960 960 960\">\n",
       "    <path d=\"M120-120v-720h720v720H120Zm60-500h600v-160H180v160Zm220 220h160v-160H400v160Zm0 220h160v-160H400v160ZM180-400h160v-160H180v160Zm440 0h160v-160H620v160ZM180-180h160v-160H180v160Zm440 0h160v-160H620v160Z\"/>\n",
       "  </svg>\n",
       "    </button>\n",
       "\n",
       "  <style>\n",
       "    .colab-df-container {\n",
       "      display:flex;\n",
       "      gap: 12px;\n",
       "    }\n",
       "\n",
       "    .colab-df-convert {\n",
       "      background-color: #E8F0FE;\n",
       "      border: none;\n",
       "      border-radius: 50%;\n",
       "      cursor: pointer;\n",
       "      display: none;\n",
       "      fill: #1967D2;\n",
       "      height: 32px;\n",
       "      padding: 0 0 0 0;\n",
       "      width: 32px;\n",
       "    }\n",
       "\n",
       "    .colab-df-convert:hover {\n",
       "      background-color: #E2EBFA;\n",
       "      box-shadow: 0px 1px 2px rgba(60, 64, 67, 0.3), 0px 1px 3px 1px rgba(60, 64, 67, 0.15);\n",
       "      fill: #174EA6;\n",
       "    }\n",
       "\n",
       "    .colab-df-buttons div {\n",
       "      margin-bottom: 4px;\n",
       "    }\n",
       "\n",
       "    [theme=dark] .colab-df-convert {\n",
       "      background-color: #3B4455;\n",
       "      fill: #D2E3FC;\n",
       "    }\n",
       "\n",
       "    [theme=dark] .colab-df-convert:hover {\n",
       "      background-color: #434B5C;\n",
       "      box-shadow: 0px 1px 3px 1px rgba(0, 0, 0, 0.15);\n",
       "      filter: drop-shadow(0px 1px 2px rgba(0, 0, 0, 0.3));\n",
       "      fill: #FFFFFF;\n",
       "    }\n",
       "  </style>\n",
       "\n",
       "    <script>\n",
       "      const buttonEl =\n",
       "        document.querySelector('#df-e1ec13f2-f676-4a22-a30b-79bf94a45c1b button.colab-df-convert');\n",
       "      buttonEl.style.display =\n",
       "        google.colab.kernel.accessAllowed ? 'block' : 'none';\n",
       "\n",
       "      async function convertToInteractive(key) {\n",
       "        const element = document.querySelector('#df-e1ec13f2-f676-4a22-a30b-79bf94a45c1b');\n",
       "        const dataTable =\n",
       "          await google.colab.kernel.invokeFunction('convertToInteractive',\n",
       "                                                    [key], {});\n",
       "        if (!dataTable) return;\n",
       "\n",
       "        const docLinkHtml = 'Like what you see? Visit the ' +\n",
       "          '<a target=\"_blank\" href=https://colab.research.google.com/notebooks/data_table.ipynb>data table notebook</a>'\n",
       "          + ' to learn more about interactive tables.';\n",
       "        element.innerHTML = '';\n",
       "        dataTable['output_type'] = 'display_data';\n",
       "        await google.colab.output.renderOutput(dataTable, element);\n",
       "        const docLink = document.createElement('div');\n",
       "        docLink.innerHTML = docLinkHtml;\n",
       "        element.appendChild(docLink);\n",
       "      }\n",
       "    </script>\n",
       "  </div>\n",
       "\n",
       "\n",
       "<div id=\"df-81358100-30a0-450a-aeaa-22d76ac962e8\">\n",
       "  <button class=\"colab-df-quickchart\" onclick=\"quickchart('df-81358100-30a0-450a-aeaa-22d76ac962e8')\"\n",
       "            title=\"Suggest charts\"\n",
       "            style=\"display:none;\">\n",
       "\n",
       "<svg xmlns=\"http://www.w3.org/2000/svg\" height=\"24px\"viewBox=\"0 0 24 24\"\n",
       "     width=\"24px\">\n",
       "    <g>\n",
       "        <path d=\"M19 3H5c-1.1 0-2 .9-2 2v14c0 1.1.9 2 2 2h14c1.1 0 2-.9 2-2V5c0-1.1-.9-2-2-2zM9 17H7v-7h2v7zm4 0h-2V7h2v10zm4 0h-2v-4h2v4z\"/>\n",
       "    </g>\n",
       "</svg>\n",
       "  </button>\n",
       "\n",
       "<style>\n",
       "  .colab-df-quickchart {\n",
       "      --bg-color: #E8F0FE;\n",
       "      --fill-color: #1967D2;\n",
       "      --hover-bg-color: #E2EBFA;\n",
       "      --hover-fill-color: #174EA6;\n",
       "      --disabled-fill-color: #AAA;\n",
       "      --disabled-bg-color: #DDD;\n",
       "  }\n",
       "\n",
       "  [theme=dark] .colab-df-quickchart {\n",
       "      --bg-color: #3B4455;\n",
       "      --fill-color: #D2E3FC;\n",
       "      --hover-bg-color: #434B5C;\n",
       "      --hover-fill-color: #FFFFFF;\n",
       "      --disabled-bg-color: #3B4455;\n",
       "      --disabled-fill-color: #666;\n",
       "  }\n",
       "\n",
       "  .colab-df-quickchart {\n",
       "    background-color: var(--bg-color);\n",
       "    border: none;\n",
       "    border-radius: 50%;\n",
       "    cursor: pointer;\n",
       "    display: none;\n",
       "    fill: var(--fill-color);\n",
       "    height: 32px;\n",
       "    padding: 0;\n",
       "    width: 32px;\n",
       "  }\n",
       "\n",
       "  .colab-df-quickchart:hover {\n",
       "    background-color: var(--hover-bg-color);\n",
       "    box-shadow: 0 1px 2px rgba(60, 64, 67, 0.3), 0 1px 3px 1px rgba(60, 64, 67, 0.15);\n",
       "    fill: var(--button-hover-fill-color);\n",
       "  }\n",
       "\n",
       "  .colab-df-quickchart-complete:disabled,\n",
       "  .colab-df-quickchart-complete:disabled:hover {\n",
       "    background-color: var(--disabled-bg-color);\n",
       "    fill: var(--disabled-fill-color);\n",
       "    box-shadow: none;\n",
       "  }\n",
       "\n",
       "  .colab-df-spinner {\n",
       "    border: 2px solid var(--fill-color);\n",
       "    border-color: transparent;\n",
       "    border-bottom-color: var(--fill-color);\n",
       "    animation:\n",
       "      spin 1s steps(1) infinite;\n",
       "  }\n",
       "\n",
       "  @keyframes spin {\n",
       "    0% {\n",
       "      border-color: transparent;\n",
       "      border-bottom-color: var(--fill-color);\n",
       "      border-left-color: var(--fill-color);\n",
       "    }\n",
       "    20% {\n",
       "      border-color: transparent;\n",
       "      border-left-color: var(--fill-color);\n",
       "      border-top-color: var(--fill-color);\n",
       "    }\n",
       "    30% {\n",
       "      border-color: transparent;\n",
       "      border-left-color: var(--fill-color);\n",
       "      border-top-color: var(--fill-color);\n",
       "      border-right-color: var(--fill-color);\n",
       "    }\n",
       "    40% {\n",
       "      border-color: transparent;\n",
       "      border-right-color: var(--fill-color);\n",
       "      border-top-color: var(--fill-color);\n",
       "    }\n",
       "    60% {\n",
       "      border-color: transparent;\n",
       "      border-right-color: var(--fill-color);\n",
       "    }\n",
       "    80% {\n",
       "      border-color: transparent;\n",
       "      border-right-color: var(--fill-color);\n",
       "      border-bottom-color: var(--fill-color);\n",
       "    }\n",
       "    90% {\n",
       "      border-color: transparent;\n",
       "      border-bottom-color: var(--fill-color);\n",
       "    }\n",
       "  }\n",
       "</style>\n",
       "\n",
       "  <script>\n",
       "    async function quickchart(key) {\n",
       "      const quickchartButtonEl =\n",
       "        document.querySelector('#' + key + ' button');\n",
       "      quickchartButtonEl.disabled = true;  // To prevent multiple clicks.\n",
       "      quickchartButtonEl.classList.add('colab-df-spinner');\n",
       "      try {\n",
       "        const charts = await google.colab.kernel.invokeFunction(\n",
       "            'suggestCharts', [key], {});\n",
       "      } catch (error) {\n",
       "        console.error('Error during call to suggestCharts:', error);\n",
       "      }\n",
       "      quickchartButtonEl.classList.remove('colab-df-spinner');\n",
       "      quickchartButtonEl.classList.add('colab-df-quickchart-complete');\n",
       "    }\n",
       "    (() => {\n",
       "      let quickchartButtonEl =\n",
       "        document.querySelector('#df-81358100-30a0-450a-aeaa-22d76ac962e8 button');\n",
       "      quickchartButtonEl.style.display =\n",
       "        google.colab.kernel.accessAllowed ? 'block' : 'none';\n",
       "    })();\n",
       "  </script>\n",
       "</div>\n",
       "    </div>\n",
       "  </div>\n"
      ],
      "text/plain": [
       "   patient_number  cholesterol  glucose  hdl_chol chol_hdl_ratio  age  gender  \\\n",
       "0               1          193       77        49            3,9   19  female   \n",
       "1               2          146       79        41            3,6   19  female   \n",
       "2               3          217       75        54              4   20  female   \n",
       "3               4          226       97        70            3,2   20  female   \n",
       "4               5          164       91        67            2,4   20  female   \n",
       "\n",
       "   height  weight   bmi  systolic_bp  diastolic_bp  waist  hip waist_hip_ratio  \n",
       "0      61     119  22,5          118            70     32   38            0,84  \n",
       "1      60     135  26,4          108            58     33   40            0,83  \n",
       "2      67     187  29,3          110            72     40   45            0,89  \n",
       "3      64     114  19,6          122            64     31   39            0,79  \n",
       "4      70     141  20,2          122            86     32   39            0,82  "
      ]
     },
     "execution_count": 546,
     "metadata": {},
     "output_type": "execute_result"
    }
   ],
   "source": [
    "target=df['diabetes']\n",
    "df=df.drop(['diabetes'],axis=1)\n",
    "df.head()"
   ]
  },
  {
   "cell_type": "code",
   "execution_count": null,
   "metadata": {
    "colab": {
     "base_uri": "https://localhost:8080/"
    },
    "executionInfo": {
     "elapsed": 19,
     "status": "ok",
     "timestamp": 1701531397243,
     "user": {
      "displayName": "Алексей Медведев",
      "userId": "00285943979098250409"
     },
     "user_tz": -180
    },
    "id": "oBR7GsEJZFJi",
    "outputId": "3914b5b6-1d9c-46b7-b5f0-8720d259c286"
   },
   "outputs": [
    {
     "data": {
      "text/plain": [
       "No diabetes    330\n",
       "Diabetes        60\n",
       "Name: diabetes, dtype: int64"
      ]
     },
     "execution_count": 547,
     "metadata": {},
     "output_type": "execute_result"
    }
   ],
   "source": [
    "target.value_counts()"
   ]
  },
  {
   "cell_type": "code",
   "execution_count": null,
   "metadata": {
    "colab": {
     "base_uri": "https://localhost:8080/"
    },
    "executionInfo": {
     "elapsed": 447,
     "status": "ok",
     "timestamp": 1701531397675,
     "user": {
      "displayName": "Алексей Медведев",
      "userId": "00285943979098250409"
     },
     "user_tz": -180
    },
    "id": "ttzH999zZL_v",
    "outputId": "77510019-c9d7-46cc-b9d8-c7fabd5eeec5"
   },
   "outputs": [
    {
     "data": {
      "text/plain": [
       "0    330\n",
       "1     60\n",
       "Name: diabetes, dtype: int64"
      ]
     },
     "execution_count": 548,
     "metadata": {},
     "output_type": "execute_result"
    }
   ],
   "source": [
    "codes = {'No diabetes': 0, 'Diabetes': 1}\n",
    "target=target.map(codes)\n",
    "target.value_counts()"
   ]
  },
  {
   "cell_type": "code",
   "execution_count": null,
   "metadata": {
    "colab": {
     "base_uri": "https://localhost:8080/",
     "height": 206
    },
    "executionInfo": {
     "elapsed": 35,
     "status": "ok",
     "timestamp": 1701531397676,
     "user": {
      "displayName": "Алексей Медведев",
      "userId": "00285943979098250409"
     },
     "user_tz": -180
    },
    "id": "dWJ8t4q6fDaS",
    "outputId": "f172a934-75ff-4c3b-f953-2547f8d09318"
   },
   "outputs": [
    {
     "data": {
      "text/html": [
       "\n",
       "  <div id=\"df-72f28e43-9c8a-42cb-84b1-6e7b2c89661f\" class=\"colab-df-container\">\n",
       "    <div>\n",
       "<style scoped>\n",
       "    .dataframe tbody tr th:only-of-type {\n",
       "        vertical-align: middle;\n",
       "    }\n",
       "\n",
       "    .dataframe tbody tr th {\n",
       "        vertical-align: top;\n",
       "    }\n",
       "\n",
       "    .dataframe thead th {\n",
       "        text-align: right;\n",
       "    }\n",
       "</style>\n",
       "<table border=\"1\" class=\"dataframe\">\n",
       "  <thead>\n",
       "    <tr style=\"text-align: right;\">\n",
       "      <th></th>\n",
       "      <th>cholesterol</th>\n",
       "      <th>glucose</th>\n",
       "      <th>hdl_chol</th>\n",
       "      <th>chol_hdl_ratio</th>\n",
       "      <th>age</th>\n",
       "      <th>gender</th>\n",
       "      <th>height</th>\n",
       "      <th>weight</th>\n",
       "      <th>bmi</th>\n",
       "      <th>systolic_bp</th>\n",
       "      <th>diastolic_bp</th>\n",
       "      <th>waist</th>\n",
       "      <th>hip</th>\n",
       "      <th>waist_hip_ratio</th>\n",
       "    </tr>\n",
       "  </thead>\n",
       "  <tbody>\n",
       "    <tr>\n",
       "      <th>0</th>\n",
       "      <td>193</td>\n",
       "      <td>77</td>\n",
       "      <td>49</td>\n",
       "      <td>3,9</td>\n",
       "      <td>19</td>\n",
       "      <td>female</td>\n",
       "      <td>61</td>\n",
       "      <td>119</td>\n",
       "      <td>22,5</td>\n",
       "      <td>118</td>\n",
       "      <td>70</td>\n",
       "      <td>32</td>\n",
       "      <td>38</td>\n",
       "      <td>0,84</td>\n",
       "    </tr>\n",
       "    <tr>\n",
       "      <th>1</th>\n",
       "      <td>146</td>\n",
       "      <td>79</td>\n",
       "      <td>41</td>\n",
       "      <td>3,6</td>\n",
       "      <td>19</td>\n",
       "      <td>female</td>\n",
       "      <td>60</td>\n",
       "      <td>135</td>\n",
       "      <td>26,4</td>\n",
       "      <td>108</td>\n",
       "      <td>58</td>\n",
       "      <td>33</td>\n",
       "      <td>40</td>\n",
       "      <td>0,83</td>\n",
       "    </tr>\n",
       "    <tr>\n",
       "      <th>2</th>\n",
       "      <td>217</td>\n",
       "      <td>75</td>\n",
       "      <td>54</td>\n",
       "      <td>4</td>\n",
       "      <td>20</td>\n",
       "      <td>female</td>\n",
       "      <td>67</td>\n",
       "      <td>187</td>\n",
       "      <td>29,3</td>\n",
       "      <td>110</td>\n",
       "      <td>72</td>\n",
       "      <td>40</td>\n",
       "      <td>45</td>\n",
       "      <td>0,89</td>\n",
       "    </tr>\n",
       "    <tr>\n",
       "      <th>3</th>\n",
       "      <td>226</td>\n",
       "      <td>97</td>\n",
       "      <td>70</td>\n",
       "      <td>3,2</td>\n",
       "      <td>20</td>\n",
       "      <td>female</td>\n",
       "      <td>64</td>\n",
       "      <td>114</td>\n",
       "      <td>19,6</td>\n",
       "      <td>122</td>\n",
       "      <td>64</td>\n",
       "      <td>31</td>\n",
       "      <td>39</td>\n",
       "      <td>0,79</td>\n",
       "    </tr>\n",
       "    <tr>\n",
       "      <th>4</th>\n",
       "      <td>164</td>\n",
       "      <td>91</td>\n",
       "      <td>67</td>\n",
       "      <td>2,4</td>\n",
       "      <td>20</td>\n",
       "      <td>female</td>\n",
       "      <td>70</td>\n",
       "      <td>141</td>\n",
       "      <td>20,2</td>\n",
       "      <td>122</td>\n",
       "      <td>86</td>\n",
       "      <td>32</td>\n",
       "      <td>39</td>\n",
       "      <td>0,82</td>\n",
       "    </tr>\n",
       "  </tbody>\n",
       "</table>\n",
       "</div>\n",
       "    <div class=\"colab-df-buttons\">\n",
       "\n",
       "  <div class=\"colab-df-container\">\n",
       "    <button class=\"colab-df-convert\" onclick=\"convertToInteractive('df-72f28e43-9c8a-42cb-84b1-6e7b2c89661f')\"\n",
       "            title=\"Convert this dataframe to an interactive table.\"\n",
       "            style=\"display:none;\">\n",
       "\n",
       "  <svg xmlns=\"http://www.w3.org/2000/svg\" height=\"24px\" viewBox=\"0 -960 960 960\">\n",
       "    <path d=\"M120-120v-720h720v720H120Zm60-500h600v-160H180v160Zm220 220h160v-160H400v160Zm0 220h160v-160H400v160ZM180-400h160v-160H180v160Zm440 0h160v-160H620v160ZM180-180h160v-160H180v160Zm440 0h160v-160H620v160Z\"/>\n",
       "  </svg>\n",
       "    </button>\n",
       "\n",
       "  <style>\n",
       "    .colab-df-container {\n",
       "      display:flex;\n",
       "      gap: 12px;\n",
       "    }\n",
       "\n",
       "    .colab-df-convert {\n",
       "      background-color: #E8F0FE;\n",
       "      border: none;\n",
       "      border-radius: 50%;\n",
       "      cursor: pointer;\n",
       "      display: none;\n",
       "      fill: #1967D2;\n",
       "      height: 32px;\n",
       "      padding: 0 0 0 0;\n",
       "      width: 32px;\n",
       "    }\n",
       "\n",
       "    .colab-df-convert:hover {\n",
       "      background-color: #E2EBFA;\n",
       "      box-shadow: 0px 1px 2px rgba(60, 64, 67, 0.3), 0px 1px 3px 1px rgba(60, 64, 67, 0.15);\n",
       "      fill: #174EA6;\n",
       "    }\n",
       "\n",
       "    .colab-df-buttons div {\n",
       "      margin-bottom: 4px;\n",
       "    }\n",
       "\n",
       "    [theme=dark] .colab-df-convert {\n",
       "      background-color: #3B4455;\n",
       "      fill: #D2E3FC;\n",
       "    }\n",
       "\n",
       "    [theme=dark] .colab-df-convert:hover {\n",
       "      background-color: #434B5C;\n",
       "      box-shadow: 0px 1px 3px 1px rgba(0, 0, 0, 0.15);\n",
       "      filter: drop-shadow(0px 1px 2px rgba(0, 0, 0, 0.3));\n",
       "      fill: #FFFFFF;\n",
       "    }\n",
       "  </style>\n",
       "\n",
       "    <script>\n",
       "      const buttonEl =\n",
       "        document.querySelector('#df-72f28e43-9c8a-42cb-84b1-6e7b2c89661f button.colab-df-convert');\n",
       "      buttonEl.style.display =\n",
       "        google.colab.kernel.accessAllowed ? 'block' : 'none';\n",
       "\n",
       "      async function convertToInteractive(key) {\n",
       "        const element = document.querySelector('#df-72f28e43-9c8a-42cb-84b1-6e7b2c89661f');\n",
       "        const dataTable =\n",
       "          await google.colab.kernel.invokeFunction('convertToInteractive',\n",
       "                                                    [key], {});\n",
       "        if (!dataTable) return;\n",
       "\n",
       "        const docLinkHtml = 'Like what you see? Visit the ' +\n",
       "          '<a target=\"_blank\" href=https://colab.research.google.com/notebooks/data_table.ipynb>data table notebook</a>'\n",
       "          + ' to learn more about interactive tables.';\n",
       "        element.innerHTML = '';\n",
       "        dataTable['output_type'] = 'display_data';\n",
       "        await google.colab.output.renderOutput(dataTable, element);\n",
       "        const docLink = document.createElement('div');\n",
       "        docLink.innerHTML = docLinkHtml;\n",
       "        element.appendChild(docLink);\n",
       "      }\n",
       "    </script>\n",
       "  </div>\n",
       "\n",
       "\n",
       "<div id=\"df-c6c7ee29-5962-4b81-8c4d-c31e6058f1c4\">\n",
       "  <button class=\"colab-df-quickchart\" onclick=\"quickchart('df-c6c7ee29-5962-4b81-8c4d-c31e6058f1c4')\"\n",
       "            title=\"Suggest charts\"\n",
       "            style=\"display:none;\">\n",
       "\n",
       "<svg xmlns=\"http://www.w3.org/2000/svg\" height=\"24px\"viewBox=\"0 0 24 24\"\n",
       "     width=\"24px\">\n",
       "    <g>\n",
       "        <path d=\"M19 3H5c-1.1 0-2 .9-2 2v14c0 1.1.9 2 2 2h14c1.1 0 2-.9 2-2V5c0-1.1-.9-2-2-2zM9 17H7v-7h2v7zm4 0h-2V7h2v10zm4 0h-2v-4h2v4z\"/>\n",
       "    </g>\n",
       "</svg>\n",
       "  </button>\n",
       "\n",
       "<style>\n",
       "  .colab-df-quickchart {\n",
       "      --bg-color: #E8F0FE;\n",
       "      --fill-color: #1967D2;\n",
       "      --hover-bg-color: #E2EBFA;\n",
       "      --hover-fill-color: #174EA6;\n",
       "      --disabled-fill-color: #AAA;\n",
       "      --disabled-bg-color: #DDD;\n",
       "  }\n",
       "\n",
       "  [theme=dark] .colab-df-quickchart {\n",
       "      --bg-color: #3B4455;\n",
       "      --fill-color: #D2E3FC;\n",
       "      --hover-bg-color: #434B5C;\n",
       "      --hover-fill-color: #FFFFFF;\n",
       "      --disabled-bg-color: #3B4455;\n",
       "      --disabled-fill-color: #666;\n",
       "  }\n",
       "\n",
       "  .colab-df-quickchart {\n",
       "    background-color: var(--bg-color);\n",
       "    border: none;\n",
       "    border-radius: 50%;\n",
       "    cursor: pointer;\n",
       "    display: none;\n",
       "    fill: var(--fill-color);\n",
       "    height: 32px;\n",
       "    padding: 0;\n",
       "    width: 32px;\n",
       "  }\n",
       "\n",
       "  .colab-df-quickchart:hover {\n",
       "    background-color: var(--hover-bg-color);\n",
       "    box-shadow: 0 1px 2px rgba(60, 64, 67, 0.3), 0 1px 3px 1px rgba(60, 64, 67, 0.15);\n",
       "    fill: var(--button-hover-fill-color);\n",
       "  }\n",
       "\n",
       "  .colab-df-quickchart-complete:disabled,\n",
       "  .colab-df-quickchart-complete:disabled:hover {\n",
       "    background-color: var(--disabled-bg-color);\n",
       "    fill: var(--disabled-fill-color);\n",
       "    box-shadow: none;\n",
       "  }\n",
       "\n",
       "  .colab-df-spinner {\n",
       "    border: 2px solid var(--fill-color);\n",
       "    border-color: transparent;\n",
       "    border-bottom-color: var(--fill-color);\n",
       "    animation:\n",
       "      spin 1s steps(1) infinite;\n",
       "  }\n",
       "\n",
       "  @keyframes spin {\n",
       "    0% {\n",
       "      border-color: transparent;\n",
       "      border-bottom-color: var(--fill-color);\n",
       "      border-left-color: var(--fill-color);\n",
       "    }\n",
       "    20% {\n",
       "      border-color: transparent;\n",
       "      border-left-color: var(--fill-color);\n",
       "      border-top-color: var(--fill-color);\n",
       "    }\n",
       "    30% {\n",
       "      border-color: transparent;\n",
       "      border-left-color: var(--fill-color);\n",
       "      border-top-color: var(--fill-color);\n",
       "      border-right-color: var(--fill-color);\n",
       "    }\n",
       "    40% {\n",
       "      border-color: transparent;\n",
       "      border-right-color: var(--fill-color);\n",
       "      border-top-color: var(--fill-color);\n",
       "    }\n",
       "    60% {\n",
       "      border-color: transparent;\n",
       "      border-right-color: var(--fill-color);\n",
       "    }\n",
       "    80% {\n",
       "      border-color: transparent;\n",
       "      border-right-color: var(--fill-color);\n",
       "      border-bottom-color: var(--fill-color);\n",
       "    }\n",
       "    90% {\n",
       "      border-color: transparent;\n",
       "      border-bottom-color: var(--fill-color);\n",
       "    }\n",
       "  }\n",
       "</style>\n",
       "\n",
       "  <script>\n",
       "    async function quickchart(key) {\n",
       "      const quickchartButtonEl =\n",
       "        document.querySelector('#' + key + ' button');\n",
       "      quickchartButtonEl.disabled = true;  // To prevent multiple clicks.\n",
       "      quickchartButtonEl.classList.add('colab-df-spinner');\n",
       "      try {\n",
       "        const charts = await google.colab.kernel.invokeFunction(\n",
       "            'suggestCharts', [key], {});\n",
       "      } catch (error) {\n",
       "        console.error('Error during call to suggestCharts:', error);\n",
       "      }\n",
       "      quickchartButtonEl.classList.remove('colab-df-spinner');\n",
       "      quickchartButtonEl.classList.add('colab-df-quickchart-complete');\n",
       "    }\n",
       "    (() => {\n",
       "      let quickchartButtonEl =\n",
       "        document.querySelector('#df-c6c7ee29-5962-4b81-8c4d-c31e6058f1c4 button');\n",
       "      quickchartButtonEl.style.display =\n",
       "        google.colab.kernel.accessAllowed ? 'block' : 'none';\n",
       "    })();\n",
       "  </script>\n",
       "</div>\n",
       "    </div>\n",
       "  </div>\n"
      ],
      "text/plain": [
       "   cholesterol  glucose  hdl_chol chol_hdl_ratio  age  gender  height  weight  \\\n",
       "0          193       77        49            3,9   19  female      61     119   \n",
       "1          146       79        41            3,6   19  female      60     135   \n",
       "2          217       75        54              4   20  female      67     187   \n",
       "3          226       97        70            3,2   20  female      64     114   \n",
       "4          164       91        67            2,4   20  female      70     141   \n",
       "\n",
       "    bmi  systolic_bp  diastolic_bp  waist  hip waist_hip_ratio  \n",
       "0  22,5          118            70     32   38            0,84  \n",
       "1  26,4          108            58     33   40            0,83  \n",
       "2  29,3          110            72     40   45            0,89  \n",
       "3  19,6          122            64     31   39            0,79  \n",
       "4  20,2          122            86     32   39            0,82  "
      ]
     },
     "execution_count": 549,
     "metadata": {},
     "output_type": "execute_result"
    }
   ],
   "source": [
    "df=df.drop(['patient_number'],axis=1)\n",
    "df.head()"
   ]
  },
  {
   "cell_type": "code",
   "execution_count": null,
   "metadata": {
    "colab": {
     "base_uri": "https://localhost:8080/"
    },
    "executionInfo": {
     "elapsed": 34,
     "status": "ok",
     "timestamp": 1701531397677,
     "user": {
      "displayName": "Алексей Медведев",
      "userId": "00285943979098250409"
     },
     "user_tz": -180
    },
    "id": "UOAchRC5fiZB",
    "outputId": "ba8e87de-968a-4fca-8e7c-570af0fc29bc"
   },
   "outputs": [
    {
     "data": {
      "text/plain": [
       "Index(['cholesterol', 'glucose', 'hdl_chol', 'chol_hdl_ratio', 'age', 'gender',\n",
       "       'height', 'weight', 'bmi', 'systolic_bp', 'diastolic_bp', 'waist',\n",
       "       'hip', 'waist_hip_ratio'],\n",
       "      dtype='object')"
      ]
     },
     "execution_count": 550,
     "metadata": {},
     "output_type": "execute_result"
    }
   ],
   "source": [
    "df.columns"
   ]
  },
  {
   "cell_type": "code",
   "execution_count": null,
   "metadata": {
    "colab": {
     "base_uri": "https://localhost:8080/"
    },
    "executionInfo": {
     "elapsed": 32,
     "status": "ok",
     "timestamp": 1701531397678,
     "user": {
      "displayName": "Алексей Медведев",
      "userId": "00285943979098250409"
     },
     "user_tz": -180
    },
    "id": "c8cTVfHGgdNT",
    "outputId": "623558f8-f3a8-4580-862a-870404214bb1"
   },
   "outputs": [
    {
     "data": {
      "text/plain": [
       "cholesterol        0\n",
       "glucose            0\n",
       "hdl_chol           0\n",
       "chol_hdl_ratio     0\n",
       "age                0\n",
       "gender             0\n",
       "height             0\n",
       "weight             0\n",
       "bmi                0\n",
       "systolic_bp        0\n",
       "diastolic_bp       0\n",
       "waist              0\n",
       "hip                0\n",
       "waist_hip_ratio    0\n",
       "dtype: int64"
      ]
     },
     "execution_count": 551,
     "metadata": {},
     "output_type": "execute_result"
    }
   ],
   "source": [
    "df.isna().sum()"
   ]
  },
  {
   "cell_type": "code",
   "execution_count": null,
   "metadata": {
    "id": "mfkuToGdhDIE"
   },
   "outputs": [],
   "source": [
    "categ=['gender']\n",
    "cont=[]\n",
    "for col in df.columns:\n",
    "  if col not in categ:\n",
    "    cont.append(col)"
   ]
  },
  {
   "cell_type": "code",
   "execution_count": null,
   "metadata": {
    "colab": {
     "base_uri": "https://localhost:8080/"
    },
    "executionInfo": {
     "elapsed": 29,
     "status": "ok",
     "timestamp": 1701531397679,
     "user": {
      "displayName": "Алексей Медведев",
      "userId": "00285943979098250409"
     },
     "user_tz": -180
    },
    "id": "iqFTNvy4lfr8",
    "outputId": "692a9069-1721-4eba-8f0a-020e35833dc9"
   },
   "outputs": [
    {
     "data": {
      "text/plain": [
       "['gender']"
      ]
     },
     "execution_count": 553,
     "metadata": {},
     "output_type": "execute_result"
    }
   ],
   "source": [
    "categ"
   ]
  },
  {
   "cell_type": "code",
   "execution_count": null,
   "metadata": {
    "colab": {
     "base_uri": "https://localhost:8080/"
    },
    "executionInfo": {
     "elapsed": 27,
     "status": "ok",
     "timestamp": 1701531397680,
     "user": {
      "displayName": "Алексей Медведев",
      "userId": "00285943979098250409"
     },
     "user_tz": -180
    },
    "id": "SQUsbyFdlgoo",
    "outputId": "6ff5cb1c-a999-4af7-a3db-15f38617837d"
   },
   "outputs": [
    {
     "data": {
      "text/plain": [
       "['cholesterol',\n",
       " 'glucose',\n",
       " 'hdl_chol',\n",
       " 'chol_hdl_ratio',\n",
       " 'age',\n",
       " 'height',\n",
       " 'weight',\n",
       " 'bmi',\n",
       " 'systolic_bp',\n",
       " 'diastolic_bp',\n",
       " 'waist',\n",
       " 'hip',\n",
       " 'waist_hip_ratio']"
      ]
     },
     "execution_count": 554,
     "metadata": {},
     "output_type": "execute_result"
    }
   ],
   "source": [
    "cont"
   ]
  },
  {
   "cell_type": "code",
   "execution_count": null,
   "metadata": {
    "colab": {
     "base_uri": "https://localhost:8080/"
    },
    "executionInfo": {
     "elapsed": 24,
     "status": "ok",
     "timestamp": 1701531397680,
     "user": {
      "displayName": "Алексей Медведев",
      "userId": "00285943979098250409"
     },
     "user_tz": -180
    },
    "id": "8qa1pv1dlhOR",
    "outputId": "13b2f4bf-6c9f-4b52-9da9-4d78b2822035"
   },
   "outputs": [
    {
     "name": "stdout",
     "output_type": "stream",
     "text": [
      "cholesterol : 153\n",
      "glucose : 116\n",
      "hdl_chol : 75\n",
      "chol_hdl_ratio : 69\n",
      "age : 68\n",
      "gender : 2\n",
      "height : 22\n",
      "weight : 139\n",
      "bmi : 193\n",
      "systolic_bp : 71\n",
      "diastolic_bp : 56\n",
      "waist : 30\n",
      "hip : 32\n",
      "waist_hip_ratio : 39\n"
     ]
    }
   ],
   "source": [
    "for col in df.columns:\n",
    "  print('{} : {}'.format(col, len(df[col].unique())))"
   ]
  },
  {
   "cell_type": "code",
   "execution_count": null,
   "metadata": {
    "colab": {
     "base_uri": "https://localhost:8080/",
     "height": 206
    },
    "executionInfo": {
     "elapsed": 21,
     "status": "ok",
     "timestamp": 1701531397680,
     "user": {
      "displayName": "Алексей Медведев",
      "userId": "00285943979098250409"
     },
     "user_tz": -180
    },
    "id": "p72w9bM1mckh",
    "outputId": "d978d056-d4bb-43ea-cfd9-b4e193157dc7"
   },
   "outputs": [
    {
     "data": {
      "text/html": [
       "\n",
       "  <div id=\"df-fe1fc587-5c38-4a37-8562-173c623072e1\" class=\"colab-df-container\">\n",
       "    <div>\n",
       "<style scoped>\n",
       "    .dataframe tbody tr th:only-of-type {\n",
       "        vertical-align: middle;\n",
       "    }\n",
       "\n",
       "    .dataframe tbody tr th {\n",
       "        vertical-align: top;\n",
       "    }\n",
       "\n",
       "    .dataframe thead th {\n",
       "        text-align: right;\n",
       "    }\n",
       "</style>\n",
       "<table border=\"1\" class=\"dataframe\">\n",
       "  <thead>\n",
       "    <tr style=\"text-align: right;\">\n",
       "      <th></th>\n",
       "      <th>cholesterol</th>\n",
       "      <th>glucose</th>\n",
       "      <th>hdl_chol</th>\n",
       "      <th>chol_hdl_ratio</th>\n",
       "      <th>age</th>\n",
       "      <th>height</th>\n",
       "      <th>weight</th>\n",
       "      <th>bmi</th>\n",
       "      <th>systolic_bp</th>\n",
       "      <th>diastolic_bp</th>\n",
       "      <th>waist</th>\n",
       "      <th>hip</th>\n",
       "      <th>waist_hip_ratio</th>\n",
       "      <th>gender_female</th>\n",
       "      <th>gender_male</th>\n",
       "    </tr>\n",
       "  </thead>\n",
       "  <tbody>\n",
       "    <tr>\n",
       "      <th>0</th>\n",
       "      <td>193</td>\n",
       "      <td>77</td>\n",
       "      <td>49</td>\n",
       "      <td>3,9</td>\n",
       "      <td>19</td>\n",
       "      <td>61</td>\n",
       "      <td>119</td>\n",
       "      <td>22,5</td>\n",
       "      <td>118</td>\n",
       "      <td>70</td>\n",
       "      <td>32</td>\n",
       "      <td>38</td>\n",
       "      <td>0,84</td>\n",
       "      <td>1</td>\n",
       "      <td>0</td>\n",
       "    </tr>\n",
       "    <tr>\n",
       "      <th>1</th>\n",
       "      <td>146</td>\n",
       "      <td>79</td>\n",
       "      <td>41</td>\n",
       "      <td>3,6</td>\n",
       "      <td>19</td>\n",
       "      <td>60</td>\n",
       "      <td>135</td>\n",
       "      <td>26,4</td>\n",
       "      <td>108</td>\n",
       "      <td>58</td>\n",
       "      <td>33</td>\n",
       "      <td>40</td>\n",
       "      <td>0,83</td>\n",
       "      <td>1</td>\n",
       "      <td>0</td>\n",
       "    </tr>\n",
       "    <tr>\n",
       "      <th>2</th>\n",
       "      <td>217</td>\n",
       "      <td>75</td>\n",
       "      <td>54</td>\n",
       "      <td>4</td>\n",
       "      <td>20</td>\n",
       "      <td>67</td>\n",
       "      <td>187</td>\n",
       "      <td>29,3</td>\n",
       "      <td>110</td>\n",
       "      <td>72</td>\n",
       "      <td>40</td>\n",
       "      <td>45</td>\n",
       "      <td>0,89</td>\n",
       "      <td>1</td>\n",
       "      <td>0</td>\n",
       "    </tr>\n",
       "    <tr>\n",
       "      <th>3</th>\n",
       "      <td>226</td>\n",
       "      <td>97</td>\n",
       "      <td>70</td>\n",
       "      <td>3,2</td>\n",
       "      <td>20</td>\n",
       "      <td>64</td>\n",
       "      <td>114</td>\n",
       "      <td>19,6</td>\n",
       "      <td>122</td>\n",
       "      <td>64</td>\n",
       "      <td>31</td>\n",
       "      <td>39</td>\n",
       "      <td>0,79</td>\n",
       "      <td>1</td>\n",
       "      <td>0</td>\n",
       "    </tr>\n",
       "    <tr>\n",
       "      <th>4</th>\n",
       "      <td>164</td>\n",
       "      <td>91</td>\n",
       "      <td>67</td>\n",
       "      <td>2,4</td>\n",
       "      <td>20</td>\n",
       "      <td>70</td>\n",
       "      <td>141</td>\n",
       "      <td>20,2</td>\n",
       "      <td>122</td>\n",
       "      <td>86</td>\n",
       "      <td>32</td>\n",
       "      <td>39</td>\n",
       "      <td>0,82</td>\n",
       "      <td>1</td>\n",
       "      <td>0</td>\n",
       "    </tr>\n",
       "  </tbody>\n",
       "</table>\n",
       "</div>\n",
       "    <div class=\"colab-df-buttons\">\n",
       "\n",
       "  <div class=\"colab-df-container\">\n",
       "    <button class=\"colab-df-convert\" onclick=\"convertToInteractive('df-fe1fc587-5c38-4a37-8562-173c623072e1')\"\n",
       "            title=\"Convert this dataframe to an interactive table.\"\n",
       "            style=\"display:none;\">\n",
       "\n",
       "  <svg xmlns=\"http://www.w3.org/2000/svg\" height=\"24px\" viewBox=\"0 -960 960 960\">\n",
       "    <path d=\"M120-120v-720h720v720H120Zm60-500h600v-160H180v160Zm220 220h160v-160H400v160Zm0 220h160v-160H400v160ZM180-400h160v-160H180v160Zm440 0h160v-160H620v160ZM180-180h160v-160H180v160Zm440 0h160v-160H620v160Z\"/>\n",
       "  </svg>\n",
       "    </button>\n",
       "\n",
       "  <style>\n",
       "    .colab-df-container {\n",
       "      display:flex;\n",
       "      gap: 12px;\n",
       "    }\n",
       "\n",
       "    .colab-df-convert {\n",
       "      background-color: #E8F0FE;\n",
       "      border: none;\n",
       "      border-radius: 50%;\n",
       "      cursor: pointer;\n",
       "      display: none;\n",
       "      fill: #1967D2;\n",
       "      height: 32px;\n",
       "      padding: 0 0 0 0;\n",
       "      width: 32px;\n",
       "    }\n",
       "\n",
       "    .colab-df-convert:hover {\n",
       "      background-color: #E2EBFA;\n",
       "      box-shadow: 0px 1px 2px rgba(60, 64, 67, 0.3), 0px 1px 3px 1px rgba(60, 64, 67, 0.15);\n",
       "      fill: #174EA6;\n",
       "    }\n",
       "\n",
       "    .colab-df-buttons div {\n",
       "      margin-bottom: 4px;\n",
       "    }\n",
       "\n",
       "    [theme=dark] .colab-df-convert {\n",
       "      background-color: #3B4455;\n",
       "      fill: #D2E3FC;\n",
       "    }\n",
       "\n",
       "    [theme=dark] .colab-df-convert:hover {\n",
       "      background-color: #434B5C;\n",
       "      box-shadow: 0px 1px 3px 1px rgba(0, 0, 0, 0.15);\n",
       "      filter: drop-shadow(0px 1px 2px rgba(0, 0, 0, 0.3));\n",
       "      fill: #FFFFFF;\n",
       "    }\n",
       "  </style>\n",
       "\n",
       "    <script>\n",
       "      const buttonEl =\n",
       "        document.querySelector('#df-fe1fc587-5c38-4a37-8562-173c623072e1 button.colab-df-convert');\n",
       "      buttonEl.style.display =\n",
       "        google.colab.kernel.accessAllowed ? 'block' : 'none';\n",
       "\n",
       "      async function convertToInteractive(key) {\n",
       "        const element = document.querySelector('#df-fe1fc587-5c38-4a37-8562-173c623072e1');\n",
       "        const dataTable =\n",
       "          await google.colab.kernel.invokeFunction('convertToInteractive',\n",
       "                                                    [key], {});\n",
       "        if (!dataTable) return;\n",
       "\n",
       "        const docLinkHtml = 'Like what you see? Visit the ' +\n",
       "          '<a target=\"_blank\" href=https://colab.research.google.com/notebooks/data_table.ipynb>data table notebook</a>'\n",
       "          + ' to learn more about interactive tables.';\n",
       "        element.innerHTML = '';\n",
       "        dataTable['output_type'] = 'display_data';\n",
       "        await google.colab.output.renderOutput(dataTable, element);\n",
       "        const docLink = document.createElement('div');\n",
       "        docLink.innerHTML = docLinkHtml;\n",
       "        element.appendChild(docLink);\n",
       "      }\n",
       "    </script>\n",
       "  </div>\n",
       "\n",
       "\n",
       "<div id=\"df-af5630de-36c7-4fd2-b8ea-edf39422ad05\">\n",
       "  <button class=\"colab-df-quickchart\" onclick=\"quickchart('df-af5630de-36c7-4fd2-b8ea-edf39422ad05')\"\n",
       "            title=\"Suggest charts\"\n",
       "            style=\"display:none;\">\n",
       "\n",
       "<svg xmlns=\"http://www.w3.org/2000/svg\" height=\"24px\"viewBox=\"0 0 24 24\"\n",
       "     width=\"24px\">\n",
       "    <g>\n",
       "        <path d=\"M19 3H5c-1.1 0-2 .9-2 2v14c0 1.1.9 2 2 2h14c1.1 0 2-.9 2-2V5c0-1.1-.9-2-2-2zM9 17H7v-7h2v7zm4 0h-2V7h2v10zm4 0h-2v-4h2v4z\"/>\n",
       "    </g>\n",
       "</svg>\n",
       "  </button>\n",
       "\n",
       "<style>\n",
       "  .colab-df-quickchart {\n",
       "      --bg-color: #E8F0FE;\n",
       "      --fill-color: #1967D2;\n",
       "      --hover-bg-color: #E2EBFA;\n",
       "      --hover-fill-color: #174EA6;\n",
       "      --disabled-fill-color: #AAA;\n",
       "      --disabled-bg-color: #DDD;\n",
       "  }\n",
       "\n",
       "  [theme=dark] .colab-df-quickchart {\n",
       "      --bg-color: #3B4455;\n",
       "      --fill-color: #D2E3FC;\n",
       "      --hover-bg-color: #434B5C;\n",
       "      --hover-fill-color: #FFFFFF;\n",
       "      --disabled-bg-color: #3B4455;\n",
       "      --disabled-fill-color: #666;\n",
       "  }\n",
       "\n",
       "  .colab-df-quickchart {\n",
       "    background-color: var(--bg-color);\n",
       "    border: none;\n",
       "    border-radius: 50%;\n",
       "    cursor: pointer;\n",
       "    display: none;\n",
       "    fill: var(--fill-color);\n",
       "    height: 32px;\n",
       "    padding: 0;\n",
       "    width: 32px;\n",
       "  }\n",
       "\n",
       "  .colab-df-quickchart:hover {\n",
       "    background-color: var(--hover-bg-color);\n",
       "    box-shadow: 0 1px 2px rgba(60, 64, 67, 0.3), 0 1px 3px 1px rgba(60, 64, 67, 0.15);\n",
       "    fill: var(--button-hover-fill-color);\n",
       "  }\n",
       "\n",
       "  .colab-df-quickchart-complete:disabled,\n",
       "  .colab-df-quickchart-complete:disabled:hover {\n",
       "    background-color: var(--disabled-bg-color);\n",
       "    fill: var(--disabled-fill-color);\n",
       "    box-shadow: none;\n",
       "  }\n",
       "\n",
       "  .colab-df-spinner {\n",
       "    border: 2px solid var(--fill-color);\n",
       "    border-color: transparent;\n",
       "    border-bottom-color: var(--fill-color);\n",
       "    animation:\n",
       "      spin 1s steps(1) infinite;\n",
       "  }\n",
       "\n",
       "  @keyframes spin {\n",
       "    0% {\n",
       "      border-color: transparent;\n",
       "      border-bottom-color: var(--fill-color);\n",
       "      border-left-color: var(--fill-color);\n",
       "    }\n",
       "    20% {\n",
       "      border-color: transparent;\n",
       "      border-left-color: var(--fill-color);\n",
       "      border-top-color: var(--fill-color);\n",
       "    }\n",
       "    30% {\n",
       "      border-color: transparent;\n",
       "      border-left-color: var(--fill-color);\n",
       "      border-top-color: var(--fill-color);\n",
       "      border-right-color: var(--fill-color);\n",
       "    }\n",
       "    40% {\n",
       "      border-color: transparent;\n",
       "      border-right-color: var(--fill-color);\n",
       "      border-top-color: var(--fill-color);\n",
       "    }\n",
       "    60% {\n",
       "      border-color: transparent;\n",
       "      border-right-color: var(--fill-color);\n",
       "    }\n",
       "    80% {\n",
       "      border-color: transparent;\n",
       "      border-right-color: var(--fill-color);\n",
       "      border-bottom-color: var(--fill-color);\n",
       "    }\n",
       "    90% {\n",
       "      border-color: transparent;\n",
       "      border-bottom-color: var(--fill-color);\n",
       "    }\n",
       "  }\n",
       "</style>\n",
       "\n",
       "  <script>\n",
       "    async function quickchart(key) {\n",
       "      const quickchartButtonEl =\n",
       "        document.querySelector('#' + key + ' button');\n",
       "      quickchartButtonEl.disabled = true;  // To prevent multiple clicks.\n",
       "      quickchartButtonEl.classList.add('colab-df-spinner');\n",
       "      try {\n",
       "        const charts = await google.colab.kernel.invokeFunction(\n",
       "            'suggestCharts', [key], {});\n",
       "      } catch (error) {\n",
       "        console.error('Error during call to suggestCharts:', error);\n",
       "      }\n",
       "      quickchartButtonEl.classList.remove('colab-df-spinner');\n",
       "      quickchartButtonEl.classList.add('colab-df-quickchart-complete');\n",
       "    }\n",
       "    (() => {\n",
       "      let quickchartButtonEl =\n",
       "        document.querySelector('#df-af5630de-36c7-4fd2-b8ea-edf39422ad05 button');\n",
       "      quickchartButtonEl.style.display =\n",
       "        google.colab.kernel.accessAllowed ? 'block' : 'none';\n",
       "    })();\n",
       "  </script>\n",
       "</div>\n",
       "    </div>\n",
       "  </div>\n"
      ],
      "text/plain": [
       "   cholesterol  glucose  hdl_chol chol_hdl_ratio  age  height  weight   bmi  \\\n",
       "0          193       77        49            3,9   19      61     119  22,5   \n",
       "1          146       79        41            3,6   19      60     135  26,4   \n",
       "2          217       75        54              4   20      67     187  29,3   \n",
       "3          226       97        70            3,2   20      64     114  19,6   \n",
       "4          164       91        67            2,4   20      70     141  20,2   \n",
       "\n",
       "   systolic_bp  diastolic_bp  waist  hip waist_hip_ratio  gender_female  \\\n",
       "0          118            70     32   38            0,84              1   \n",
       "1          108            58     33   40            0,83              1   \n",
       "2          110            72     40   45            0,89              1   \n",
       "3          122            64     31   39            0,79              1   \n",
       "4          122            86     32   39            0,82              1   \n",
       "\n",
       "   gender_male  \n",
       "0            0  \n",
       "1            0  \n",
       "2            0  \n",
       "3            0  \n",
       "4            0  "
      ]
     },
     "execution_count": 556,
     "metadata": {},
     "output_type": "execute_result"
    }
   ],
   "source": [
    "for name in categ:\n",
    "    dummies = pd.get_dummies(df[name], prefix=name, drop_first=False)\n",
    "    df=pd.concat([df,dummies],axis=1)\n",
    "df=df.drop(columns=categ)\n",
    "df.head()"
   ]
  },
  {
   "cell_type": "code",
   "execution_count": null,
   "metadata": {
    "colab": {
     "base_uri": "https://localhost:8080/",
     "height": 206
    },
    "executionInfo": {
     "elapsed": 321,
     "status": "ok",
     "timestamp": 1701531397982,
     "user": {
      "displayName": "Алексей Медведев",
      "userId": "00285943979098250409"
     },
     "user_tz": -180
    },
    "id": "dgmfBMa6q4Dj",
    "outputId": "ec3aabcf-932c-46a2-9c74-93ab025a65fb"
   },
   "outputs": [
    {
     "data": {
      "text/html": [
       "\n",
       "  <div id=\"df-9cf2f87d-f01f-4c25-8e0f-2e57f3fd50d3\" class=\"colab-df-container\">\n",
       "    <div>\n",
       "<style scoped>\n",
       "    .dataframe tbody tr th:only-of-type {\n",
       "        vertical-align: middle;\n",
       "    }\n",
       "\n",
       "    .dataframe tbody tr th {\n",
       "        vertical-align: top;\n",
       "    }\n",
       "\n",
       "    .dataframe thead th {\n",
       "        text-align: right;\n",
       "    }\n",
       "</style>\n",
       "<table border=\"1\" class=\"dataframe\">\n",
       "  <thead>\n",
       "    <tr style=\"text-align: right;\">\n",
       "      <th></th>\n",
       "      <th>cholesterol</th>\n",
       "      <th>glucose</th>\n",
       "      <th>hdl_chol</th>\n",
       "      <th>chol_hdl_ratio</th>\n",
       "      <th>age</th>\n",
       "      <th>height</th>\n",
       "      <th>weight</th>\n",
       "      <th>bmi</th>\n",
       "      <th>systolic_bp</th>\n",
       "      <th>diastolic_bp</th>\n",
       "      <th>waist</th>\n",
       "      <th>hip</th>\n",
       "      <th>waist_hip_ratio</th>\n",
       "      <th>gender_female</th>\n",
       "      <th>gender_male</th>\n",
       "    </tr>\n",
       "  </thead>\n",
       "  <tbody>\n",
       "    <tr>\n",
       "      <th>0</th>\n",
       "      <td>193</td>\n",
       "      <td>77</td>\n",
       "      <td>49</td>\n",
       "      <td>3.9</td>\n",
       "      <td>19</td>\n",
       "      <td>61</td>\n",
       "      <td>119</td>\n",
       "      <td>22.5</td>\n",
       "      <td>118</td>\n",
       "      <td>70</td>\n",
       "      <td>32</td>\n",
       "      <td>38</td>\n",
       "      <td>0.84</td>\n",
       "      <td>1</td>\n",
       "      <td>0</td>\n",
       "    </tr>\n",
       "    <tr>\n",
       "      <th>1</th>\n",
       "      <td>146</td>\n",
       "      <td>79</td>\n",
       "      <td>41</td>\n",
       "      <td>3.6</td>\n",
       "      <td>19</td>\n",
       "      <td>60</td>\n",
       "      <td>135</td>\n",
       "      <td>26.4</td>\n",
       "      <td>108</td>\n",
       "      <td>58</td>\n",
       "      <td>33</td>\n",
       "      <td>40</td>\n",
       "      <td>0.83</td>\n",
       "      <td>1</td>\n",
       "      <td>0</td>\n",
       "    </tr>\n",
       "    <tr>\n",
       "      <th>2</th>\n",
       "      <td>217</td>\n",
       "      <td>75</td>\n",
       "      <td>54</td>\n",
       "      <td>4.0</td>\n",
       "      <td>20</td>\n",
       "      <td>67</td>\n",
       "      <td>187</td>\n",
       "      <td>29.3</td>\n",
       "      <td>110</td>\n",
       "      <td>72</td>\n",
       "      <td>40</td>\n",
       "      <td>45</td>\n",
       "      <td>0.89</td>\n",
       "      <td>1</td>\n",
       "      <td>0</td>\n",
       "    </tr>\n",
       "    <tr>\n",
       "      <th>3</th>\n",
       "      <td>226</td>\n",
       "      <td>97</td>\n",
       "      <td>70</td>\n",
       "      <td>3.2</td>\n",
       "      <td>20</td>\n",
       "      <td>64</td>\n",
       "      <td>114</td>\n",
       "      <td>19.6</td>\n",
       "      <td>122</td>\n",
       "      <td>64</td>\n",
       "      <td>31</td>\n",
       "      <td>39</td>\n",
       "      <td>0.79</td>\n",
       "      <td>1</td>\n",
       "      <td>0</td>\n",
       "    </tr>\n",
       "    <tr>\n",
       "      <th>4</th>\n",
       "      <td>164</td>\n",
       "      <td>91</td>\n",
       "      <td>67</td>\n",
       "      <td>2.4</td>\n",
       "      <td>20</td>\n",
       "      <td>70</td>\n",
       "      <td>141</td>\n",
       "      <td>20.2</td>\n",
       "      <td>122</td>\n",
       "      <td>86</td>\n",
       "      <td>32</td>\n",
       "      <td>39</td>\n",
       "      <td>0.82</td>\n",
       "      <td>1</td>\n",
       "      <td>0</td>\n",
       "    </tr>\n",
       "  </tbody>\n",
       "</table>\n",
       "</div>\n",
       "    <div class=\"colab-df-buttons\">\n",
       "\n",
       "  <div class=\"colab-df-container\">\n",
       "    <button class=\"colab-df-convert\" onclick=\"convertToInteractive('df-9cf2f87d-f01f-4c25-8e0f-2e57f3fd50d3')\"\n",
       "            title=\"Convert this dataframe to an interactive table.\"\n",
       "            style=\"display:none;\">\n",
       "\n",
       "  <svg xmlns=\"http://www.w3.org/2000/svg\" height=\"24px\" viewBox=\"0 -960 960 960\">\n",
       "    <path d=\"M120-120v-720h720v720H120Zm60-500h600v-160H180v160Zm220 220h160v-160H400v160Zm0 220h160v-160H400v160ZM180-400h160v-160H180v160Zm440 0h160v-160H620v160ZM180-180h160v-160H180v160Zm440 0h160v-160H620v160Z\"/>\n",
       "  </svg>\n",
       "    </button>\n",
       "\n",
       "  <style>\n",
       "    .colab-df-container {\n",
       "      display:flex;\n",
       "      gap: 12px;\n",
       "    }\n",
       "\n",
       "    .colab-df-convert {\n",
       "      background-color: #E8F0FE;\n",
       "      border: none;\n",
       "      border-radius: 50%;\n",
       "      cursor: pointer;\n",
       "      display: none;\n",
       "      fill: #1967D2;\n",
       "      height: 32px;\n",
       "      padding: 0 0 0 0;\n",
       "      width: 32px;\n",
       "    }\n",
       "\n",
       "    .colab-df-convert:hover {\n",
       "      background-color: #E2EBFA;\n",
       "      box-shadow: 0px 1px 2px rgba(60, 64, 67, 0.3), 0px 1px 3px 1px rgba(60, 64, 67, 0.15);\n",
       "      fill: #174EA6;\n",
       "    }\n",
       "\n",
       "    .colab-df-buttons div {\n",
       "      margin-bottom: 4px;\n",
       "    }\n",
       "\n",
       "    [theme=dark] .colab-df-convert {\n",
       "      background-color: #3B4455;\n",
       "      fill: #D2E3FC;\n",
       "    }\n",
       "\n",
       "    [theme=dark] .colab-df-convert:hover {\n",
       "      background-color: #434B5C;\n",
       "      box-shadow: 0px 1px 3px 1px rgba(0, 0, 0, 0.15);\n",
       "      filter: drop-shadow(0px 1px 2px rgba(0, 0, 0, 0.3));\n",
       "      fill: #FFFFFF;\n",
       "    }\n",
       "  </style>\n",
       "\n",
       "    <script>\n",
       "      const buttonEl =\n",
       "        document.querySelector('#df-9cf2f87d-f01f-4c25-8e0f-2e57f3fd50d3 button.colab-df-convert');\n",
       "      buttonEl.style.display =\n",
       "        google.colab.kernel.accessAllowed ? 'block' : 'none';\n",
       "\n",
       "      async function convertToInteractive(key) {\n",
       "        const element = document.querySelector('#df-9cf2f87d-f01f-4c25-8e0f-2e57f3fd50d3');\n",
       "        const dataTable =\n",
       "          await google.colab.kernel.invokeFunction('convertToInteractive',\n",
       "                                                    [key], {});\n",
       "        if (!dataTable) return;\n",
       "\n",
       "        const docLinkHtml = 'Like what you see? Visit the ' +\n",
       "          '<a target=\"_blank\" href=https://colab.research.google.com/notebooks/data_table.ipynb>data table notebook</a>'\n",
       "          + ' to learn more about interactive tables.';\n",
       "        element.innerHTML = '';\n",
       "        dataTable['output_type'] = 'display_data';\n",
       "        await google.colab.output.renderOutput(dataTable, element);\n",
       "        const docLink = document.createElement('div');\n",
       "        docLink.innerHTML = docLinkHtml;\n",
       "        element.appendChild(docLink);\n",
       "      }\n",
       "    </script>\n",
       "  </div>\n",
       "\n",
       "\n",
       "<div id=\"df-54a5f7f8-38ab-4b9e-ab36-64751d99ade2\">\n",
       "  <button class=\"colab-df-quickchart\" onclick=\"quickchart('df-54a5f7f8-38ab-4b9e-ab36-64751d99ade2')\"\n",
       "            title=\"Suggest charts\"\n",
       "            style=\"display:none;\">\n",
       "\n",
       "<svg xmlns=\"http://www.w3.org/2000/svg\" height=\"24px\"viewBox=\"0 0 24 24\"\n",
       "     width=\"24px\">\n",
       "    <g>\n",
       "        <path d=\"M19 3H5c-1.1 0-2 .9-2 2v14c0 1.1.9 2 2 2h14c1.1 0 2-.9 2-2V5c0-1.1-.9-2-2-2zM9 17H7v-7h2v7zm4 0h-2V7h2v10zm4 0h-2v-4h2v4z\"/>\n",
       "    </g>\n",
       "</svg>\n",
       "  </button>\n",
       "\n",
       "<style>\n",
       "  .colab-df-quickchart {\n",
       "      --bg-color: #E8F0FE;\n",
       "      --fill-color: #1967D2;\n",
       "      --hover-bg-color: #E2EBFA;\n",
       "      --hover-fill-color: #174EA6;\n",
       "      --disabled-fill-color: #AAA;\n",
       "      --disabled-bg-color: #DDD;\n",
       "  }\n",
       "\n",
       "  [theme=dark] .colab-df-quickchart {\n",
       "      --bg-color: #3B4455;\n",
       "      --fill-color: #D2E3FC;\n",
       "      --hover-bg-color: #434B5C;\n",
       "      --hover-fill-color: #FFFFFF;\n",
       "      --disabled-bg-color: #3B4455;\n",
       "      --disabled-fill-color: #666;\n",
       "  }\n",
       "\n",
       "  .colab-df-quickchart {\n",
       "    background-color: var(--bg-color);\n",
       "    border: none;\n",
       "    border-radius: 50%;\n",
       "    cursor: pointer;\n",
       "    display: none;\n",
       "    fill: var(--fill-color);\n",
       "    height: 32px;\n",
       "    padding: 0;\n",
       "    width: 32px;\n",
       "  }\n",
       "\n",
       "  .colab-df-quickchart:hover {\n",
       "    background-color: var(--hover-bg-color);\n",
       "    box-shadow: 0 1px 2px rgba(60, 64, 67, 0.3), 0 1px 3px 1px rgba(60, 64, 67, 0.15);\n",
       "    fill: var(--button-hover-fill-color);\n",
       "  }\n",
       "\n",
       "  .colab-df-quickchart-complete:disabled,\n",
       "  .colab-df-quickchart-complete:disabled:hover {\n",
       "    background-color: var(--disabled-bg-color);\n",
       "    fill: var(--disabled-fill-color);\n",
       "    box-shadow: none;\n",
       "  }\n",
       "\n",
       "  .colab-df-spinner {\n",
       "    border: 2px solid var(--fill-color);\n",
       "    border-color: transparent;\n",
       "    border-bottom-color: var(--fill-color);\n",
       "    animation:\n",
       "      spin 1s steps(1) infinite;\n",
       "  }\n",
       "\n",
       "  @keyframes spin {\n",
       "    0% {\n",
       "      border-color: transparent;\n",
       "      border-bottom-color: var(--fill-color);\n",
       "      border-left-color: var(--fill-color);\n",
       "    }\n",
       "    20% {\n",
       "      border-color: transparent;\n",
       "      border-left-color: var(--fill-color);\n",
       "      border-top-color: var(--fill-color);\n",
       "    }\n",
       "    30% {\n",
       "      border-color: transparent;\n",
       "      border-left-color: var(--fill-color);\n",
       "      border-top-color: var(--fill-color);\n",
       "      border-right-color: var(--fill-color);\n",
       "    }\n",
       "    40% {\n",
       "      border-color: transparent;\n",
       "      border-right-color: var(--fill-color);\n",
       "      border-top-color: var(--fill-color);\n",
       "    }\n",
       "    60% {\n",
       "      border-color: transparent;\n",
       "      border-right-color: var(--fill-color);\n",
       "    }\n",
       "    80% {\n",
       "      border-color: transparent;\n",
       "      border-right-color: var(--fill-color);\n",
       "      border-bottom-color: var(--fill-color);\n",
       "    }\n",
       "    90% {\n",
       "      border-color: transparent;\n",
       "      border-bottom-color: var(--fill-color);\n",
       "    }\n",
       "  }\n",
       "</style>\n",
       "\n",
       "  <script>\n",
       "    async function quickchart(key) {\n",
       "      const quickchartButtonEl =\n",
       "        document.querySelector('#' + key + ' button');\n",
       "      quickchartButtonEl.disabled = true;  // To prevent multiple clicks.\n",
       "      quickchartButtonEl.classList.add('colab-df-spinner');\n",
       "      try {\n",
       "        const charts = await google.colab.kernel.invokeFunction(\n",
       "            'suggestCharts', [key], {});\n",
       "      } catch (error) {\n",
       "        console.error('Error during call to suggestCharts:', error);\n",
       "      }\n",
       "      quickchartButtonEl.classList.remove('colab-df-spinner');\n",
       "      quickchartButtonEl.classList.add('colab-df-quickchart-complete');\n",
       "    }\n",
       "    (() => {\n",
       "      let quickchartButtonEl =\n",
       "        document.querySelector('#df-54a5f7f8-38ab-4b9e-ab36-64751d99ade2 button');\n",
       "      quickchartButtonEl.style.display =\n",
       "        google.colab.kernel.accessAllowed ? 'block' : 'none';\n",
       "    })();\n",
       "  </script>\n",
       "</div>\n",
       "    </div>\n",
       "  </div>\n"
      ],
      "text/plain": [
       "   cholesterol  glucose  hdl_chol  chol_hdl_ratio  age  height  weight   bmi  \\\n",
       "0          193       77        49             3.9   19      61     119  22.5   \n",
       "1          146       79        41             3.6   19      60     135  26.4   \n",
       "2          217       75        54             4.0   20      67     187  29.3   \n",
       "3          226       97        70             3.2   20      64     114  19.6   \n",
       "4          164       91        67             2.4   20      70     141  20.2   \n",
       "\n",
       "   systolic_bp  diastolic_bp  waist  hip  waist_hip_ratio  gender_female  \\\n",
       "0          118            70     32   38             0.84              1   \n",
       "1          108            58     33   40             0.83              1   \n",
       "2          110            72     40   45             0.89              1   \n",
       "3          122            64     31   39             0.79              1   \n",
       "4          122            86     32   39             0.82              1   \n",
       "\n",
       "   gender_male  \n",
       "0            0  \n",
       "1            0  \n",
       "2            0  \n",
       "3            0  \n",
       "4            0  "
      ]
     },
     "execution_count": 557,
     "metadata": {},
     "output_type": "execute_result"
    }
   ],
   "source": [
    "def replace_comma(x):\n",
    "  return float(x.replace(',','.'))\n",
    "bad_cols=['chol_hdl_ratio','bmi', 'waist_hip_ratio']\n",
    "for col in bad_cols:\n",
    "  df[col]=df[col].map(lambda x: float(x.replace(',','.')))\n",
    "df.head()"
   ]
  },
  {
   "cell_type": "code",
   "execution_count": null,
   "metadata": {
    "colab": {
     "base_uri": "https://localhost:8080/",
     "height": 717
    },
    "executionInfo": {
     "elapsed": 5450,
     "status": "ok",
     "timestamp": 1701531403430,
     "user": {
      "displayName": "Алексей Медведев",
      "userId": "00285943979098250409"
     },
     "user_tz": -180
    },
    "id": "rYzZFBxwoU-K",
    "outputId": "dd6bc186-5e5e-47b3-a660-45e585c297b7"
   },
   "outputs": [
    {
     "data": {
      "image/png": "[encoded data removed]",
      "text/plain": [
       "<Figure size 2000x1000 with 13 Axes>"
      ]
     },
     "metadata": {},
     "output_type": "display_data"
    }
   ],
   "source": [
    "import seaborn as sns\n",
    "fig=plt.figure(figsize=(20,10))\n",
    "\n",
    "for i, name in enumerate(cont):\n",
    "    ax=fig.add_subplot(1,len(cont), i+1)\n",
    "    sns.boxplot(y=df[name], ax=ax)\n",
    "\n",
    "fig.tight_layout()"
   ]
  },
  {
   "cell_type": "code",
   "execution_count": null,
   "metadata": {
    "colab": {
     "base_uri": "https://localhost:8080/",
     "height": 226
    },
    "executionInfo": {
     "elapsed": 17,
     "status": "ok",
     "timestamp": 1701531403430,
     "user": {
      "displayName": "Алексей Медведев",
      "userId": "00285943979098250409"
     },
     "user_tz": -180
    },
    "id": "ioekLQVMsv_M",
    "outputId": "94e8caf1-4c2a-4512-8248-461edf027ede"
   },
   "outputs": [
    {
     "data": {
      "text/html": [
       "\n",
       "  <div id=\"df-1eac3157-2492-4c03-9754-7696cf2fe0fa\" class=\"colab-df-container\">\n",
       "    <div>\n",
       "<style scoped>\n",
       "    .dataframe tbody tr th:only-of-type {\n",
       "        vertical-align: middle;\n",
       "    }\n",
       "\n",
       "    .dataframe tbody tr th {\n",
       "        vertical-align: top;\n",
       "    }\n",
       "\n",
       "    .dataframe thead th {\n",
       "        text-align: right;\n",
       "    }\n",
       "</style>\n",
       "<table border=\"1\" class=\"dataframe\">\n",
       "  <thead>\n",
       "    <tr style=\"text-align: right;\">\n",
       "      <th></th>\n",
       "      <th>cholesterol</th>\n",
       "      <th>glucose</th>\n",
       "      <th>hdl_chol</th>\n",
       "      <th>chol_hdl_ratio</th>\n",
       "      <th>age</th>\n",
       "      <th>height</th>\n",
       "      <th>weight</th>\n",
       "      <th>bmi</th>\n",
       "      <th>systolic_bp</th>\n",
       "      <th>diastolic_bp</th>\n",
       "      <th>waist</th>\n",
       "      <th>hip</th>\n",
       "      <th>waist_hip_ratio</th>\n",
       "      <th>gender_female</th>\n",
       "      <th>gender_male</th>\n",
       "    </tr>\n",
       "  </thead>\n",
       "  <tbody>\n",
       "    <tr>\n",
       "      <th>0</th>\n",
       "      <td>-0.20</td>\n",
       "      <td>-0.485981</td>\n",
       "      <td>0.142857</td>\n",
       "      <td>-0.136364</td>\n",
       "      <td>-0.980769</td>\n",
       "      <td>-0.833333</td>\n",
       "      <td>-1.085427</td>\n",
       "      <td>-0.648318</td>\n",
       "      <td>-0.692308</td>\n",
       "      <td>-0.800000</td>\n",
       "      <td>-0.625</td>\n",
       "      <td>-0.571429</td>\n",
       "      <td>-0.4</td>\n",
       "      <td>1</td>\n",
       "      <td>0</td>\n",
       "    </tr>\n",
       "    <tr>\n",
       "      <th>1</th>\n",
       "      <td>-1.14</td>\n",
       "      <td>-0.411215</td>\n",
       "      <td>-0.238095</td>\n",
       "      <td>-0.272727</td>\n",
       "      <td>-0.980769</td>\n",
       "      <td>-1.000000</td>\n",
       "      <td>-0.763819</td>\n",
       "      <td>-0.171254</td>\n",
       "      <td>-1.076923</td>\n",
       "      <td>-1.600000</td>\n",
       "      <td>-0.500</td>\n",
       "      <td>-0.285714</td>\n",
       "      <td>-0.5</td>\n",
       "      <td>1</td>\n",
       "      <td>0</td>\n",
       "    </tr>\n",
       "    <tr>\n",
       "      <th>2</th>\n",
       "      <td>0.28</td>\n",
       "      <td>-0.560748</td>\n",
       "      <td>0.380952</td>\n",
       "      <td>-0.090909</td>\n",
       "      <td>-0.942308</td>\n",
       "      <td>0.166667</td>\n",
       "      <td>0.281407</td>\n",
       "      <td>0.183486</td>\n",
       "      <td>-1.000000</td>\n",
       "      <td>-0.666667</td>\n",
       "      <td>0.375</td>\n",
       "      <td>0.428571</td>\n",
       "      <td>0.1</td>\n",
       "      <td>1</td>\n",
       "      <td>0</td>\n",
       "    </tr>\n",
       "    <tr>\n",
       "      <th>3</th>\n",
       "      <td>0.46</td>\n",
       "      <td>0.261682</td>\n",
       "      <td>1.142857</td>\n",
       "      <td>-0.454545</td>\n",
       "      <td>-0.942308</td>\n",
       "      <td>-0.333333</td>\n",
       "      <td>-1.185930</td>\n",
       "      <td>-1.003058</td>\n",
       "      <td>-0.538462</td>\n",
       "      <td>-1.200000</td>\n",
       "      <td>-0.750</td>\n",
       "      <td>-0.428571</td>\n",
       "      <td>-0.9</td>\n",
       "      <td>1</td>\n",
       "      <td>0</td>\n",
       "    </tr>\n",
       "    <tr>\n",
       "      <th>4</th>\n",
       "      <td>-0.78</td>\n",
       "      <td>0.037383</td>\n",
       "      <td>1.000000</td>\n",
       "      <td>-0.818182</td>\n",
       "      <td>-0.942308</td>\n",
       "      <td>0.666667</td>\n",
       "      <td>-0.643216</td>\n",
       "      <td>-0.929664</td>\n",
       "      <td>-0.538462</td>\n",
       "      <td>0.266667</td>\n",
       "      <td>-0.625</td>\n",
       "      <td>-0.428571</td>\n",
       "      <td>-0.6</td>\n",
       "      <td>1</td>\n",
       "      <td>0</td>\n",
       "    </tr>\n",
       "  </tbody>\n",
       "</table>\n",
       "</div>\n",
       "    <div class=\"colab-df-buttons\">\n",
       "\n",
       "  <div class=\"colab-df-container\">\n",
       "    <button class=\"colab-df-convert\" onclick=\"convertToInteractive('df-1eac3157-2492-4c03-9754-7696cf2fe0fa')\"\n",
       "            title=\"Convert this dataframe to an interactive table.\"\n",
       "            style=\"display:none;\">\n",
       "\n",
       "  <svg xmlns=\"http://www.w3.org/2000/svg\" height=\"24px\" viewBox=\"0 -960 960 960\">\n",
       "    <path d=\"M120-120v-720h720v720H120Zm60-500h600v-160H180v160Zm220 220h160v-160H400v160Zm0 220h160v-160H400v160ZM180-400h160v-160H180v160Zm440 0h160v-160H620v160ZM180-180h160v-160H180v160Zm440 0h160v-160H620v160Z\"/>\n",
       "  </svg>\n",
       "    </button>\n",
       "\n",
       "  <style>\n",
       "    .colab-df-container {\n",
       "      display:flex;\n",
       "      gap: 12px;\n",
       "    }\n",
       "\n",
       "    .colab-df-convert {\n",
       "      background-color: #E8F0FE;\n",
       "      border: none;\n",
       "      border-radius: 50%;\n",
       "      cursor: pointer;\n",
       "      display: none;\n",
       "      fill: #1967D2;\n",
       "      height: 32px;\n",
       "      padding: 0 0 0 0;\n",
       "      width: 32px;\n",
       "    }\n",
       "\n",
       "    .colab-df-convert:hover {\n",
       "      background-color: #E2EBFA;\n",
       "      box-shadow: 0px 1px 2px rgba(60, 64, 67, 0.3), 0px 1px 3px 1px rgba(60, 64, 67, 0.15);\n",
       "      fill: #174EA6;\n",
       "    }\n",
       "\n",
       "    .colab-df-buttons div {\n",
       "      margin-bottom: 4px;\n",
       "    }\n",
       "\n",
       "    [theme=dark] .colab-df-convert {\n",
       "      background-color: #3B4455;\n",
       "      fill: #D2E3FC;\n",
       "    }\n",
       "\n",
       "    [theme=dark] .colab-df-convert:hover {\n",
       "      background-color: #434B5C;\n",
       "      box-shadow: 0px 1px 3px 1px rgba(0, 0, 0, 0.15);\n",
       "      filter: drop-shadow(0px 1px 2px rgba(0, 0, 0, 0.3));\n",
       "      fill: #FFFFFF;\n",
       "    }\n",
       "  </style>\n",
       "\n",
       "    <script>\n",
       "      const buttonEl =\n",
       "        document.querySelector('#df-1eac3157-2492-4c03-9754-7696cf2fe0fa button.colab-df-convert');\n",
       "      buttonEl.style.display =\n",
       "        google.colab.kernel.accessAllowed ? 'block' : 'none';\n",
       "\n",
       "      async function convertToInteractive(key) {\n",
       "        const element = document.querySelector('#df-1eac3157-2492-4c03-9754-7696cf2fe0fa');\n",
       "        const dataTable =\n",
       "          await google.colab.kernel.invokeFunction('convertToInteractive',\n",
       "                                                    [key], {});\n",
       "        if (!dataTable) return;\n",
       "\n",
       "        const docLinkHtml = 'Like what you see? Visit the ' +\n",
       "          '<a target=\"_blank\" href=https://colab.research.google.com/notebooks/data_table.ipynb>data table notebook</a>'\n",
       "          + ' to learn more about interactive tables.';\n",
       "        element.innerHTML = '';\n",
       "        dataTable['output_type'] = 'display_data';\n",
       "        await google.colab.output.renderOutput(dataTable, element);\n",
       "        const docLink = document.createElement('div');\n",
       "        docLink.innerHTML = docLinkHtml;\n",
       "        element.appendChild(docLink);\n",
       "      }\n",
       "    </script>\n",
       "  </div>\n",
       "\n",
       "\n",
       "<div id=\"df-14b2d65e-4373-4ead-a53f-f5317777ae4d\">\n",
       "  <button class=\"colab-df-quickchart\" onclick=\"quickchart('df-14b2d65e-4373-4ead-a53f-f5317777ae4d')\"\n",
       "            title=\"Suggest charts\"\n",
       "            style=\"display:none;\">\n",
       "\n",
       "<svg xmlns=\"http://www.w3.org/2000/svg\" height=\"24px\"viewBox=\"0 0 24 24\"\n",
       "     width=\"24px\">\n",
       "    <g>\n",
       "        <path d=\"M19 3H5c-1.1 0-2 .9-2 2v14c0 1.1.9 2 2 2h14c1.1 0 2-.9 2-2V5c0-1.1-.9-2-2-2zM9 17H7v-7h2v7zm4 0h-2V7h2v10zm4 0h-2v-4h2v4z\"/>\n",
       "    </g>\n",
       "</svg>\n",
       "  </button>\n",
       "\n",
       "<style>\n",
       "  .colab-df-quickchart {\n",
       "      --bg-color: #E8F0FE;\n",
       "      --fill-color: #1967D2;\n",
       "      --hover-bg-color: #E2EBFA;\n",
       "      --hover-fill-color: #174EA6;\n",
       "      --disabled-fill-color: #AAA;\n",
       "      --disabled-bg-color: #DDD;\n",
       "  }\n",
       "\n",
       "  [theme=dark] .colab-df-quickchart {\n",
       "      --bg-color: #3B4455;\n",
       "      --fill-color: #D2E3FC;\n",
       "      --hover-bg-color: #434B5C;\n",
       "      --hover-fill-color: #FFFFFF;\n",
       "      --disabled-bg-color: #3B4455;\n",
       "      --disabled-fill-color: #666;\n",
       "  }\n",
       "\n",
       "  .colab-df-quickchart {\n",
       "    background-color: var(--bg-color);\n",
       "    border: none;\n",
       "    border-radius: 50%;\n",
       "    cursor: pointer;\n",
       "    display: none;\n",
       "    fill: var(--fill-color);\n",
       "    height: 32px;\n",
       "    padding: 0;\n",
       "    width: 32px;\n",
       "  }\n",
       "\n",
       "  .colab-df-quickchart:hover {\n",
       "    background-color: var(--hover-bg-color);\n",
       "    box-shadow: 0 1px 2px rgba(60, 64, 67, 0.3), 0 1px 3px 1px rgba(60, 64, 67, 0.15);\n",
       "    fill: var(--button-hover-fill-color);\n",
       "  }\n",
       "\n",
       "  .colab-df-quickchart-complete:disabled,\n",
       "  .colab-df-quickchart-complete:disabled:hover {\n",
       "    background-color: var(--disabled-bg-color);\n",
       "    fill: var(--disabled-fill-color);\n",
       "    box-shadow: none;\n",
       "  }\n",
       "\n",
       "  .colab-df-spinner {\n",
       "    border: 2px solid var(--fill-color);\n",
       "    border-color: transparent;\n",
       "    border-bottom-color: var(--fill-color);\n",
       "    animation:\n",
       "      spin 1s steps(1) infinite;\n",
       "  }\n",
       "\n",
       "  @keyframes spin {\n",
       "    0% {\n",
       "      border-color: transparent;\n",
       "      border-bottom-color: var(--fill-color);\n",
       "      border-left-color: var(--fill-color);\n",
       "    }\n",
       "    20% {\n",
       "      border-color: transparent;\n",
       "      border-left-color: var(--fill-color);\n",
       "      border-top-color: var(--fill-color);\n",
       "    }\n",
       "    30% {\n",
       "      border-color: transparent;\n",
       "      border-left-color: var(--fill-color);\n",
       "      border-top-color: var(--fill-color);\n",
       "      border-right-color: var(--fill-color);\n",
       "    }\n",
       "    40% {\n",
       "      border-color: transparent;\n",
       "      border-right-color: var(--fill-color);\n",
       "      border-top-color: var(--fill-color);\n",
       "    }\n",
       "    60% {\n",
       "      border-color: transparent;\n",
       "      border-right-color: var(--fill-color);\n",
       "    }\n",
       "    80% {\n",
       "      border-color: transparent;\n",
       "      border-right-color: var(--fill-color);\n",
       "      border-bottom-color: var(--fill-color);\n",
       "    }\n",
       "    90% {\n",
       "      border-color: transparent;\n",
       "      border-bottom-color: var(--fill-color);\n",
       "    }\n",
       "  }\n",
       "</style>\n",
       "\n",
       "  <script>\n",
       "    async function quickchart(key) {\n",
       "      const quickchartButtonEl =\n",
       "        document.querySelector('#' + key + ' button');\n",
       "      quickchartButtonEl.disabled = true;  // To prevent multiple clicks.\n",
       "      quickchartButtonEl.classList.add('colab-df-spinner');\n",
       "      try {\n",
       "        const charts = await google.colab.kernel.invokeFunction(\n",
       "            'suggestCharts', [key], {});\n",
       "      } catch (error) {\n",
       "        console.error('Error during call to suggestCharts:', error);\n",
       "      }\n",
       "      quickchartButtonEl.classList.remove('colab-df-spinner');\n",
       "      quickchartButtonEl.classList.add('colab-df-quickchart-complete');\n",
       "    }\n",
       "    (() => {\n",
       "      let quickchartButtonEl =\n",
       "        document.querySelector('#df-14b2d65e-4373-4ead-a53f-f5317777ae4d button');\n",
       "      quickchartButtonEl.style.display =\n",
       "        google.colab.kernel.accessAllowed ? 'block' : 'none';\n",
       "    })();\n",
       "  </script>\n",
       "</div>\n",
       "    </div>\n",
       "  </div>\n"
      ],
      "text/plain": [
       "   cholesterol   glucose  hdl_chol  chol_hdl_ratio       age    height  \\\n",
       "0        -0.20 -0.485981  0.142857       -0.136364 -0.980769 -0.833333   \n",
       "1        -1.14 -0.411215 -0.238095       -0.272727 -0.980769 -1.000000   \n",
       "2         0.28 -0.560748  0.380952       -0.090909 -0.942308  0.166667   \n",
       "3         0.46  0.261682  1.142857       -0.454545 -0.942308 -0.333333   \n",
       "4        -0.78  0.037383  1.000000       -0.818182 -0.942308  0.666667   \n",
       "\n",
       "     weight       bmi  systolic_bp  diastolic_bp  waist       hip  \\\n",
       "0 -1.085427 -0.648318    -0.692308     -0.800000 -0.625 -0.571429   \n",
       "1 -0.763819 -0.171254    -1.076923     -1.600000 -0.500 -0.285714   \n",
       "2  0.281407  0.183486    -1.000000     -0.666667  0.375  0.428571   \n",
       "3 -1.185930 -1.003058    -0.538462     -1.200000 -0.750 -0.428571   \n",
       "4 -0.643216 -0.929664    -0.538462      0.266667 -0.625 -0.428571   \n",
       "\n",
       "   waist_hip_ratio  gender_female  gender_male  \n",
       "0             -0.4              1            0  \n",
       "1             -0.5              1            0  \n",
       "2              0.1              1            0  \n",
       "3             -0.9              1            0  \n",
       "4             -0.6              1            0  "
      ]
     },
     "execution_count": 559,
     "metadata": {},
     "output_type": "execute_result"
    }
   ],
   "source": [
    "from sklearn.preprocessing import RobustScaler\n",
    "rs = RobustScaler()\n",
    "df[cont]=rs.fit_transform(df[cont])\n",
    "df.head()"
   ]
  },
  {
   "cell_type": "code",
   "execution_count": null,
   "metadata": {
    "colab": {
     "base_uri": "https://localhost:8080/"
    },
    "executionInfo": {
     "elapsed": 15,
     "status": "ok",
     "timestamp": 1701531403430,
     "user": {
      "displayName": "Алексей Медведев",
      "userId": "00285943979098250409"
     },
     "user_tz": -180
    },
    "id": "qiAMgOQd2To5",
    "outputId": "01250df5-6f16-4cfb-967c-6e93e3c30dc7"
   },
   "outputs": [
    {
     "data": {
      "text/plain": [
       "array([[193.  ,  77.  ,  49.  ,   3.9 ,  19.  ,  61.  , 119.  ,  22.5 ,\n",
       "        118.  ,  70.  ,  32.  ,  38.  ,   0.84],\n",
       "       [146.  ,  79.  ,  41.  ,   3.6 ,  19.  ,  60.  , 135.  ,  26.4 ,\n",
       "        108.  ,  58.  ,  33.  ,  40.  ,   0.83],\n",
       "       [217.  ,  75.  ,  54.  ,   4.  ,  20.  ,  67.  , 187.  ,  29.3 ,\n",
       "        110.  ,  72.  ,  40.  ,  45.  ,   0.89],\n",
       "       [226.  ,  97.  ,  70.  ,   3.2 ,  20.  ,  64.  , 114.  ,  19.6 ,\n",
       "        122.  ,  64.  ,  31.  ,  39.  ,   0.79],\n",
       "       [164.  ,  91.  ,  67.  ,   2.4 ,  20.  ,  70.  , 141.  ,  20.2 ,\n",
       "        122.  ,  86.  ,  32.  ,  39.  ,   0.82]])"
      ]
     },
     "execution_count": 560,
     "metadata": {},
     "output_type": "execute_result"
    }
   ],
   "source": [
    "rs.inverse_transform(df[cont])[:5,:]"
   ]
  },
  {
   "cell_type": "code",
   "execution_count": null,
   "metadata": {
    "colab": {
     "base_uri": "https://localhost:8080/",
     "height": 717
    },
    "executionInfo": {
     "elapsed": 5556,
     "status": "ok",
     "timestamp": 1701531408976,
     "user": {
      "displayName": "Алексей Медведев",
      "userId": "00285943979098250409"
     },
     "user_tz": -180
    },
    "id": "cEUqZRZVx0X1",
    "outputId": "fc4f2a79-83e7-4305-8ebb-7b6dfe384f83"
   },
   "outputs": [
    {
     "data": {
      "image/png": "[encoded data removed]",
      "text/plain": [
       "<Figure size 2000x1000 with 13 Axes>"
      ]
     },
     "metadata": {},
     "output_type": "display_data"
    }
   ],
   "source": [
    "import seaborn as sns\n",
    "fig=plt.figure(figsize=(20,10))\n",
    "\n",
    "for i, name in enumerate(cont):\n",
    "    ax=fig.add_subplot(1,len(cont), i+1)\n",
    "    sns.boxplot(y=df[name], ax=ax)\n",
    "\n",
    "fig.tight_layout()"
   ]
  },
  {
   "cell_type": "code",
   "execution_count": null,
   "metadata": {
    "colab": {
     "base_uri": "https://localhost:8080/",
     "height": 328
    },
    "executionInfo": {
     "elapsed": 21,
     "status": "ok",
     "timestamp": 1701531408978,
     "user": {
      "displayName": "Алексей Медведев",
      "userId": "00285943979098250409"
     },
     "user_tz": -180
    },
    "id": "gUp7Ml4ux3al",
    "outputId": "a923382d-8cff-410d-cdc4-7e1db1f2a31e"
   },
   "outputs": [
    {
     "data": {
      "text/html": [
       "<style type=\"text/css\">\n",
       "#T_eedc5 th {\n",
       "  font-size: 7pt;\n",
       "}\n",
       "#T_eedc5 td {\n",
       "  padding: 0em 0em;\n",
       "}\n",
       "#T_eedc5 th:hover {\n",
       "  font-size: 12pt;\n",
       "}\n",
       "#T_eedc5 tr:hover td:hover {\n",
       "  max-width: 200px;\n",
       "  font-size: 12pt;\n",
       "}\n",
       "#T_eedc5_row0_col0, #T_eedc5_row1_col1, #T_eedc5_row2_col2, #T_eedc5_row3_col3, #T_eedc5_row4_col4, #T_eedc5_row5_col5, #T_eedc5_row6_col6, #T_eedc5_row7_col7, #T_eedc5_row8_col8, #T_eedc5_row9_col9, #T_eedc5_row10_col10, #T_eedc5_row11_col11, #T_eedc5_row12_col12 {\n",
       "  background-color: #4479bb;\n",
       "  color: #f1f1f1;\n",
       "  max-width: 80px;\n",
       "  font-size: 12pt;\n",
       "}\n",
       "#T_eedc5_row0_col1 {\n",
       "  background-color: #e28799;\n",
       "  color: #f1f1f1;\n",
       "  max-width: 80px;\n",
       "  font-size: 12pt;\n",
       "}\n",
       "#T_eedc5_row0_col2, #T_eedc5_row2_col10, #T_eedc5_row5_col9, #T_eedc5_row8_col0, #T_eedc5_row8_col10 {\n",
       "  background-color: #e492a3;\n",
       "  color: #f1f1f1;\n",
       "  max-width: 80px;\n",
       "  font-size: 12pt;\n",
       "}\n",
       "#T_eedc5_row0_col3 {\n",
       "  background-color: #eff0f2;\n",
       "  color: #000000;\n",
       "  max-width: 80px;\n",
       "  font-size: 12pt;\n",
       "}\n",
       "#T_eedc5_row0_col4 {\n",
       "  background-color: #e7a5b2;\n",
       "  color: #000000;\n",
       "  max-width: 80px;\n",
       "  font-size: 12pt;\n",
       "}\n",
       "#T_eedc5_row0_col5, #T_eedc5_row1_col2, #T_eedc5_row2_col3, #T_eedc5_row3_col2, #T_eedc5_row4_col5, #T_eedc5_row5_col7, #T_eedc5_row6_col2, #T_eedc5_row7_col5, #T_eedc5_row8_col5, #T_eedc5_row9_col1, #T_eedc5_row10_col2, #T_eedc5_row11_col2, #T_eedc5_row12_col2 {\n",
       "  background-color: #d73c5b;\n",
       "  color: #f1f1f1;\n",
       "  max-width: 80px;\n",
       "  font-size: 12pt;\n",
       "}\n",
       "#T_eedc5_row0_col6 {\n",
       "  background-color: #de667e;\n",
       "  color: #f1f1f1;\n",
       "  max-width: 80px;\n",
       "  font-size: 12pt;\n",
       "}\n",
       "#T_eedc5_row0_col7, #T_eedc5_row0_col11, #T_eedc5_row0_col12 {\n",
       "  background-color: #df7086;\n",
       "  color: #f1f1f1;\n",
       "  max-width: 80px;\n",
       "  font-size: 12pt;\n",
       "}\n",
       "#T_eedc5_row0_col8, #T_eedc5_row1_col11, #T_eedc5_row12_col8 {\n",
       "  background-color: #e599a8;\n",
       "  color: #000000;\n",
       "  max-width: 80px;\n",
       "  font-size: 12pt;\n",
       "}\n",
       "#T_eedc5_row0_col9, #T_eedc5_row4_col10, #T_eedc5_row12_col0 {\n",
       "  background-color: #e38a9c;\n",
       "  color: #f1f1f1;\n",
       "  max-width: 80px;\n",
       "  font-size: 12pt;\n",
       "}\n",
       "#T_eedc5_row0_col10, #T_eedc5_row11_col4 {\n",
       "  background-color: #e17e92;\n",
       "  color: #f1f1f1;\n",
       "  max-width: 80px;\n",
       "  font-size: 12pt;\n",
       "}\n",
       "#T_eedc5_row1_col0, #T_eedc5_row2_col11, #T_eedc5_row5_col3 {\n",
       "  background-color: #e69ead;\n",
       "  color: #000000;\n",
       "  max-width: 80px;\n",
       "  font-size: 12pt;\n",
       "}\n",
       "#T_eedc5_row1_col3, #T_eedc5_row10_col8 {\n",
       "  background-color: #ecc6ce;\n",
       "  color: #000000;\n",
       "  max-width: 80px;\n",
       "  font-size: 12pt;\n",
       "}\n",
       "#T_eedc5_row1_col4, #T_eedc5_row10_col1 {\n",
       "  background-color: #edcad1;\n",
       "  color: #000000;\n",
       "  max-width: 80px;\n",
       "  font-size: 12pt;\n",
       "}\n",
       "#T_eedc5_row1_col5 {\n",
       "  background-color: #e38b9d;\n",
       "  color: #f1f1f1;\n",
       "  max-width: 80px;\n",
       "  font-size: 12pt;\n",
       "}\n",
       "#T_eedc5_row1_col6, #T_eedc5_row4_col0, #T_eedc5_row6_col8, #T_eedc5_row7_col8 {\n",
       "  background-color: #e8aab6;\n",
       "  color: #000000;\n",
       "  max-width: 80px;\n",
       "  font-size: 12pt;\n",
       "}\n",
       "#T_eedc5_row1_col7 {\n",
       "  background-color: #e595a5;\n",
       "  color: #000000;\n",
       "  max-width: 80px;\n",
       "  font-size: 12pt;\n",
       "}\n",
       "#T_eedc5_row1_col8, #T_eedc5_row6_col0 {\n",
       "  background-color: #e6a0ae;\n",
       "  color: #000000;\n",
       "  max-width: 80px;\n",
       "  font-size: 12pt;\n",
       "}\n",
       "#T_eedc5_row1_col9, #T_eedc5_row5_col0, #T_eedc5_row8_col7 {\n",
       "  background-color: #e07389;\n",
       "  color: #f1f1f1;\n",
       "  max-width: 80px;\n",
       "  font-size: 12pt;\n",
       "}\n",
       "#T_eedc5_row1_col10, #T_eedc5_row4_col12 {\n",
       "  background-color: #e9b4be;\n",
       "  color: #000000;\n",
       "  max-width: 80px;\n",
       "  font-size: 12pt;\n",
       "}\n",
       "#T_eedc5_row1_col12, #T_eedc5_row11_col1, #T_eedc5_row12_col1 {\n",
       "  background-color: #e7a7b4;\n",
       "  color: #000000;\n",
       "  max-width: 80px;\n",
       "  font-size: 12pt;\n",
       "}\n",
       "#T_eedc5_row2_col0 {\n",
       "  background-color: #eaecf0;\n",
       "  color: #000000;\n",
       "  max-width: 80px;\n",
       "  font-size: 12pt;\n",
       "}\n",
       "#T_eedc5_row2_col1, #T_eedc5_row2_col12, #T_eedc5_row7_col1, #T_eedc5_row11_col8 {\n",
       "  background-color: #e8adb8;\n",
       "  color: #000000;\n",
       "  max-width: 80px;\n",
       "  font-size: 12pt;\n",
       "}\n",
       "#T_eedc5_row2_col4, #T_eedc5_row2_col8, #T_eedc5_row6_col5 {\n",
       "  background-color: #eed6db;\n",
       "  color: #000000;\n",
       "  max-width: 80px;\n",
       "  font-size: 12pt;\n",
       "}\n",
       "#T_eedc5_row2_col5, #T_eedc5_row6_col9, #T_eedc5_row11_col3, #T_eedc5_row12_col5, #T_eedc5_row12_col6 {\n",
       "  background-color: #eabcc5;\n",
       "  color: #000000;\n",
       "  max-width: 80px;\n",
       "  font-size: 12pt;\n",
       "}\n",
       "#T_eedc5_row2_col6 {\n",
       "  background-color: #e48fa0;\n",
       "  color: #f1f1f1;\n",
       "  max-width: 80px;\n",
       "  font-size: 12pt;\n",
       "}\n",
       "#T_eedc5_row2_col7, #T_eedc5_row11_col0 {\n",
       "  background-color: #e59aa9;\n",
       "  color: #000000;\n",
       "  max-width: 80px;\n",
       "  font-size: 12pt;\n",
       "}\n",
       "#T_eedc5_row2_col9 {\n",
       "  background-color: #f0e0e3;\n",
       "  color: #000000;\n",
       "  max-width: 80px;\n",
       "  font-size: 12pt;\n",
       "}\n",
       "#T_eedc5_row3_col0 {\n",
       "  background-color: #b0c4dd;\n",
       "  color: #000000;\n",
       "  max-width: 80px;\n",
       "  font-size: 12pt;\n",
       "}\n",
       "#T_eedc5_row3_col1, #T_eedc5_row3_col6 {\n",
       "  background-color: #d8e0eb;\n",
       "  color: #000000;\n",
       "  max-width: 80px;\n",
       "  font-size: 12pt;\n",
       "}\n",
       "#T_eedc5_row3_col4 {\n",
       "  background-color: #f1f1f2;\n",
       "  color: #000000;\n",
       "  max-width: 80px;\n",
       "  font-size: 12pt;\n",
       "}\n",
       "#T_eedc5_row3_col5 {\n",
       "  background-color: #f0e1e4;\n",
       "  color: #000000;\n",
       "  max-width: 80px;\n",
       "  font-size: 12pt;\n",
       "}\n",
       "#T_eedc5_row3_col7 {\n",
       "  background-color: #e3e8ee;\n",
       "  color: #000000;\n",
       "  max-width: 80px;\n",
       "  font-size: 12pt;\n",
       "}\n",
       "#T_eedc5_row3_col8, #T_eedc5_row8_col4 {\n",
       "  background-color: #f1e8ea;\n",
       "  color: #000000;\n",
       "  max-width: 80px;\n",
       "  font-size: 12pt;\n",
       "}\n",
       "#T_eedc5_row3_col9 {\n",
       "  background-color: #efd7dc;\n",
       "  color: #000000;\n",
       "  max-width: 80px;\n",
       "  font-size: 12pt;\n",
       "}\n",
       "#T_eedc5_row3_col10 {\n",
       "  background-color: #d1dbe8;\n",
       "  color: #000000;\n",
       "  max-width: 80px;\n",
       "  font-size: 12pt;\n",
       "}\n",
       "#T_eedc5_row3_col11 {\n",
       "  background-color: #e7eaef;\n",
       "  color: #000000;\n",
       "  max-width: 80px;\n",
       "  font-size: 12pt;\n",
       "}\n",
       "#T_eedc5_row3_col12 {\n",
       "  background-color: #e0e6ed;\n",
       "  color: #000000;\n",
       "  max-width: 80px;\n",
       "  font-size: 12pt;\n",
       "}\n",
       "#T_eedc5_row4_col1 {\n",
       "  background-color: #eabbc4;\n",
       "  color: #000000;\n",
       "  max-width: 80px;\n",
       "  font-size: 12pt;\n",
       "}\n",
       "#T_eedc5_row4_col2, #T_eedc5_row11_col5, #T_eedc5_row12_col11 {\n",
       "  background-color: #dd6179;\n",
       "  color: #f1f1f1;\n",
       "  max-width: 80px;\n",
       "  font-size: 12pt;\n",
       "}\n",
       "#T_eedc5_row4_col3 {\n",
       "  background-color: #e48e9f;\n",
       "  color: #f1f1f1;\n",
       "  max-width: 80px;\n",
       "  font-size: 12pt;\n",
       "}\n",
       "#T_eedc5_row4_col6, #T_eedc5_row9_col5 {\n",
       "  background-color: #d84462;\n",
       "  color: #f1f1f1;\n",
       "  max-width: 80px;\n",
       "  font-size: 12pt;\n",
       "}\n",
       "#T_eedc5_row4_col7, #T_eedc5_row8_col2 {\n",
       "  background-color: #db546f;\n",
       "  color: #f1f1f1;\n",
       "  max-width: 80px;\n",
       "  font-size: 12pt;\n",
       "}\n",
       "#T_eedc5_row4_col8 {\n",
       "  background-color: #f2eff0;\n",
       "  color: #000000;\n",
       "  max-width: 80px;\n",
       "  font-size: 12pt;\n",
       "}\n",
       "#T_eedc5_row4_col9, #T_eedc5_row5_col2 {\n",
       "  background-color: #df6d84;\n",
       "  color: #f1f1f1;\n",
       "  max-width: 80px;\n",
       "  font-size: 12pt;\n",
       "}\n",
       "#T_eedc5_row4_col11 {\n",
       "  background-color: #db5872;\n",
       "  color: #f1f1f1;\n",
       "  max-width: 80px;\n",
       "  font-size: 12pt;\n",
       "}\n",
       "#T_eedc5_row5_col1 {\n",
       "  background-color: #e7a3b0;\n",
       "  color: #000000;\n",
       "  max-width: 80px;\n",
       "  font-size: 12pt;\n",
       "}\n",
       "#T_eedc5_row5_col4 {\n",
       "  background-color: #df6f85;\n",
       "  color: #f1f1f1;\n",
       "  max-width: 80px;\n",
       "  font-size: 12pt;\n",
       "}\n",
       "#T_eedc5_row5_col6, #T_eedc5_row5_col12 {\n",
       "  background-color: #edd0d6;\n",
       "  color: #000000;\n",
       "  max-width: 80px;\n",
       "  font-size: 12pt;\n",
       "}\n",
       "#T_eedc5_row5_col8 {\n",
       "  background-color: #e17a8f;\n",
       "  color: #f1f1f1;\n",
       "  max-width: 80px;\n",
       "  font-size: 12pt;\n",
       "}\n",
       "#T_eedc5_row5_col10 {\n",
       "  background-color: #e597a7;\n",
       "  color: #000000;\n",
       "  max-width: 80px;\n",
       "  font-size: 12pt;\n",
       "}\n",
       "#T_eedc5_row5_col11, #T_eedc5_row8_col6 {\n",
       "  background-color: #de6b82;\n",
       "  color: #f1f1f1;\n",
       "  max-width: 80px;\n",
       "  font-size: 12pt;\n",
       "}\n",
       "#T_eedc5_row6_col1, #T_eedc5_row12_col4 {\n",
       "  background-color: #ecc3cb;\n",
       "  color: #000000;\n",
       "  max-width: 80px;\n",
       "  font-size: 12pt;\n",
       "}\n",
       "#T_eedc5_row6_col3 {\n",
       "  background-color: #efdde0;\n",
       "  color: #000000;\n",
       "  max-width: 80px;\n",
       "  font-size: 12pt;\n",
       "}\n",
       "#T_eedc5_row6_col4 {\n",
       "  background-color: #e17d91;\n",
       "  color: #f1f1f1;\n",
       "  max-width: 80px;\n",
       "  font-size: 12pt;\n",
       "}\n",
       "#T_eedc5_row6_col7 {\n",
       "  background-color: #6892c6;\n",
       "  color: #f1f1f1;\n",
       "  max-width: 80px;\n",
       "  font-size: 12pt;\n",
       "}\n",
       "#T_eedc5_row6_col10, #T_eedc5_row10_col6 {\n",
       "  background-color: #6d95c8;\n",
       "  color: #f1f1f1;\n",
       "  max-width: 80px;\n",
       "  font-size: 12pt;\n",
       "}\n",
       "#T_eedc5_row6_col11, #T_eedc5_row11_col10 {\n",
       "  background-color: #7299c9;\n",
       "  color: #f1f1f1;\n",
       "  max-width: 80px;\n",
       "  font-size: 12pt;\n",
       "}\n",
       "#T_eedc5_row6_col12 {\n",
       "  background-color: #eed4d9;\n",
       "  color: #000000;\n",
       "  max-width: 80px;\n",
       "  font-size: 12pt;\n",
       "}\n",
       "#T_eedc5_row7_col0 {\n",
       "  background-color: #e6a1af;\n",
       "  color: #000000;\n",
       "  max-width: 80px;\n",
       "  font-size: 12pt;\n",
       "}\n",
       "#T_eedc5_row7_col2 {\n",
       "  background-color: #d8405e;\n",
       "  color: #f1f1f1;\n",
       "  max-width: 80px;\n",
       "  font-size: 12pt;\n",
       "}\n",
       "#T_eedc5_row7_col3 {\n",
       "  background-color: #ecc9d0;\n",
       "  color: #000000;\n",
       "  max-width: 80px;\n",
       "  font-size: 12pt;\n",
       "}\n",
       "#T_eedc5_row7_col4, #T_eedc5_row8_col1 {\n",
       "  background-color: #e28396;\n",
       "  color: #f1f1f1;\n",
       "  max-width: 80px;\n",
       "  font-size: 12pt;\n",
       "}\n",
       "#T_eedc5_row7_col6 {\n",
       "  background-color: #6a93c7;\n",
       "  color: #f1f1f1;\n",
       "  max-width: 80px;\n",
       "  font-size: 12pt;\n",
       "}\n",
       "#T_eedc5_row7_col9, #T_eedc5_row10_col0 {\n",
       "  background-color: #e9b1bc;\n",
       "  color: #000000;\n",
       "  max-width: 80px;\n",
       "  font-size: 12pt;\n",
       "}\n",
       "#T_eedc5_row7_col10 {\n",
       "  background-color: #779dcb;\n",
       "  color: #f1f1f1;\n",
       "  max-width: 80px;\n",
       "  font-size: 12pt;\n",
       "}\n",
       "#T_eedc5_row7_col11, #T_eedc5_row11_col7 {\n",
       "  background-color: #648fc5;\n",
       "  color: #f1f1f1;\n",
       "  max-width: 80px;\n",
       "  font-size: 12pt;\n",
       "}\n",
       "#T_eedc5_row7_col12 {\n",
       "  background-color: #e7a4b1;\n",
       "  color: #000000;\n",
       "  max-width: 80px;\n",
       "  font-size: 12pt;\n",
       "}\n",
       "#T_eedc5_row8_col3, #T_eedc5_row9_col0, #T_eedc5_row9_col6, #T_eedc5_row9_col10, #T_eedc5_row11_col12 {\n",
       "  background-color: #df7288;\n",
       "  color: #f1f1f1;\n",
       "  max-width: 80px;\n",
       "  font-size: 12pt;\n",
       "}\n",
       "#T_eedc5_row8_col9, #T_eedc5_row10_col12 {\n",
       "  background-color: #c8d5e5;\n",
       "  color: #000000;\n",
       "  max-width: 80px;\n",
       "  font-size: 12pt;\n",
       "}\n",
       "#T_eedc5_row8_col11 {\n",
       "  background-color: #e18093;\n",
       "  color: #f1f1f1;\n",
       "  max-width: 80px;\n",
       "  font-size: 12pt;\n",
       "}\n",
       "#T_eedc5_row8_col12 {\n",
       "  background-color: #e0798d;\n",
       "  color: #f1f1f1;\n",
       "  max-width: 80px;\n",
       "  font-size: 12pt;\n",
       "}\n",
       "#T_eedc5_row9_col2, #T_eedc5_row9_col12 {\n",
       "  background-color: #da516c;\n",
       "  color: #f1f1f1;\n",
       "  max-width: 80px;\n",
       "  font-size: 12pt;\n",
       "}\n",
       "#T_eedc5_row9_col3 {\n",
       "  background-color: #d8415f;\n",
       "  color: #f1f1f1;\n",
       "  max-width: 80px;\n",
       "  font-size: 12pt;\n",
       "}\n",
       "#T_eedc5_row9_col4 {\n",
       "  background-color: #da4d69;\n",
       "  color: #f1f1f1;\n",
       "  max-width: 80px;\n",
       "  font-size: 12pt;\n",
       "}\n",
       "#T_eedc5_row9_col7, #T_eedc5_row9_col11 {\n",
       "  background-color: #de6980;\n",
       "  color: #f1f1f1;\n",
       "  max-width: 80px;\n",
       "  font-size: 12pt;\n",
       "}\n",
       "#T_eedc5_row9_col8 {\n",
       "  background-color: #d0dae8;\n",
       "  color: #000000;\n",
       "  max-width: 80px;\n",
       "  font-size: 12pt;\n",
       "}\n",
       "#T_eedc5_row10_col3 {\n",
       "  background-color: #f0e4e6;\n",
       "  color: #000000;\n",
       "  max-width: 80px;\n",
       "  font-size: 12pt;\n",
       "}\n",
       "#T_eedc5_row10_col4 {\n",
       "  background-color: #e9b5bf;\n",
       "  color: #000000;\n",
       "  max-width: 80px;\n",
       "  font-size: 12pt;\n",
       "}\n",
       "#T_eedc5_row10_col5 {\n",
       "  background-color: #e69caa;\n",
       "  color: #000000;\n",
       "  max-width: 80px;\n",
       "  font-size: 12pt;\n",
       "}\n",
       "#T_eedc5_row10_col7 {\n",
       "  background-color: #769ccb;\n",
       "  color: #f1f1f1;\n",
       "  max-width: 80px;\n",
       "  font-size: 12pt;\n",
       "}\n",
       "#T_eedc5_row10_col9, #T_eedc5_row12_col3 {\n",
       "  background-color: #eab9c3;\n",
       "  color: #000000;\n",
       "  max-width: 80px;\n",
       "  font-size: 12pt;\n",
       "}\n",
       "#T_eedc5_row10_col11 {\n",
       "  background-color: #7198c9;\n",
       "  color: #f1f1f1;\n",
       "  max-width: 80px;\n",
       "  font-size: 12pt;\n",
       "}\n",
       "#T_eedc5_row11_col6 {\n",
       "  background-color: #759bca;\n",
       "  color: #f1f1f1;\n",
       "  max-width: 80px;\n",
       "  font-size: 12pt;\n",
       "}\n",
       "#T_eedc5_row11_col9 {\n",
       "  background-color: #e7a8b5;\n",
       "  color: #000000;\n",
       "  max-width: 80px;\n",
       "  font-size: 12pt;\n",
       "}\n",
       "#T_eedc5_row12_col7 {\n",
       "  background-color: #e38d9e;\n",
       "  color: #f1f1f1;\n",
       "  max-width: 80px;\n",
       "  font-size: 12pt;\n",
       "}\n",
       "#T_eedc5_row12_col9 {\n",
       "  background-color: #e28698;\n",
       "  color: #f1f1f1;\n",
       "  max-width: 80px;\n",
       "  font-size: 12pt;\n",
       "}\n",
       "#T_eedc5_row12_col10 {\n",
       "  background-color: #d5deea;\n",
       "  color: #000000;\n",
       "  max-width: 80px;\n",
       "  font-size: 12pt;\n",
       "}\n",
       "</style>\n",
       "<table id=\"T_eedc5\" class=\"dataframe\">\n",
       "  <caption>Корреляция непрерывных признаков</caption>\n",
       "  <thead>\n",
       "    <tr>\n",
       "      <th class=\"blank level0\" >&nbsp;</th>\n",
       "      <th id=\"T_eedc5_level0_col0\" class=\"col_heading level0 col0\" >cholesterol</th>\n",
       "      <th id=\"T_eedc5_level0_col1\" class=\"col_heading level0 col1\" >glucose</th>\n",
       "      <th id=\"T_eedc5_level0_col2\" class=\"col_heading level0 col2\" >hdl_chol</th>\n",
       "      <th id=\"T_eedc5_level0_col3\" class=\"col_heading level0 col3\" >chol_hdl_ratio</th>\n",
       "      <th id=\"T_eedc5_level0_col4\" class=\"col_heading level0 col4\" >age</th>\n",
       "      <th id=\"T_eedc5_level0_col5\" class=\"col_heading level0 col5\" >height</th>\n",
       "      <th id=\"T_eedc5_level0_col6\" class=\"col_heading level0 col6\" >weight</th>\n",
       "      <th id=\"T_eedc5_level0_col7\" class=\"col_heading level0 col7\" >bmi</th>\n",
       "      <th id=\"T_eedc5_level0_col8\" class=\"col_heading level0 col8\" >systolic_bp</th>\n",
       "      <th id=\"T_eedc5_level0_col9\" class=\"col_heading level0 col9\" >diastolic_bp</th>\n",
       "      <th id=\"T_eedc5_level0_col10\" class=\"col_heading level0 col10\" >waist</th>\n",
       "      <th id=\"T_eedc5_level0_col11\" class=\"col_heading level0 col11\" >hip</th>\n",
       "      <th id=\"T_eedc5_level0_col12\" class=\"col_heading level0 col12\" >waist_hip_ratio</th>\n",
       "    </tr>\n",
       "  </thead>\n",
       "  <tbody>\n",
       "    <tr>\n",
       "      <th id=\"T_eedc5_level0_row0\" class=\"row_heading level0 row0\" >cholesterol</th>\n",
       "      <td id=\"T_eedc5_row0_col0\" class=\"data row0 col0\" >1.000</td>\n",
       "      <td id=\"T_eedc5_row0_col1\" class=\"data row0 col1\" >0.158</td>\n",
       "      <td id=\"T_eedc5_row0_col2\" class=\"data row0 col2\" >0.193</td>\n",
       "      <td id=\"T_eedc5_row0_col3\" class=\"data row0 col3\" >0.476</td>\n",
       "      <td id=\"T_eedc5_row0_col4\" class=\"data row0 col4\" >0.247</td>\n",
       "      <td id=\"T_eedc5_row0_col5\" class=\"data row0 col5\" >-0.064</td>\n",
       "      <td id=\"T_eedc5_row0_col6\" class=\"data row0 col6\" >0.062</td>\n",
       "      <td id=\"T_eedc5_row0_col7\" class=\"data row0 col7\" >0.092</td>\n",
       "      <td id=\"T_eedc5_row0_col8\" class=\"data row0 col8\" >0.208</td>\n",
       "      <td id=\"T_eedc5_row0_col9\" class=\"data row0 col9\" >0.166</td>\n",
       "      <td id=\"T_eedc5_row0_col10\" class=\"data row0 col10\" >0.134</td>\n",
       "      <td id=\"T_eedc5_row0_col11\" class=\"data row0 col11\" >0.093</td>\n",
       "      <td id=\"T_eedc5_row0_col12\" class=\"data row0 col12\" >0.092</td>\n",
       "    </tr>\n",
       "    <tr>\n",
       "      <th id=\"T_eedc5_level0_row1\" class=\"row_heading level0 row1\" >glucose</th>\n",
       "      <td id=\"T_eedc5_row1_col0\" class=\"data row1 col0\" >0.158</td>\n",
       "      <td id=\"T_eedc5_row1_col1\" class=\"data row1 col1\" >1.000</td>\n",
       "      <td id=\"T_eedc5_row1_col2\" class=\"data row1 col2\" >-0.158</td>\n",
       "      <td id=\"T_eedc5_row1_col3\" class=\"data row1 col3\" >0.282</td>\n",
       "      <td id=\"T_eedc5_row1_col4\" class=\"data row1 col4\" >0.294</td>\n",
       "      <td id=\"T_eedc5_row1_col5\" class=\"data row1 col5\" >0.098</td>\n",
       "      <td id=\"T_eedc5_row1_col6\" class=\"data row1 col6\" >0.190</td>\n",
       "      <td id=\"T_eedc5_row1_col7\" class=\"data row1 col7\" >0.129</td>\n",
       "      <td id=\"T_eedc5_row1_col8\" class=\"data row1 col8\" >0.163</td>\n",
       "      <td id=\"T_eedc5_row1_col9\" class=\"data row1 col9\" >0.020</td>\n",
       "      <td id=\"T_eedc5_row1_col10\" class=\"data row1 col10\" >0.222</td>\n",
       "      <td id=\"T_eedc5_row1_col11\" class=\"data row1 col11\" >0.138</td>\n",
       "      <td id=\"T_eedc5_row1_col12\" class=\"data row1 col12\" >0.185</td>\n",
       "    </tr>\n",
       "    <tr>\n",
       "      <th id=\"T_eedc5_level0_row2\" class=\"row_heading level0 row2\" >hdl_chol</th>\n",
       "      <td id=\"T_eedc5_row2_col0\" class=\"data row2 col0\" >0.193</td>\n",
       "      <td id=\"T_eedc5_row2_col1\" class=\"data row2 col1\" >-0.158</td>\n",
       "      <td id=\"T_eedc5_row2_col2\" class=\"data row2 col2\" >1.000</td>\n",
       "      <td id=\"T_eedc5_row2_col3\" class=\"data row2 col3\" >-0.682</td>\n",
       "      <td id=\"T_eedc5_row2_col4\" class=\"data row2 col4\" >0.028</td>\n",
       "      <td id=\"T_eedc5_row2_col5\" class=\"data row2 col5\" >-0.087</td>\n",
       "      <td id=\"T_eedc5_row2_col6\" class=\"data row2 col6\" >-0.292</td>\n",
       "      <td id=\"T_eedc5_row2_col7\" class=\"data row2 col7\" >-0.242</td>\n",
       "      <td id=\"T_eedc5_row2_col8\" class=\"data row2 col8\" >0.032</td>\n",
       "      <td id=\"T_eedc5_row2_col9\" class=\"data row2 col9\" >0.078</td>\n",
       "      <td id=\"T_eedc5_row2_col10\" class=\"data row2 col10\" >-0.277</td>\n",
       "      <td id=\"T_eedc5_row2_col11\" class=\"data row2 col11\" >-0.224</td>\n",
       "      <td id=\"T_eedc5_row2_col12\" class=\"data row2 col12\" >-0.159</td>\n",
       "    </tr>\n",
       "    <tr>\n",
       "      <th id=\"T_eedc5_level0_row3\" class=\"row_heading level0 row3\" >chol_hdl_ratio</th>\n",
       "      <td id=\"T_eedc5_row3_col0\" class=\"data row3 col0\" >0.476</td>\n",
       "      <td id=\"T_eedc5_row3_col1\" class=\"data row3 col1\" >0.282</td>\n",
       "      <td id=\"T_eedc5_row3_col2\" class=\"data row3 col2\" >-0.682</td>\n",
       "      <td id=\"T_eedc5_row3_col3\" class=\"data row3 col3\" >1.000</td>\n",
       "      <td id=\"T_eedc5_row3_col4\" class=\"data row3 col4\" >0.163</td>\n",
       "      <td id=\"T_eedc5_row3_col5\" class=\"data row3 col5\" >0.081</td>\n",
       "      <td id=\"T_eedc5_row3_col6\" class=\"data row3 col6\" >0.279</td>\n",
       "      <td id=\"T_eedc5_row3_col7\" class=\"data row3 col7\" >0.228</td>\n",
       "      <td id=\"T_eedc5_row3_col8\" class=\"data row3 col8\" >0.116</td>\n",
       "      <td id=\"T_eedc5_row3_col9\" class=\"data row3 col9\" >0.038</td>\n",
       "      <td id=\"T_eedc5_row3_col10\" class=\"data row3 col10\" >0.313</td>\n",
       "      <td id=\"T_eedc5_row3_col11\" class=\"data row3 col11\" >0.209</td>\n",
       "      <td id=\"T_eedc5_row3_col12\" class=\"data row3 col12\" >0.243</td>\n",
       "    </tr>\n",
       "    <tr>\n",
       "      <th id=\"T_eedc5_level0_row4\" class=\"row_heading level0 row4\" >age</th>\n",
       "      <td id=\"T_eedc5_row4_col0\" class=\"data row4 col0\" >0.247</td>\n",
       "      <td id=\"T_eedc5_row4_col1\" class=\"data row4 col1\" >0.294</td>\n",
       "      <td id=\"T_eedc5_row4_col2\" class=\"data row4 col2\" >0.028</td>\n",
       "      <td id=\"T_eedc5_row4_col3\" class=\"data row4 col3\" >0.163</td>\n",
       "      <td id=\"T_eedc5_row4_col4\" class=\"data row4 col4\" >1.000</td>\n",
       "      <td id=\"T_eedc5_row4_col5\" class=\"data row4 col5\" >-0.082</td>\n",
       "      <td id=\"T_eedc5_row4_col6\" class=\"data row4 col6\" >-0.057</td>\n",
       "      <td id=\"T_eedc5_row4_col7\" class=\"data row4 col7\" >-0.009</td>\n",
       "      <td id=\"T_eedc5_row4_col8\" class=\"data row4 col8\" >0.453</td>\n",
       "      <td id=\"T_eedc5_row4_col9\" class=\"data row4 col9\" >0.069</td>\n",
       "      <td id=\"T_eedc5_row4_col10\" class=\"data row4 col10\" >0.151</td>\n",
       "      <td id=\"T_eedc5_row4_col11\" class=\"data row4 col11\" >0.005</td>\n",
       "      <td id=\"T_eedc5_row4_col12\" class=\"data row4 col12\" >0.275</td>\n",
       "    </tr>\n",
       "    <tr>\n",
       "      <th id=\"T_eedc5_level0_row5\" class=\"row_heading level0 row5\" >height</th>\n",
       "      <td id=\"T_eedc5_row5_col0\" class=\"data row5 col0\" >-0.064</td>\n",
       "      <td id=\"T_eedc5_row5_col1\" class=\"data row5 col1\" >0.098</td>\n",
       "      <td id=\"T_eedc5_row5_col2\" class=\"data row5 col2\" >-0.087</td>\n",
       "      <td id=\"T_eedc5_row5_col3\" class=\"data row5 col3\" >0.081</td>\n",
       "      <td id=\"T_eedc5_row5_col4\" class=\"data row5 col4\" >-0.082</td>\n",
       "      <td id=\"T_eedc5_row5_col5\" class=\"data row5 col5\" >1.000</td>\n",
       "      <td id=\"T_eedc5_row5_col6\" class=\"data row5 col6\" >0.255</td>\n",
       "      <td id=\"T_eedc5_row5_col7\" class=\"data row5 col7\" >-0.260</td>\n",
       "      <td id=\"T_eedc5_row5_col8\" class=\"data row5 col8\" >-0.041</td>\n",
       "      <td id=\"T_eedc5_row5_col9\" class=\"data row5 col9\" >0.044</td>\n",
       "      <td id=\"T_eedc5_row5_col10\" class=\"data row5 col10\" >0.057</td>\n",
       "      <td id=\"T_eedc5_row5_col11\" class=\"data row5 col11\" >-0.096</td>\n",
       "      <td id=\"T_eedc5_row5_col12\" class=\"data row5 col12\" >0.253</td>\n",
       "    </tr>\n",
       "    <tr>\n",
       "      <th id=\"T_eedc5_level0_row6\" class=\"row_heading level0 row6\" >weight</th>\n",
       "      <td id=\"T_eedc5_row6_col0\" class=\"data row6 col0\" >0.062</td>\n",
       "      <td id=\"T_eedc5_row6_col1\" class=\"data row6 col1\" >0.190</td>\n",
       "      <td id=\"T_eedc5_row6_col2\" class=\"data row6 col2\" >-0.292</td>\n",
       "      <td id=\"T_eedc5_row6_col3\" class=\"data row6 col3\" >0.279</td>\n",
       "      <td id=\"T_eedc5_row6_col4\" class=\"data row6 col4\" >-0.057</td>\n",
       "      <td id=\"T_eedc5_row6_col5\" class=\"data row6 col5\" >0.255</td>\n",
       "      <td id=\"T_eedc5_row6_col6\" class=\"data row6 col6\" >1.000</td>\n",
       "      <td id=\"T_eedc5_row6_col7\" class=\"data row6 col7\" >0.860</td>\n",
       "      <td id=\"T_eedc5_row6_col8\" class=\"data row6 col8\" >0.097</td>\n",
       "      <td id=\"T_eedc5_row6_col9\" class=\"data row6 col9\" >0.166</td>\n",
       "      <td id=\"T_eedc5_row6_col10\" class=\"data row6 col10\" >0.848</td>\n",
       "      <td id=\"T_eedc5_row6_col11\" class=\"data row6 col11\" >0.827</td>\n",
       "      <td id=\"T_eedc5_row6_col12\" class=\"data row6 col12\" >0.250</td>\n",
       "    </tr>\n",
       "    <tr>\n",
       "      <th id=\"T_eedc5_level0_row7\" class=\"row_heading level0 row7\" >bmi</th>\n",
       "      <td id=\"T_eedc5_row7_col0\" class=\"data row7 col0\" >0.092</td>\n",
       "      <td id=\"T_eedc5_row7_col1\" class=\"data row7 col1\" >0.129</td>\n",
       "      <td id=\"T_eedc5_row7_col2\" class=\"data row7 col2\" >-0.242</td>\n",
       "      <td id=\"T_eedc5_row7_col3\" class=\"data row7 col3\" >0.228</td>\n",
       "      <td id=\"T_eedc5_row7_col4\" class=\"data row7 col4\" >-0.009</td>\n",
       "      <td id=\"T_eedc5_row7_col5\" class=\"data row7 col5\" >-0.260</td>\n",
       "      <td id=\"T_eedc5_row7_col6\" class=\"data row7 col6\" >0.860</td>\n",
       "      <td id=\"T_eedc5_row7_col7\" class=\"data row7 col7\" >1.000</td>\n",
       "      <td id=\"T_eedc5_row7_col8\" class=\"data row7 col8\" >0.121</td>\n",
       "      <td id=\"T_eedc5_row7_col9\" class=\"data row7 col9\" >0.145</td>\n",
       "      <td id=\"T_eedc5_row7_col10\" class=\"data row7 col10\" >0.811</td>\n",
       "      <td id=\"T_eedc5_row7_col11\" class=\"data row7 col11\" >0.882</td>\n",
       "      <td id=\"T_eedc5_row7_col12\" class=\"data row7 col12\" >0.101</td>\n",
       "    </tr>\n",
       "    <tr>\n",
       "      <th id=\"T_eedc5_level0_row8\" class=\"row_heading level0 row8\" >systolic_bp</th>\n",
       "      <td id=\"T_eedc5_row8_col0\" class=\"data row8 col0\" >0.208</td>\n",
       "      <td id=\"T_eedc5_row8_col1\" class=\"data row8 col1\" >0.163</td>\n",
       "      <td id=\"T_eedc5_row8_col2\" class=\"data row8 col2\" >0.032</td>\n",
       "      <td id=\"T_eedc5_row8_col3\" class=\"data row8 col3\" >0.116</td>\n",
       "      <td id=\"T_eedc5_row8_col4\" class=\"data row8 col4\" >0.453</td>\n",
       "      <td id=\"T_eedc5_row8_col5\" class=\"data row8 col5\" >-0.041</td>\n",
       "      <td id=\"T_eedc5_row8_col6\" class=\"data row8 col6\" >0.097</td>\n",
       "      <td id=\"T_eedc5_row8_col7\" class=\"data row8 col7\" >0.121</td>\n",
       "      <td id=\"T_eedc5_row8_col8\" class=\"data row8 col8\" >1.000</td>\n",
       "      <td id=\"T_eedc5_row8_col9\" class=\"data row8 col9\" >0.604</td>\n",
       "      <td id=\"T_eedc5_row8_col10\" class=\"data row8 col10\" >0.211</td>\n",
       "      <td id=\"T_eedc5_row8_col11\" class=\"data row8 col11\" >0.155</td>\n",
       "      <td id=\"T_eedc5_row8_col12\" class=\"data row8 col12\" >0.138</td>\n",
       "    </tr>\n",
       "    <tr>\n",
       "      <th id=\"T_eedc5_level0_row9\" class=\"row_heading level0 row9\" >diastolic_bp</th>\n",
       "      <td id=\"T_eedc5_row9_col0\" class=\"data row9 col0\" >0.166</td>\n",
       "      <td id=\"T_eedc5_row9_col1\" class=\"data row9 col1\" >0.020</td>\n",
       "      <td id=\"T_eedc5_row9_col2\" class=\"data row9 col2\" >0.078</td>\n",
       "      <td id=\"T_eedc5_row9_col3\" class=\"data row9 col3\" >0.038</td>\n",
       "      <td id=\"T_eedc5_row9_col4\" class=\"data row9 col4\" >0.069</td>\n",
       "      <td id=\"T_eedc5_row9_col5\" class=\"data row9 col5\" >0.044</td>\n",
       "      <td id=\"T_eedc5_row9_col6\" class=\"data row9 col6\" >0.166</td>\n",
       "      <td id=\"T_eedc5_row9_col7\" class=\"data row9 col7\" >0.145</td>\n",
       "      <td id=\"T_eedc5_row9_col8\" class=\"data row9 col8\" >0.604</td>\n",
       "      <td id=\"T_eedc5_row9_col9\" class=\"data row9 col9\" >1.000</td>\n",
       "      <td id=\"T_eedc5_row9_col10\" class=\"data row9 col10\" >0.166</td>\n",
       "      <td id=\"T_eedc5_row9_col11\" class=\"data row9 col11\" >0.144</td>\n",
       "      <td id=\"T_eedc5_row9_col12\" class=\"data row9 col12\" >0.078</td>\n",
       "    </tr>\n",
       "    <tr>\n",
       "      <th id=\"T_eedc5_level0_row10\" class=\"row_heading level0 row10\" >waist</th>\n",
       "      <td id=\"T_eedc5_row10_col0\" class=\"data row10 col0\" >0.134</td>\n",
       "      <td id=\"T_eedc5_row10_col1\" class=\"data row10 col1\" >0.222</td>\n",
       "      <td id=\"T_eedc5_row10_col2\" class=\"data row10 col2\" >-0.277</td>\n",
       "      <td id=\"T_eedc5_row10_col3\" class=\"data row10 col3\" >0.313</td>\n",
       "      <td id=\"T_eedc5_row10_col4\" class=\"data row10 col4\" >0.151</td>\n",
       "      <td id=\"T_eedc5_row10_col5\" class=\"data row10 col5\" >0.057</td>\n",
       "      <td id=\"T_eedc5_row10_col6\" class=\"data row10 col6\" >0.848</td>\n",
       "      <td id=\"T_eedc5_row10_col7\" class=\"data row10 col7\" >0.811</td>\n",
       "      <td id=\"T_eedc5_row10_col8\" class=\"data row10 col8\" >0.211</td>\n",
       "      <td id=\"T_eedc5_row10_col9\" class=\"data row10 col9\" >0.166</td>\n",
       "      <td id=\"T_eedc5_row10_col10\" class=\"data row10 col10\" >1.000</td>\n",
       "      <td id=\"T_eedc5_row10_col11\" class=\"data row10 col11\" >0.835</td>\n",
       "      <td id=\"T_eedc5_row10_col12\" class=\"data row10 col12\" >0.514</td>\n",
       "    </tr>\n",
       "    <tr>\n",
       "      <th id=\"T_eedc5_level0_row11\" class=\"row_heading level0 row11\" >hip</th>\n",
       "      <td id=\"T_eedc5_row11_col0\" class=\"data row11 col0\" >0.093</td>\n",
       "      <td id=\"T_eedc5_row11_col1\" class=\"data row11 col1\" >0.138</td>\n",
       "      <td id=\"T_eedc5_row11_col2\" class=\"data row11 col2\" >-0.224</td>\n",
       "      <td id=\"T_eedc5_row11_col3\" class=\"data row11 col3\" >0.209</td>\n",
       "      <td id=\"T_eedc5_row11_col4\" class=\"data row11 col4\" >0.005</td>\n",
       "      <td id=\"T_eedc5_row11_col5\" class=\"data row11 col5\" >-0.096</td>\n",
       "      <td id=\"T_eedc5_row11_col6\" class=\"data row11 col6\" >0.827</td>\n",
       "      <td id=\"T_eedc5_row11_col7\" class=\"data row11 col7\" >0.882</td>\n",
       "      <td id=\"T_eedc5_row11_col8\" class=\"data row11 col8\" >0.155</td>\n",
       "      <td id=\"T_eedc5_row11_col9\" class=\"data row11 col9\" >0.144</td>\n",
       "      <td id=\"T_eedc5_row11_col10\" class=\"data row11 col10\" >0.835</td>\n",
       "      <td id=\"T_eedc5_row11_col11\" class=\"data row11 col11\" >1.000</td>\n",
       "      <td id=\"T_eedc5_row11_col12\" class=\"data row11 col12\" >-0.038</td>\n",
       "    </tr>\n",
       "    <tr>\n",
       "      <th id=\"T_eedc5_level0_row12\" class=\"row_heading level0 row12\" >waist_hip_ratio</th>\n",
       "      <td id=\"T_eedc5_row12_col0\" class=\"data row12 col0\" >0.092</td>\n",
       "      <td id=\"T_eedc5_row12_col1\" class=\"data row12 col1\" >0.185</td>\n",
       "      <td id=\"T_eedc5_row12_col2\" class=\"data row12 col2\" >-0.159</td>\n",
       "      <td id=\"T_eedc5_row12_col3\" class=\"data row12 col3\" >0.243</td>\n",
       "      <td id=\"T_eedc5_row12_col4\" class=\"data row12 col4\" >0.275</td>\n",
       "      <td id=\"T_eedc5_row12_col5\" class=\"data row12 col5\" >0.253</td>\n",
       "      <td id=\"T_eedc5_row12_col6\" class=\"data row12 col6\" >0.250</td>\n",
       "      <td id=\"T_eedc5_row12_col7\" class=\"data row12 col7\" >0.101</td>\n",
       "      <td id=\"T_eedc5_row12_col8\" class=\"data row12 col8\" >0.138</td>\n",
       "      <td id=\"T_eedc5_row12_col9\" class=\"data row12 col9\" >0.078</td>\n",
       "      <td id=\"T_eedc5_row12_col10\" class=\"data row12 col10\" >0.514</td>\n",
       "      <td id=\"T_eedc5_row12_col11\" class=\"data row12 col11\" >-0.038</td>\n",
       "      <td id=\"T_eedc5_row12_col12\" class=\"data row12 col12\" >1.000</td>\n",
       "    </tr>\n",
       "  </tbody>\n",
       "</table>\n"
      ],
      "text/plain": [
       "<pandas.io.formats.style.Styler at 0x7dad3db65450>"
      ]
     },
     "execution_count": 562,
     "metadata": {},
     "output_type": "execute_result"
    }
   ],
   "source": [
    "corr = df[cont].corr()\n",
    "cmap = sns.diverging_palette(5, 250, as_cmap=True)\n",
    "\n",
    "def magnify():\n",
    "    return [dict(selector=\"th\",\n",
    "                 props=[(\"font-size\", \"7pt\")]),\n",
    "            dict(selector=\"td\",\n",
    "                 props=[('padding', \"0em 0em\")]),\n",
    "            dict(selector=\"th:hover\",\n",
    "                 props=[(\"font-size\", \"12pt\")]),\n",
    "            dict(selector=\"tr:hover td:hover\",\n",
    "                 props=[('max-width', '200px'),\n",
    "                        ('font-size', '12pt')])\n",
    "]\n",
    "\n",
    "corr.style.background_gradient(cmap, axis=1)\\\n",
    "    .format(precision=3)\\\n",
    "    .set_properties(**{'max-width': '80px', 'font-size': '12pt'})\\\n",
    "    .set_caption(\"Корреляция непрерывных признаков\")\\\n",
    "    .set_table_styles(magnify())"
   ]
  },
  {
   "cell_type": "code",
   "execution_count": null,
   "metadata": {
    "id": "8hlTcxvo0uaQ"
   },
   "outputs": [],
   "source": [
    "X=df.values\n",
    "y=target.values"
   ]
  },
  {
   "cell_type": "code",
   "execution_count": null,
   "metadata": {
    "colab": {
     "base_uri": "https://localhost:8080/"
    },
    "executionInfo": {
     "elapsed": 304,
     "status": "ok",
     "timestamp": 1701531763990,
     "user": {
      "displayName": "Алексей Медведев",
      "userId": "00285943979098250409"
     },
     "user_tz": -180
    },
    "id": "ra6JLEkwKny1",
    "outputId": "33cfc377-bd04-4cb5-92d9-df8932fae688"
   },
   "outputs": [
    {
     "data": {
      "text/plain": [
       "array([0.59090906, 3.25      ], dtype=float32)"
      ]
     },
     "execution_count": 593,
     "metadata": {},
     "output_type": "execute_result"
    }
   ],
   "source": [
    "from sklearn.utils.class_weight import compute_class_weight\n",
    "class_weights = compute_class_weight(class_weight='balanced', classes=[0,1], y=y)\n",
    "class_weights = np.array([x for x in class_weights], dtype=np.float32)\n",
    "class_weights"
   ]
  },
  {
   "cell_type": "code",
   "execution_count": null,
   "metadata": {
    "id": "C0hlO7hd2CT_"
   },
   "outputs": [],
   "source": [
    "from sklearn.model_selection import train_test_split\n",
    "X_train, X_dum, y_train, y_dum=train_test_split(X,y, test_size=0.2)\n",
    "X_val, X_test, y_val, y_test= train_test_split(X_dum, y_dum ,test_size=0.5)"
   ]
  },
  {
   "cell_type": "code",
   "execution_count": null,
   "metadata": {
    "id": "LXC9giQm5wt-"
   },
   "outputs": [],
   "source": [
    "import torch\n",
    "import torch.optim as optim\n",
    "import torch.nn as nn\n",
    "from torch.utils.data import Dataset, TensorDataset, DataLoader\n",
    "import torchvision.transforms as T"
   ]
  },
  {
   "cell_type": "code",
   "execution_count": null,
   "metadata": {
    "colab": {
     "base_uri": "https://localhost:8080/",
     "height": 35
    },
    "executionInfo": {
     "elapsed": 20,
     "status": "ok",
     "timestamp": 1701531764688,
     "user": {
      "displayName": "Алексей Медведев",
      "userId": "00285943979098250409"
     },
     "user_tz": -180
    },
    "id": "Md-N1bCg6OoS",
    "outputId": "c2293009-1323-4125-db76-542e662b1857"
   },
   "outputs": [
    {
     "data": {
      "application/vnd.google.colaboratory.intrinsic+json": {
       "type": "string"
      },
      "text/plain": [
       "'cpu'"
      ]
     },
     "execution_count": 596,
     "metadata": {},
     "output_type": "execute_result"
    }
   ],
   "source": [
    "device = 'cuda' if torch.cuda.is_available() else 'cpu' # вычисления на графическом процессоре, если возможно\n",
    "device"
   ]
  },
  {
   "cell_type": "code",
   "execution_count": null,
   "metadata": {
    "id": "LBysrvxK6RbG"
   },
   "outputs": [],
   "source": [
    "class MyDataset(Dataset):\n",
    "  def __init__(self, data, targets, transform=None):\n",
    "      self.data = torch.Tensor(data)\n",
    "      self.targets = torch.LongTensor(targets)\n",
    "      self.transform = transform\n",
    "\n",
    "  def __getitem__(self, index):\n",
    "      x = self.data[index]\n",
    "      y = self.targets[index]\n",
    "      return x, y\n",
    "\n",
    "  def get_labels(self):\n",
    "    return self.targets\n",
    "\n",
    "  def __len__(self):\n",
    "      return len(self.data)"
   ]
  },
  {
   "cell_type": "code",
   "execution_count": null,
   "metadata": {
    "id": "4P2XVe3t6ZOg"
   },
   "outputs": [],
   "source": [
    "train_dataset=MyDataset(X_train,y_train)\n",
    "val_dataset=MyDataset(X_val,y_val)\n",
    "test_dataset=MyDataset(X_test,y_test)"
   ]
  },
  {
   "cell_type": "code",
   "execution_count": null,
   "metadata": {
    "colab": {
     "base_uri": "https://localhost:8080/"
    },
    "executionInfo": {
     "elapsed": 19,
     "status": "ok",
     "timestamp": 1701531764690,
     "user": {
      "displayName": "Алексей Медведев",
      "userId": "00285943979098250409"
     },
     "user_tz": -180
    },
    "id": "Lw5h805Z6n1K",
    "outputId": "0ec40853-f810-40f6-ef64-1c92941c7d0a"
   },
   "outputs": [
    {
     "name": "stdout",
     "output_type": "stream",
     "text": [
      "Длина тестовой выборки: 39\n",
      "Длина валидационной выборки: 39\n",
      "Длина тренировочной выборки: 312\n"
     ]
    }
   ],
   "source": [
    "print(f'''Длина тестовой выборки: {len(test_dataset)}\n",
    "Длина валидационной выборки: {len(val_dataset)}\n",
    "Длина тренировочной выборки: {len(train_dataset)}''')"
   ]
  },
  {
   "cell_type": "code",
   "execution_count": null,
   "metadata": {
    "colab": {
     "base_uri": "https://localhost:8080/"
    },
    "executionInfo": {
     "elapsed": 15,
     "status": "ok",
     "timestamp": 1701531764690,
     "user": {
      "displayName": "Алексей Медведев",
      "userId": "00285943979098250409"
     },
     "user_tz": -180
    },
    "id": "bjdVIX6V6wwa",
    "outputId": "5d54169a-8825-464e-87f8-7370dca8197c"
   },
   "outputs": [
    {
     "data": {
      "text/plain": [
       "(tensor([-0.6000,  5.0467, -0.7143,  0.6364,  0.0962,  1.1667,  1.7487,  0.7951,\n",
       "          0.5385,  1.0667,  0.6250,  0.7143,  0.1000,  0.0000,  1.0000]),\n",
       " tensor(1))"
      ]
     },
     "execution_count": 600,
     "metadata": {},
     "output_type": "execute_result"
    }
   ],
   "source": [
    "train_dataset[0]"
   ]
  },
  {
   "cell_type": "code",
   "execution_count": null,
   "metadata": {
    "colab": {
     "base_uri": "https://localhost:8080/"
    },
    "executionInfo": {
     "elapsed": 7590,
     "status": "ok",
     "timestamp": 1701531772269,
     "user": {
      "displayName": "Алексей Медведев",
      "userId": "00285943979098250409"
     },
     "user_tz": -180
    },
    "id": "KmsnDjJjFEsJ",
    "outputId": "97b62222-f782-4200-d7ff-c8c41b4675fd"
   },
   "outputs": [
    {
     "name": "stdout",
     "output_type": "stream",
     "text": [
      "Requirement already satisfied: torchsampler in /usr/local/lib/python3.10/dist-packages (0.1.2)\n",
      "Requirement already satisfied: torch>=1.3 in /usr/local/lib/python3.10/dist-packages (from torchsampler) (2.1.0+cu118)\n",
      "Requirement already satisfied: torchvision>=0.5 in /usr/local/lib/python3.10/dist-packages (from torchsampler) (0.16.0+cu118)\n",
      "Requirement already satisfied: pandas in /usr/local/lib/python3.10/dist-packages (from torchsampler) (1.5.3)\n",
      "Requirement already satisfied: filelock in /usr/local/lib/python3.10/dist-packages (from torch>=1.3->torchsampler) (3.13.1)\n",
      "Requirement already satisfied: typing-extensions in /usr/local/lib/python3.10/dist-packages (from torch>=1.3->torchsampler) (4.5.0)\n",
      "Requirement already satisfied: sympy in /usr/local/lib/python3.10/dist-packages (from torch>=1.3->torchsampler) (1.12)\n",
      "Requirement already satisfied: networkx in /usr/local/lib/python3.10/dist-packages (from torch>=1.3->torchsampler) (3.2.1)\n",
      "Requirement already satisfied: jinja2 in /usr/local/lib/python3.10/dist-packages (from torch>=1.3->torchsampler) (3.1.2)\n",
      "Requirement already satisfied: fsspec in /usr/local/lib/python3.10/dist-packages (from torch>=1.3->torchsampler) (2023.6.0)\n",
      "Requirement already satisfied: triton==2.1.0 in /usr/local/lib/python3.10/dist-packages (from torch>=1.3->torchsampler) (2.1.0)\n",
      "Requirement already satisfied: numpy in /usr/local/lib/python3.10/dist-packages (from torchvision>=0.5->torchsampler) (1.23.5)\n",
      "Requirement already satisfied: requests in /usr/local/lib/python3.10/dist-packages (from torchvision>=0.5->torchsampler) (2.31.0)\n",
      "Requirement already satisfied: pillow!=8.3.*,>=5.3.0 in /usr/local/lib/python3.10/dist-packages (from torchvision>=0.5->torchsampler) (9.4.0)\n",
      "Requirement already satisfied: python-dateutil>=2.8.1 in /usr/local/lib/python3.10/dist-packages (from pandas->torchsampler) (2.8.2)\n",
      "Requirement already satisfied: pytz>=2020.1 in /usr/local/lib/python3.10/dist-packages (from pandas->torchsampler) (2023.3.post1)\n",
      "Requirement already satisfied: six>=1.5 in /usr/local/lib/python3.10/dist-packages (from python-dateutil>=2.8.1->pandas->torchsampler) (1.16.0)\n",
      "Requirement already satisfied: MarkupSafe>=2.0 in /usr/local/lib/python3.10/dist-packages (from jinja2->torch>=1.3->torchsampler) (2.1.3)\n",
      "Requirement already satisfied: charset-normalizer<4,>=2 in /usr/local/lib/python3.10/dist-packages (from requests->torchvision>=0.5->torchsampler) (3.3.2)\n",
      "Requirement already satisfied: idna<4,>=2.5 in /usr/local/lib/python3.10/dist-packages (from requests->torchvision>=0.5->torchsampler) (3.6)\n",
      "Requirement already satisfied: urllib3<3,>=1.21.1 in /usr/local/lib/python3.10/dist-packages (from requests->torchvision>=0.5->torchsampler) (2.0.7)\n",
      "Requirement already satisfied: certifi>=2017.4.17 in /usr/local/lib/python3.10/dist-packages (from requests->torchvision>=0.5->torchsampler) (2023.11.17)\n",
      "Requirement already satisfied: mpmath>=0.19 in /usr/local/lib/python3.10/dist-packages (from sympy->torch>=1.3->torchsampler) (1.3.0)\n"
     ]
    }
   ],
   "source": [
    "! pip install torchsampler"
   ]
  },
  {
   "cell_type": "code",
   "execution_count": null,
   "metadata": {
    "id": "K8p1BrtVFFiK"
   },
   "outputs": [],
   "source": [
    "from torchsampler import ImbalancedDatasetSampler"
   ]
  },
  {
   "cell_type": "code",
   "execution_count": null,
   "metadata": {
    "id": "C7d1gBsf6-uB"
   },
   "outputs": [],
   "source": [
    "batch_size=16 # размер пакета\n",
    "train_loader = DataLoader(train_dataset, batch_size=batch_size,shuffle=False,\n",
    "                          sampler=ImbalancedDatasetSampler(train_dataset))\n",
    "val_loader = DataLoader(val_dataset, batch_size=batch_size,shuffle=True)\n",
    "test_loader = DataLoader(test_dataset, batch_size=batch_size,shuffle=True)"
   ]
  },
  {
   "cell_type": "code",
   "execution_count": null,
   "metadata": {
    "id": "lJxacKRv7Yc_"
   },
   "outputs": [],
   "source": [
    "class Classification_Model_FFNN(nn.Module):\n",
    "  def __init__(self, num_inputs, num_classes):\n",
    "      super(Classification_Model_FFNN, self).__init__()\n",
    "      self.pipe = nn.Sequential(\n",
    "          nn.Linear(num_inputs, 64, bias=False),\n",
    "          nn.ReLU6(inplace=True),\n",
    "          nn.BatchNorm1d(64),\n",
    "\n",
    "          nn.Linear(64, 48, bias=False),\n",
    "          nn.ReLU6(inplace=True),\n",
    "          nn.BatchNorm1d(48),\n",
    "\n",
    "          nn.Linear(48, 32, bias=False),\n",
    "          nn.ReLU6(inplace=True),\n",
    "          nn.BatchNorm1d(32),\n",
    "\n",
    "          nn.Linear(32, 16, bias=False),\n",
    "          nn.ReLU6(inplace=True),\n",
    "          nn.BatchNorm1d(16),\n",
    "\n",
    "          nn.Linear(16, num_classes))\n",
    "\n",
    "  def forward(self, x):\n",
    "      return self.pipe(x)"
   ]
  },
  {
   "cell_type": "code",
   "execution_count": null,
   "metadata": {
    "id": "igoP1ZEH7zF4"
   },
   "outputs": [],
   "source": [
    "model=Classification_Model_FFNN(15,2)\n",
    "model.to(device);"
   ]
  },
  {
   "cell_type": "code",
   "execution_count": null,
   "metadata": {
    "id": "GfhlaWd98S41"
   },
   "outputs": [],
   "source": [
    "#! pip install torchinfo"
   ]
  },
  {
   "cell_type": "code",
   "execution_count": null,
   "metadata": {
    "colab": {
     "base_uri": "https://localhost:8080/"
    },
    "executionInfo": {
     "elapsed": 13,
     "status": "ok",
     "timestamp": 1701532600261,
     "user": {
      "displayName": "Алексей Медведев",
      "userId": "00285943979098250409"
     },
     "user_tz": -180
    },
    "id": "sMQt8DRn8U6w",
    "outputId": "be224a24-c1f5-446d-aba8-c99f56ea72d9"
   },
   "outputs": [
    {
     "data": {
      "text/plain": [
       "==========================================================================================\n",
       "Layer (type:depth-idx)                   Output Shape              Param #\n",
       "==========================================================================================\n",
       "Classification_Model_FFNN                [1, 2]                    --\n",
       "├─Sequential: 1-1                        [1, 2]                    --\n",
       "│    └─Linear: 2-1                       [1, 64]                   960\n",
       "│    └─ReLU6: 2-2                        [1, 64]                   --\n",
       "│    └─BatchNorm1d: 2-3                  [1, 64]                   128\n",
       "│    └─Linear: 2-4                       [1, 48]                   3,072\n",
       "│    └─ReLU6: 2-5                        [1, 48]                   --\n",
       "│    └─BatchNorm1d: 2-6                  [1, 48]                   96\n",
       "│    └─Linear: 2-7                       [1, 32]                   1,536\n",
       "│    └─ReLU6: 2-8                        [1, 32]                   --\n",
       "│    └─BatchNorm1d: 2-9                  [1, 32]                   64\n",
       "│    └─Linear: 2-10                      [1, 16]                   512\n",
       "│    └─ReLU6: 2-11                       [1, 16]                   --\n",
       "│    └─BatchNorm1d: 2-12                 [1, 16]                   32\n",
       "│    └─Linear: 2-13                      [1, 2]                    34\n",
       "==========================================================================================\n",
       "Total params: 6,434\n",
       "Trainable params: 6,434\n",
       "Non-trainable params: 0\n",
       "Total mult-adds (M): 0.01\n",
       "==========================================================================================\n",
       "Input size (MB): 0.00\n",
       "Forward/backward pass size (MB): 0.00\n",
       "Params size (MB): 0.03\n",
       "Estimated Total Size (MB): 0.03\n",
       "=========================================================================================="
      ]
     },
     "execution_count": 732,
     "metadata": {},
     "output_type": "execute_result"
    }
   ],
   "source": [
    "from torchinfo import summary\n",
    "summary(model,input_size=(1, 15))"
   ]
  },
  {
   "cell_type": "code",
   "execution_count": null,
   "metadata": {
    "id": "FheuoNTw9eOm"
   },
   "outputs": [],
   "source": [
    "criterion = nn.CrossEntropyLoss(weight=torch.tensor(class_weights))\n",
    "#criterion = nn.CrossEntropyLoss()\n",
    "optimizer = optim.Adam(model.parameters(), weight_decay=0.1)"
   ]
  },
  {
   "cell_type": "code",
   "execution_count": null,
   "metadata": {
    "id": "4c6W0J148Xnc"
   },
   "outputs": [],
   "source": [
    "from tqdm import tqdm"
   ]
  },
  {
   "cell_type": "code",
   "execution_count": null,
   "metadata": {
    "id": "JduOOZDm9ag2"
   },
   "outputs": [],
   "source": [
    "def accuracy(predictions, labels):\n",
    "    classes = torch.argmax(predictions, dim=1)\n",
    "    return torch.mean((classes == labels).float())"
   ]
  },
  {
   "cell_type": "code",
   "execution_count": null,
   "metadata": {
    "id": "w26AOOpl8wOj"
   },
   "outputs": [],
   "source": [
    "train_losses=[]\n",
    "train_accs=[]\n",
    "def train(model,epoch):\n",
    "  print('\\nEpoch : %d'%epoch)\n",
    "  model.train() # веса модели можно обновлять\n",
    "  running_loss= 0.\n",
    "  running_acc = 0.\n",
    "  for data in tqdm(train_loader):\n",
    "      inputs, targets=data[0].to(device),data[1].to(device) # распаковываем пакеты\n",
    "      optimizer.zero_grad() # обнуляем градиенты\n",
    "      outputs=model(inputs) # считаем предсказания - прямой проход модели\n",
    "      loss=criterion(outputs,targets) # ошибка пакета\n",
    "      loss.backward() # обратное распространение ошибки\n",
    "      optimizer.step() # итерация алгоритма оптимизации\n",
    "\n",
    "      running_loss += loss.item()\n",
    "      running_acc += accuracy(outputs,targets)\n",
    "\n",
    "  train_loss=running_loss/len(train_loader)\n",
    "  train_acc=running_acc/len(train_loader)\n",
    "\n",
    "  train_losses.append(train_loss)\n",
    "  train_accs.append(train_acc)\n",
    "  print('Средняя ошибка модели на тренировочной выборке: %.4f'%(train_loss)+'   Средняя точность модели на тренировочной выборке: %.4f'%(train_acc))"
   ]
  },
  {
   "cell_type": "code",
   "execution_count": null,
   "metadata": {
    "id": "nMgDnLoa_Rgc"
   },
   "outputs": [],
   "source": [
    "val_losses=[]\n",
    "val_accs=[]\n",
    "def val(model,epoch):\n",
    "    print('\\nEpoch : %d'%epoch)\n",
    "    model.eval() # веса модели заморожены\n",
    "    running_loss = 0.\n",
    "    running_acc = 0.\n",
    "    with torch.no_grad(): # запрещаем переисывать градиенты\n",
    "        for data in tqdm(val_loader):\n",
    "            inputs, targets=data[0].to(device),data[1].to(device)\n",
    "            outputs=model(inputs)\n",
    "            loss=criterion(outputs,targets)\n",
    "\n",
    "            running_loss += loss.item()\n",
    "            running_acc += accuracy(outputs,targets)\n",
    "\n",
    "        val_loss=running_loss/len(val_loader)\n",
    "        val_acc=running_acc/len(val_loader)\n",
    "\n",
    "        val_losses.append(val_loss)\n",
    "        val_accs.append(val_acc)\n",
    "        print('Средняя ошибка модели на валидационной выборке: %.4f'%(val_loss)+'   Средняя точность модели на валидационной выборке: %.4f'%(val_acc))"
   ]
  },
  {
   "cell_type": "code",
   "execution_count": null,
   "metadata": {
    "id": "JEd35yW_EBA1"
   },
   "outputs": [],
   "source": [
    "class EarlyStopper:\n",
    "    def __init__(self, patience=1, min_delta=0):\n",
    "        self.patience = patience\n",
    "        self.min_delta = min_delta\n",
    "        self.counter = 0\n",
    "        self.min_validation_loss = float('inf')\n",
    "\n",
    "    def early_stop(self, validation_loss):\n",
    "        if validation_loss < self.min_validation_loss:\n",
    "            self.min_validation_loss = validation_loss\n",
    "            self.counter = 0\n",
    "        elif validation_loss > (self.min_validation_loss + self.min_delta):\n",
    "            self.counter += 1\n",
    "            if self.counter >= self.patience:\n",
    "                return True\n",
    "        return False"
   ]
  },
  {
   "cell_type": "code",
   "execution_count": null,
   "metadata": {
    "colab": {
     "base_uri": "https://localhost:8080/"
    },
    "executionInfo": {
     "elapsed": 1810,
     "status": "ok",
     "timestamp": 1701532638115,
     "user": {
      "displayName": "Алексей Медведев",
      "userId": "00285943979098250409"
     },
     "user_tz": -180
    },
    "id": "jSkQYKcGAWg3",
    "outputId": "dd570472-9b53-42d9-cbee-fe39a1560881"
   },
   "outputs": [
    {
     "name": "stdout",
     "output_type": "stream",
     "text": [
      "\n",
      "Epoch : 1\n"
     ]
    },
    {
     "name": "stderr",
     "output_type": "stream",
     "text": [
      "100%|██████████| 20/20 [00:00<00:00, 278.16it/s]\n"
     ]
    },
    {
     "name": "stdout",
     "output_type": "stream",
     "text": [
      "Средняя ошибка модели на тренировочной выборке: 0.5768   Средняя точность модели на тренировочной выборке: 0.7563\n",
      "\n",
      "Epoch : 1\n"
     ]
    },
    {
     "name": "stderr",
     "output_type": "stream",
     "text": [
      "100%|██████████| 3/3 [00:00<00:00, 520.17it/s]\n"
     ]
    },
    {
     "name": "stdout",
     "output_type": "stream",
     "text": [
      "Средняя ошибка модели на валидационной выборке: 0.5656   Средняя точность модели на валидационной выборке: 0.8274\n",
      "\n",
      "Epoch : 2\n"
     ]
    },
    {
     "name": "stderr",
     "output_type": "stream",
     "text": [
      "100%|██████████| 20/20 [00:00<00:00, 299.64it/s]\n"
     ]
    },
    {
     "name": "stdout",
     "output_type": "stream",
     "text": [
      "Средняя ошибка модели на тренировочной выборке: 0.3862   Средняя точность модели на тренировочной выборке: 0.8469\n",
      "\n",
      "Epoch : 2\n"
     ]
    },
    {
     "name": "stderr",
     "output_type": "stream",
     "text": [
      "100%|██████████| 3/3 [00:00<00:00, 692.24it/s]\n"
     ]
    },
    {
     "name": "stdout",
     "output_type": "stream",
     "text": [
      "Средняя ошибка модели на валидационной выборке: 0.4734   Средняя точность модели на валидационной выборке: 0.8006\n",
      "\n",
      "Epoch : 3\n"
     ]
    },
    {
     "name": "stderr",
     "output_type": "stream",
     "text": [
      "100%|██████████| 20/20 [00:00<00:00, 288.73it/s]\n"
     ]
    },
    {
     "name": "stdout",
     "output_type": "stream",
     "text": [
      "Средняя ошибка модели на тренировочной выборке: 0.3008   Средняя точность модели на тренировочной выборке: 0.8750\n",
      "\n",
      "Epoch : 3\n"
     ]
    },
    {
     "name": "stderr",
     "output_type": "stream",
     "text": [
      "100%|██████████| 3/3 [00:00<00:00, 521.66it/s]\n"
     ]
    },
    {
     "name": "stdout",
     "output_type": "stream",
     "text": [
      "Средняя ошибка модели на валидационной выборке: 0.3975   Средняя точность модели на валидационной выборке: 0.8750\n",
      "\n",
      "Epoch : 4\n"
     ]
    },
    {
     "name": "stderr",
     "output_type": "stream",
     "text": [
      "100%|██████████| 20/20 [00:00<00:00, 284.12it/s]\n"
     ]
    },
    {
     "name": "stdout",
     "output_type": "stream",
     "text": [
      "Средняя ошибка модели на тренировочной выборке: 0.2334   Средняя точность модели на тренировочной выборке: 0.8906\n",
      "\n",
      "Epoch : 4\n"
     ]
    },
    {
     "name": "stderr",
     "output_type": "stream",
     "text": [
      "100%|██████████| 3/3 [00:00<00:00, 377.32it/s]\n"
     ]
    },
    {
     "name": "stdout",
     "output_type": "stream",
     "text": [
      "Средняя ошибка модели на валидационной выборке: 0.4210   Средняя точность модели на валидационной выборке: 0.8750\n",
      "\n",
      "Epoch : 5\n"
     ]
    },
    {
     "name": "stderr",
     "output_type": "stream",
     "text": [
      "100%|██████████| 20/20 [00:00<00:00, 293.32it/s]\n"
     ]
    },
    {
     "name": "stdout",
     "output_type": "stream",
     "text": [
      "Средняя ошибка модели на тренировочной выборке: 0.2247   Средняя точность модели на тренировочной выборке: 0.8656\n",
      "\n",
      "Epoch : 5\n"
     ]
    },
    {
     "name": "stderr",
     "output_type": "stream",
     "text": [
      "100%|██████████| 3/3 [00:00<00:00, 626.36it/s]\n"
     ]
    },
    {
     "name": "stdout",
     "output_type": "stream",
     "text": [
      "Средняя ошибка модели на валидационной выборке: 0.4230   Средняя точность модели на валидационной выборке: 0.8482\n",
      "\n",
      "Epoch : 6\n"
     ]
    },
    {
     "name": "stderr",
     "output_type": "stream",
     "text": [
      "100%|██████████| 20/20 [00:00<00:00, 293.84it/s]\n"
     ]
    },
    {
     "name": "stdout",
     "output_type": "stream",
     "text": [
      "Средняя ошибка модели на тренировочной выборке: 0.1739   Средняя точность модели на тренировочной выборке: 0.9000\n",
      "\n",
      "Epoch : 6\n"
     ]
    },
    {
     "name": "stderr",
     "output_type": "stream",
     "text": [
      "100%|██████████| 3/3 [00:00<00:00, 412.41it/s]\n"
     ]
    },
    {
     "name": "stdout",
     "output_type": "stream",
     "text": [
      "Средняя ошибка модели на валидационной выборке: 0.5057   Средняя точность модели на валидационной выборке: 0.8214\n",
      "\n",
      "Epoch : 7\n"
     ]
    },
    {
     "name": "stderr",
     "output_type": "stream",
     "text": [
      "100%|██████████| 20/20 [00:00<00:00, 236.77it/s]\n"
     ]
    },
    {
     "name": "stdout",
     "output_type": "stream",
     "text": [
      "Средняя ошибка модели на тренировочной выборке: 0.1699   Средняя точность модели на тренировочной выборке: 0.9094\n",
      "\n",
      "Epoch : 7\n"
     ]
    },
    {
     "name": "stderr",
     "output_type": "stream",
     "text": [
      "100%|██████████| 3/3 [00:00<00:00, 580.77it/s]\n"
     ]
    },
    {
     "name": "stdout",
     "output_type": "stream",
     "text": [
      "Средняя ошибка модели на валидационной выборке: 0.9194   Средняя точность модели на валидационной выборке: 0.8482\n",
      "\n",
      "Epoch : 8\n"
     ]
    },
    {
     "name": "stderr",
     "output_type": "stream",
     "text": [
      "100%|██████████| 20/20 [00:00<00:00, 264.16it/s]\n"
     ]
    },
    {
     "name": "stdout",
     "output_type": "stream",
     "text": [
      "Средняя ошибка модели на тренировочной выборке: 0.1786   Средняя точность модели на тренировочной выборке: 0.8781\n",
      "\n",
      "Epoch : 8\n"
     ]
    },
    {
     "name": "stderr",
     "output_type": "stream",
     "text": [
      "100%|██████████| 3/3 [00:00<00:00, 548.94it/s]\n"
     ]
    },
    {
     "name": "stdout",
     "output_type": "stream",
     "text": [
      "Средняя ошибка модели на валидационной выборке: 0.3794   Средняя точность модели на валидационной выборке: 0.8750\n",
      "\n",
      "Epoch : 9\n"
     ]
    },
    {
     "name": "stderr",
     "output_type": "stream",
     "text": [
      "100%|██████████| 20/20 [00:00<00:00, 277.10it/s]\n"
     ]
    },
    {
     "name": "stdout",
     "output_type": "stream",
     "text": [
      "Средняя ошибка модели на тренировочной выборке: 0.1328   Средняя точность модели на тренировочной выборке: 0.9156\n",
      "\n",
      "Epoch : 9\n"
     ]
    },
    {
     "name": "stderr",
     "output_type": "stream",
     "text": [
      "100%|██████████| 3/3 [00:00<00:00, 387.67it/s]\n"
     ]
    },
    {
     "name": "stdout",
     "output_type": "stream",
     "text": [
      "Средняя ошибка модели на валидационной выборке: 0.7195   Средняя точность модели на валидационной выборке: 0.7530\n",
      "\n",
      "Epoch : 10\n"
     ]
    },
    {
     "name": "stderr",
     "output_type": "stream",
     "text": [
      "100%|██████████| 20/20 [00:00<00:00, 222.60it/s]\n"
     ]
    },
    {
     "name": "stdout",
     "output_type": "stream",
     "text": [
      "Средняя ошибка модели на тренировочной выборке: 0.1686   Средняя точность модели на тренировочной выборке: 0.9000\n",
      "\n",
      "Epoch : 10\n"
     ]
    },
    {
     "name": "stderr",
     "output_type": "stream",
     "text": [
      "100%|██████████| 3/3 [00:00<00:00, 437.91it/s]\n"
     ]
    },
    {
     "name": "stdout",
     "output_type": "stream",
     "text": [
      "Средняя ошибка модели на валидационной выборке: 0.5432   Средняя точность модели на валидационной выборке: 0.8482\n",
      "\n",
      "Epoch : 11\n"
     ]
    },
    {
     "name": "stderr",
     "output_type": "stream",
     "text": [
      "100%|██████████| 20/20 [00:00<00:00, 277.35it/s]\n"
     ]
    },
    {
     "name": "stdout",
     "output_type": "stream",
     "text": [
      "Средняя ошибка модели на тренировочной выборке: 0.1705   Средняя точность модели на тренировочной выборке: 0.8750\n",
      "\n",
      "Epoch : 11\n"
     ]
    },
    {
     "name": "stderr",
     "output_type": "stream",
     "text": [
      "100%|██████████| 3/3 [00:00<00:00, 443.78it/s]\n"
     ]
    },
    {
     "name": "stdout",
     "output_type": "stream",
     "text": [
      "Средняя ошибка модели на валидационной выборке: 0.6180   Средняя точность модели на валидационной выборке: 0.7857\n",
      "\n",
      "Epoch : 12\n"
     ]
    },
    {
     "name": "stderr",
     "output_type": "stream",
     "text": [
      "100%|██████████| 20/20 [00:00<00:00, 304.19it/s]\n"
     ]
    },
    {
     "name": "stdout",
     "output_type": "stream",
     "text": [
      "Средняя ошибка модели на тренировочной выборке: 0.1208   Средняя точность модели на тренировочной выборке: 0.9625\n",
      "\n",
      "Epoch : 12\n"
     ]
    },
    {
     "name": "stderr",
     "output_type": "stream",
     "text": [
      "100%|██████████| 3/3 [00:00<00:00, 596.80it/s]\n"
     ]
    },
    {
     "name": "stdout",
     "output_type": "stream",
     "text": [
      "Средняя ошибка модели на валидационной выборке: 0.5250   Средняя точность модели на валидационной выборке: 0.8690\n",
      "\n",
      "Epoch : 13\n"
     ]
    },
    {
     "name": "stderr",
     "output_type": "stream",
     "text": [
      "100%|██████████| 20/20 [00:00<00:00, 219.92it/s]\n"
     ]
    },
    {
     "name": "stdout",
     "output_type": "stream",
     "text": [
      "Средняя ошибка модели на тренировочной выборке: 0.1277   Средняя точность модели на тренировочной выборке: 0.9281\n",
      "\n",
      "Epoch : 13\n"
     ]
    },
    {
     "name": "stderr",
     "output_type": "stream",
     "text": [
      "100%|██████████| 3/3 [00:00<00:00, 507.11it/s]\n"
     ]
    },
    {
     "name": "stdout",
     "output_type": "stream",
     "text": [
      "Средняя ошибка модели на валидационной выборке: 0.4386   Средняя точность модели на валидационной выборке: 0.8750\n",
      "\n",
      "Epoch : 14\n"
     ]
    },
    {
     "name": "stderr",
     "output_type": "stream",
     "text": [
      "100%|██████████| 20/20 [00:00<00:00, 182.68it/s]\n"
     ]
    },
    {
     "name": "stdout",
     "output_type": "stream",
     "text": [
      "Средняя ошибка модели на тренировочной выборке: 0.1005   Средняя точность модели на тренировочной выборке: 0.9469\n",
      "\n",
      "Epoch : 14\n"
     ]
    },
    {
     "name": "stderr",
     "output_type": "stream",
     "text": [
      "100%|██████████| 3/3 [00:00<00:00, 573.04it/s]\n"
     ]
    },
    {
     "name": "stdout",
     "output_type": "stream",
     "text": [
      "Средняя ошибка модели на валидационной выборке: 0.3907   Средняя точность модели на валидационной выборке: 0.9167\n",
      "\n",
      "Epoch : 15\n"
     ]
    },
    {
     "name": "stderr",
     "output_type": "stream",
     "text": [
      "100%|██████████| 20/20 [00:00<00:00, 158.70it/s]\n"
     ]
    },
    {
     "name": "stdout",
     "output_type": "stream",
     "text": [
      "Средняя ошибка модели на тренировочной выборке: 0.1845   Средняя точность модели на тренировочной выборке: 0.8781\n",
      "\n",
      "Epoch : 15\n"
     ]
    },
    {
     "name": "stderr",
     "output_type": "stream",
     "text": [
      "100%|██████████| 3/3 [00:00<00:00, 628.49it/s]"
     ]
    },
    {
     "name": "stdout",
     "output_type": "stream",
     "text": [
      "Средняя ошибка модели на валидационной выборке: 0.7256   Средняя точность модели на валидационной выборке: 0.8899\n"
     ]
    },
    {
     "name": "stderr",
     "output_type": "stream",
     "text": [
      "\n"
     ]
    }
   ],
   "source": [
    "max_epochs=100\n",
    "best_acc=0.0\n",
    "early_stopper = EarlyStopper(patience=5, min_delta=0.1)\n",
    "for epoch in range(1,max_epochs+1):\n",
    "    train(model,epoch)\n",
    "    val(model,epoch)\n",
    "    if val_accs[-1] > best_acc:\n",
    "       torch.save(model, 'best-model.pt')\n",
    "       best_acc = val_accs[-1]\n",
    "    if early_stopper.early_stop(val_losses[-1]):\n",
    "      break"
   ]
  },
  {
   "cell_type": "code",
   "execution_count": null,
   "metadata": {
    "colab": {
     "base_uri": "https://localhost:8080/"
    },
    "executionInfo": {
     "elapsed": 9,
     "status": "ok",
     "timestamp": 1701532638116,
     "user": {
      "displayName": "Алексей Медведев",
      "userId": "00285943979098250409"
     },
     "user_tz": -180
    },
    "id": "rOEKuQJxPSKd",
    "outputId": "7ae3de23-6c8b-4862-b6cf-d2f40bc95841"
   },
   "outputs": [
    {
     "data": {
      "text/plain": [
       "tensor(0.9167)"
      ]
     },
     "execution_count": 741,
     "metadata": {},
     "output_type": "execute_result"
    }
   ],
   "source": [
    "best_acc"
   ]
  },
  {
   "cell_type": "code",
   "execution_count": null,
   "metadata": {
    "colab": {
     "base_uri": "https://localhost:8080/",
     "height": 425
    },
    "executionInfo": {
     "elapsed": 354,
     "status": "ok",
     "timestamp": 1701532638466,
     "user": {
      "displayName": "Алексей Медведев",
      "userId": "00285943979098250409"
     },
     "user_tz": -180
    },
    "id": "sXqNxmW_Aabu",
    "outputId": "3bbb8a19-62a1-469d-afb0-5f8b5b7a9f62"
   },
   "outputs": [
    {
     "data": {
      "image/png": "[encoded data removed]",
      "text/plain": [
       "<Figure size 2000x500 with 1 Axes>"
      ]
     },
     "metadata": {},
     "output_type": "display_data"
    }
   ],
   "source": [
    "plt.rcParams[\"figure.figsize\"] = (20,5)\n",
    "plt.plot(train_losses,'-o')\n",
    "plt.plot(val_losses,'-o')\n",
    "plt.xlabel('эпоха')\n",
    "plt.ylabel('ошибка')\n",
    "plt.legend(['Обучение','Валидация'])\n",
    "plt.title('Ошибка обучения vs Ошибка валидации')\n",
    "plt.show()"
   ]
  },
  {
   "cell_type": "code",
   "execution_count": null,
   "metadata": {
    "colab": {
     "base_uri": "https://localhost:8080/",
     "height": 423
    },
    "executionInfo": {
     "elapsed": 905,
     "status": "ok",
     "timestamp": 1701532639362,
     "user": {
      "displayName": "Алексей Медведев",
      "userId": "00285943979098250409"
     },
     "user_tz": -180
    },
    "id": "8KtcaXIzAmz-",
    "outputId": "aaf3676a-92d0-4ba0-c095-e858e7bb4543"
   },
   "outputs": [
    {
     "data": {
      "image/png": "[encoded data removed]",
      "text/plain": [
       "<Figure size 2000x500 with 1 Axes>"
      ]
     },
     "metadata": {},
     "output_type": "display_data"
    }
   ],
   "source": [
    "plt.rcParams[\"figure.figsize\"] = (20,5)\n",
    "plt.plot(train_accs,'-o')\n",
    "plt.plot(val_accs,'-o')\n",
    "plt.xlabel('эпоха')\n",
    "plt.ylabel('точность')\n",
    "plt.legend(['Обучение','Валидация'])\n",
    "plt.title('Точность на обучении vs Точночть на валидации')\n",
    "plt.show()"
   ]
  },
  {
   "cell_type": "code",
   "execution_count": null,
   "metadata": {
    "id": "JyEEPcyEOZ4n"
   },
   "outputs": [],
   "source": [
    "model = torch.load('best-model.pt');\n",
    "model.eval();"
   ]
  },
  {
   "cell_type": "code",
   "execution_count": null,
   "metadata": {
    "colab": {
     "base_uri": "https://localhost:8080/"
    },
    "executionInfo": {
     "elapsed": 21,
     "status": "ok",
     "timestamp": 1701532639364,
     "user": {
      "displayName": "Алексей Медведев",
      "userId": "00285943979098250409"
     },
     "user_tz": -180
    },
    "id": "9yeelxajAxHY",
    "outputId": "0d415b20-6558-4a56-935a-928c3855b297"
   },
   "outputs": [
    {
     "name": "stderr",
     "output_type": "stream",
     "text": [
      "100%|██████████| 3/3 [00:00<00:00, 700.18it/s]\n"
     ]
    }
   ],
   "source": [
    "preds=[]\n",
    "trgts=[]\n",
    "with torch.no_grad():\n",
    "  for data in tqdm(test_loader):\n",
    "    inputs, targets=data[0].to(device),data[1].to(device)\n",
    "    outputs=model(inputs)\n",
    "    targets=targets.to('cpu').numpy()\n",
    "    pred = outputs.data.max(1, keepdim=True)[1]\n",
    "    pred = pred.to('cpu').numpy()\n",
    "    trgts.append(targets)\n",
    "    preds.append(pred)"
   ]
  },
  {
   "cell_type": "code",
   "execution_count": null,
   "metadata": {
    "id": "K07efRrmDMsy"
   },
   "outputs": [],
   "source": [
    "targets=[x for sub in trgts for x in sub]\n",
    "predictions=[x[0] for sub in preds for x in sub]\n",
    "targets=np.array(targets)\n",
    "predictions=np.array(predictions)"
   ]
  },
  {
   "cell_type": "code",
   "execution_count": null,
   "metadata": {
    "colab": {
     "base_uri": "https://localhost:8080/",
     "height": 482
    },
    "executionInfo": {
     "elapsed": 544,
     "status": "ok",
     "timestamp": 1701532639896,
     "user": {
      "displayName": "Алексей Медведев",
      "userId": "00285943979098250409"
     },
     "user_tz": -180
    },
    "id": "7lIuac-CDQuv",
    "outputId": "a817c9bd-20a5-4399-87b2-4ca530084696"
   },
   "outputs": [
    {
     "data": {
      "text/plain": [
       "<sklearn.metrics._plot.confusion_matrix.ConfusionMatrixDisplay at 0x7dad3d5cf2e0>"
      ]
     },
     "execution_count": 747,
     "metadata": {},
     "output_type": "execute_result"
    },
    {
     "data": {
      "image/png": "[encoded data removed]",
      "text/plain": [
       "<Figure size 2000x500 with 2 Axes>"
      ]
     },
     "metadata": {},
     "output_type": "display_data"
    }
   ],
   "source": [
    "from sklearn.metrics import confusion_matrix, ConfusionMatrixDisplay, f1_score\n",
    "cm = confusion_matrix(targets, predictions)\n",
    "ConfusionMatrixDisplay(cm).plot()"
   ]
  },
  {
   "cell_type": "code",
   "execution_count": null,
   "metadata": {
    "colab": {
     "base_uri": "https://localhost:8080/"
    },
    "executionInfo": {
     "elapsed": 13,
     "status": "ok",
     "timestamp": 1701532639896,
     "user": {
      "displayName": "Алексей Медведев",
      "userId": "00285943979098250409"
     },
     "user_tz": -180
    },
    "id": "je61MPhFDUHh",
    "outputId": "e3c5ada6-7029-4b32-96bd-66ac8ff36433"
   },
   "outputs": [
    {
     "data": {
      "text/plain": [
       "0.8974358974358975"
      ]
     },
     "execution_count": 748,
     "metadata": {},
     "output_type": "execute_result"
    }
   ],
   "source": [
    "f1_score(targets, predictions,average='micro')"
   ]
  },
  {
   "cell_type": "code",
   "execution_count": null,
   "metadata": {
    "id": "JgxjdOlLDY-I"
   },
   "outputs": [],
   "source": []
  }
 ],
 "metadata": {
  "colab": {
   "authorship_tag": "ABX9TyMo8ChcmLfgDTzZ2q68kT+l",
   "provenance": []
  },
  "kernelspec": {
   "display_name": "Python 3 (ipykernel)",
   "language": "python",
   "name": "python3"
  },
  "language_info": {
   "codemirror_mode": {
    "name": "ipython",
    "version": 3
   },
   "file_extension": ".py",
   "mimetype": "text/x-python",
   "name": "python",
   "nbconvert_exporter": "python",
   "pygments_lexer": "ipython3",
   "version": "3.12.5"
  }
 },
 "nbformat": 4,
 "nbformat_minor": 4
}
